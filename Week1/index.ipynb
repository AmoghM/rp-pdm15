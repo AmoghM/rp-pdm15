{
 "cells": [
  {
   "cell_type": "markdown",
   "metadata": {},
   "source": [
    "<DIV ALIGN=CENTER>\n",
    "\n",
    "# Practical Data Mining  \n",
    "## University of Illinois, Research Park  \n",
    "## Robert J. Brunner  \n",
    "## Fall 2015  \n",
    "  \n",
    "</DIV>  \n",
    "-----\n",
    "-----"
   ]
  },
  {
   "cell_type": "markdown",
   "metadata": {},
   "source": [
    "## Week 1: Data Exploration\n",
    "\n",
    "### Schedule:\n",
    "\n",
    "| Time |  Topic|\n",
    "|---|---|\n",
    "| 6:30-6:45 | Introduction and Setup  | \n",
    "| 6:45-7:25 | Unix Command Line Data Exploration | \n",
    "| 7:25–8:00 | Python Data Exploration | \n",
    "\n",
    "-----\n",
    "\n",
    "### Topic 0: [Course Introduction][t0]:\n",
    "\n",
    "Week One starts with an introduction to the overall course,\n",
    "Virtualization, Dockers, Jupyter Server, and the use of our course\n",
    "Piazza.\n",
    "\n",
    "### Topic 1: [Unix Data Exploration][t1]\n",
    "\n",
    "The first topic this week explores using the Unix command line to\n",
    "perform basic data exploration.\n",
    "\n",
    "### Topic 2: [Python Data Exploration][t2]\n",
    "\n",
    "The second topics for this week uses Python to perform basic data\n",
    "exploration, including a discussion of file access, data manipulation,\n",
    "and basic visualization.\n",
    "\n",
    "### Topic 3:  [Introduction to Regression][t3]\n",
    "\n",
    "Our final topic in the first week is an introduction to regression,\n",
    "where we determine a model approximation to a data set.\n",
    "\n",
    "-----\n",
    "\n",
    "[t0]: introduction.ipynb\n",
    "[t1]: unixde.ipynb\n",
    "[t2]: pyde.ipynb\n",
    "[t3]: intro2regress.ipynb"
   ]
  },
  {
   "cell_type": "markdown",
   "metadata": {
    "collapsed": true
   },
   "source": [
    "### Return to the [Course](../index.ipynb) index.\n",
    "\n",
    "-----"
   ]
  }
 ],
 "metadata": {
  "kernelspec": {
   "display_name": "Python 3",
   "language": "python",
   "name": "python3"
  },
  "language_info": {
   "codemirror_mode": {
    "name": "ipython",
    "version": 3
   },
   "file_extension": ".py",
   "mimetype": "text/x-python",
   "name": "python",
   "nbconvert_exporter": "python",
   "pygments_lexer": "ipython3",
   "version": "3.4.0"
  }
 },
 "nbformat": 4,
 "nbformat_minor": 0
}
