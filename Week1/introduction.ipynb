{
 "cells": [
  {
   "cell_type": "markdown",
   "metadata": {},
   "source": [
    "<DIV ALIGN=CENTER>\n",
    "\n",
    "# Practical Data Mining\n",
    "## University of Illinois, Research Park\n",
    "## Robert J. Brunner\n",
    "## Fall 2015\n",
    "\n",
    "</DIV>  \n",
    "-----\n",
    "-----\n",
    "\n",
    "## Overview\n",
    "\n",
    "- Introduction\n",
    "- Course Overview\n",
    "- Introduction to Gitter/Piazza\n",
    "\n",
    "-----\n"
   ]
  },
  {
   "cell_type": "markdown",
   "metadata": {},
   "source": [
    "## Introduction\n",
    "\n",
    "### Professor[Robert J. Brunner](http://www.astro.illinois.edu/people/bigdog)  \n",
    "### University of Illinois  \n",
    "### ![University Picture of Professor Brunner](http://lcdm.astro.illinois.edu/images/bigdog.png)\n",
    "\n",
    "-----"
   ]
  },
  {
   "cell_type": "markdown",
   "metadata": {},
   "source": [
    "## Course Overview\n",
    "\n",
    "A Practical Data Mining, specifically focusing on exploring and\n",
    "understanding data with an appreciation of techniques that scale to big\n",
    "data.\n",
    "\n",
    "All course material is freely available\n",
    "[online](https://github.com/ProfessorBrunner/rp-pdm15). You will learn\n",
    "how to access the course material later in this lesson.\n",
    "\n",
    "-----\n",
    "\n",
    "### Policies\n",
    "\n",
    "#### Respect\n",
    "\n",
    "In this course, I expect you to be professional with the instructor,\n",
    "your fellow classmates, and the research park staff. \n",
    "\n",
    "#### Interactive\n",
    "\n",
    "I also expect this course to be interactive, you will learn best by\n",
    "doing. Thus, I will introduce concepts, techniques, or tools, and you\n",
    "will try them out in a breakout session. Thus it is important to\n",
    "complete any technology requirements ahead of time to the extent\n",
    "possible.\n",
    "\n",
    "#### Assignments\n",
    "\n",
    "To reinforce material, you will be given short assignments to work on\n",
    "during breakout sessions. You can work on this individually, or in\n",
    "pairs. You also can work on assignments after class, and use the Piazza\n",
    "to communicate with the rest of the class. Later in this lesson you will\n",
    "have a time to find prospective partners.\n",
    "\n",
    "#### Communication\n",
    "\n",
    "I will use the course Piazza to communicate with the full class outside\n",
    "of our normal meeting times. You also can post questions about the\n",
    "course content or about data science in general, and you should also\n",
    "feel free to add your answer or point of view to existing questions on\n",
    "the Piazza from other students.\n",
    "\n",
    "----"
   ]
  },
  {
   "cell_type": "markdown",
   "metadata": {},
   "source": [
    "## Course Syllabus\n",
    "\n",
    "<font color = \"red\">\n",
    "Note: This is a __draft__ version that will be revised as we progress through the course.\n",
    "</font>\n",
    "\n",
    "### Orientation Week :  \n",
    " \n",
    "Install the [Docker](Week0/Docker.md) and the Docker container\n",
    "built for this _Practical Data Mining_ course. You also should visit\n",
    "the course Piazza.\n",
    "\n",
    "### Week 1: Introduction to Data Exploration \n",
    " \n",
    "In Week One, we introduce the basic data exploration at the Unix\n",
    "command line, within an IPython notebook by using Pandas before\n",
    "introducing several useful visualization tools. Next, we move on to\n",
    "non-memory data structures and Spark to explore performance gains by\n",
    "using big data technologies. \n",
    "\n",
    "### Weeks 2: TBD and Regression\n",
    "We finish the first week by introducing\n",
    "regression as a means to construct a model representation of a data set.\n",
    "\n",
    "### Weeks 3-4: TBD\n",
    "\n",
    "\n",
    "----"
   ]
  },
  {
   "cell_type": "markdown",
   "metadata": {},
   "source": [
    "### Gitter\n",
    "\n",
    "To improve communication, especially during the normal class sessions,\n",
    "we will use gitter. Gitter is free to join, and you can communicate with\n",
    "the TA by using this tool.\n",
    "\n",
    "![Gitter Channel](images/gitter.png)\n",
    "\n",
    "You should use your github credentials when using gitter to allow us to\n",
    "more easily help you overcome any problems in the course\n",
    "\n",
    "-----"
   ]
  },
  {
   "cell_type": "markdown",
   "metadata": {},
   "source": [
    "### Piazza\n",
    "\n",
    "To improve communication, especially outside the normal class\n",
    "environment, we will use Piazza. You should have received an invitation\n",
    "to join.\n",
    "\n",
    "![Piazza homepage](images/piazza.png)\n",
    "\n",
    "You should post questions or general comments to Piazza, where either I\n",
    "or your fellow students can answer them. When doing so you should try to\n",
    "use the provided folders to provide background to  your question.\n",
    "\n",
    "-----"
   ]
  },
  {
   "cell_type": "markdown",
   "metadata": {},
   "source": [
    "-----\n",
    "\n",
    "## Breakout Session: Introductions\n",
    "\n",
    "Lets take a break to introduce ourselves to the class.\n",
    "\n",
    "1. Publicly introduce yourself, your company, and what you hope to\n",
    "learn from this class.\n",
    "\n",
    "2. While listening to others, post an introductory post in the general\n",
    "folder of the course Piazza, and a simple \"Hello Edward!\" message in the\n",
    "course's gitter channel.\n",
    "\n",
    "Suggestions for items to include in your post:\n",
    "\n",
    "- Your full name\n",
    "- Any nickname you prefer to use\n",
    "- The company for which you work\n",
    "- What you hope to get out of this course\n",
    "- Any big data experience that you would like to share\n",
    "- Your connection to the University of Illinois\n",
    "\n",
    "You also can use this session to find a partner for working on the\n",
    "course assignments.\n",
    "\n",
    "-----"
   ]
  },
  {
   "cell_type": "markdown",
   "metadata": {},
   "source": [
    "### Return to the [Week 1 Index](index.ipynb) page.\n",
    "\n",
    "-----"
   ]
  }
 ],
 "metadata": {
  "kernelspec": {
   "display_name": "Python 3",
   "language": "python",
   "name": "python3"
  },
  "language_info": {
   "codemirror_mode": {
    "name": "ipython",
    "version": 3
   },
   "file_extension": ".py",
   "mimetype": "text/x-python",
   "name": "python",
   "nbconvert_exporter": "python",
   "pygments_lexer": "ipython3",
   "version": "3.4.0"
  }
 },
 "nbformat": 4,
 "nbformat_minor": 0
}
