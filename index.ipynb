{
 "cells": [
  {
   "cell_type": "markdown",
   "metadata": {},
   "source": [
    "\n",
    "<DIV ALIGN=CENTER>\n",
    "\n",
    "# Practical Data Mining\n",
    "## University of Illinois, Research Park  \n",
    "### Instructor: Robert J. Brunner  \n",
    "### Assistant: Edward J. Kim\n",
    "### Fall 2015\n",
    "\n",
    "</DIV>  \n",
    "-----\n",
    "-----"
   ]
  },
  {
   "cell_type": "markdown",
   "metadata": {},
   "source": [
    "# Course Schedule\n",
    "\n",
    "This four week course is designed to introduce basic data mining skills\n",
    "required by a data scientist. Following the course, individuals may\n",
    "request private consulting in order to apply these concepts to\n",
    "non-public data. This course will be covering a wide range of material\n",
    "in a limited time. Thus some sections will be skimmed or skipped\n",
    "depending on time and the interests of the class. All material, however,\n",
    "can be downloaded and run locally to reinforce specific concepts.\n",
    "\n",
    "\n",
    "## Orientation: Virtualization, Docker, and Github\n",
    "\n",
    "In order to be more prepared to participate in the course, we ask all\n",
    "students to download and install the Docker technology and the course\n",
    "Docker image. Students also may find it helpful to become familiar with\n",
    "Virtualization, Github, gitter, and `git`.\n",
    "\n",
    "## Week 1: Introduction to Data Exploration and Regression\n",
    "\n",
    "In [Week One][w1], we introduce the basic data exploration at the Unix\n",
    "command line, within an IPython notebook by using Pandas before\n",
    "introducing several useful visualization tools. Next, we move on to\n",
    "non-memory data structures and Spark to explore performance gains by\n",
    "using big data technologies. We finish the first week by introducing\n",
    "regression as a means to construct a model representation of a data set.\n",
    "\n",
    "## Weeks 2-4: TBD\n",
    "\n",
    "-----\n",
    "\n",
    "[w1]: Week1/index.ipynb\n"
   ]
  },
  {
   "cell_type": "code",
   "execution_count": 2,
   "metadata": {
    "collapsed": false
   },
   "outputs": [
    {
     "name": "stdout",
     "output_type": "stream",
     "text": [
      "Research Park, One-Day Introductory Data Science Course\n",
      "-------------------------------------------------------\n",
      "Python Version:       3.4\n",
      "Numpy Version:        1.9.0\n",
      "Pandas Version:       0.16.2\n",
      "SQLite3 Version:      3.8.2\n",
      "SQL3 Driver Version:  2.6.0\n",
      "Matplotlib Version:   1.4.3\n",
      "Seaborn Version:      0.6.0\n",
      "Scikit Learn Version: 0.16.1\n"
     ]
    }
   ],
   "source": [
    "# Output current version of software tools used in this course:\n",
    "\n",
    "import sys\n",
    "import numpy as np\n",
    "import pandas as pd\n",
    "import sqlite3 as sql3\n",
    "import matplotlib as mpl\n",
    "import seaborn as sns\n",
    "import sklearn as skl\n",
    "\n",
    "print(\"Research Park, One-Day Introductory Data Science Course\")\n",
    "print(\"-\"*55)\n",
    "pv = sys.version_info\n",
    "print(\"Python Version:       {0}.{1}\".format(pv.major, pv.minor))\n",
    "print(\"Numpy Version:        {0}\".format(np.__version__))\n",
    "print(\"Pandas Version:       {0}\".format(pd.__version__))\n",
    "print(\"SQLite3 Version:      {0}\".format(sql3.sqlite_version))\n",
    "print(\"SQL3 Driver Version:  {0}\".format(sql3.version))\n",
    "print(\"Matplotlib Version:   {0}\".format(mpl.__version__))\n",
    "print(\"Seaborn Version:      {0}\".format(sns.__version__))\n",
    "print(\"Scikit Learn Version: {0}\".format(skl.__version__))"
   ]
  },
  {
   "cell_type": "markdown",
   "metadata": {},
   "source": [
    "-----\n",
    "\n",
    "The _Practical Data Science_ course [License](LICENSE.md)\n",
    "\n",
    "-----"
   ]
  }
 ],
 "metadata": {
  "kernelspec": {
   "display_name": "Python 3",
   "language": "python",
   "name": "python3"
  },
  "language_info": {
   "codemirror_mode": {
    "name": "ipython",
    "version": 3
   },
   "file_extension": ".py",
   "mimetype": "text/x-python",
   "name": "python",
   "nbconvert_exporter": "python",
   "pygments_lexer": "ipython3",
   "version": "3.4.0"
  }
 },
 "nbformat": 4,
 "nbformat_minor": 0
}
