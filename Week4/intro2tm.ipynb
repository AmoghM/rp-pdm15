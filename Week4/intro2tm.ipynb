{
 "cells": [
  {
   "cell_type": "markdown",
   "metadata": {},
   "source": [
    "<DIV ALIGN=CENTER>\n",
    "\n",
    "# Introduction to Text Mining\n",
    "## Professor Robert J. Brunner\n",
    "  \n",
    "</DIV>  \n",
    "-----\n",
    "-----"
   ]
  },
  {
   "cell_type": "markdown",
   "metadata": {},
   "source": [
    "\n",
    "## Introduction\n",
    "\n",
    "In this IPython Notebook, we introduce text data mining. This is a\n",
    "powerful, yet sometimes intimidating topic that finds applications in a\n",
    "number of different areas: product reviews, sentiment analysis, and\n",
    "document classification. Part of the challenge lies in the difficulty of\n",
    "applying mathematical algorithms to (potentially very large) character\n",
    "data sets. In Python, however, this challenge is considerably simplified\n",
    "by using the scikit learn machine learning library.\n",
    "\n",
    "-----\n",
    "\n",
    "### Data\n",
    "\n",
    "For this week's analysis, we will analyze the [twenty newsgroup][tng]\n",
    "data set. We first download this data (scikit learn has built in methods\n",
    "for doing this, however, we have cached a copy locally on our server).\n",
    "The data are made available via a custom object, but we can access the\n",
    "data of interest by using dictionary keys. Before delving into text data\n",
    "mining, we first explore this data over several code cells to understand\n",
    "more about the task at hand.\n",
    "\n",
    "-----\n",
    "\n",
    "[tng]: http://kdd.ics.uci.edu/databases/20newsgroups/20newsgroups.data.html"
   ]
  },
  {
   "cell_type": "code",
   "execution_count": 1,
   "metadata": {
    "collapsed": false
   },
   "outputs": [],
   "source": [
    "# load dataset\n",
    "from sklearn.datasets import fetch_20newsgroups\n",
    "\n",
    "train = fetch_20newsgroups(data_home='/home/data_scientist/data/textdm', subset='train', shuffle=True, random_state=23)\n",
    "test = fetch_20newsgroups(data_home='/home/data_scientist/data/textdm', subset='test', shuffle=True, random_state=23)"
   ]
  },
  {
   "cell_type": "code",
   "execution_count": 2,
   "metadata": {
    "collapsed": false
   },
   "outputs": [],
   "source": [
    "# Uncomment to explore training and testing data\n",
    "# help(train)"
   ]
  },
  {
   "cell_type": "code",
   "execution_count": 3,
   "metadata": {
    "collapsed": false
   },
   "outputs": [
    {
     "data": {
      "text/plain": [
       "dict_keys(['data', 'filenames', 'DESCR', 'target_names', 'target'])"
      ]
     },
     "execution_count": 3,
     "metadata": {},
     "output_type": "execute_result"
    }
   ],
   "source": [
    "# The data can be accessed via Dictionary keys\n",
    "\n",
    "train.keys()"
   ]
  },
  {
   "cell_type": "code",
   "execution_count": 4,
   "metadata": {
    "collapsed": false
   },
   "outputs": [
    {
     "name": "stdout",
     "output_type": "stream",
     "text": [
      "['alt.atheism', 'comp.graphics', 'comp.os.ms-windows.misc', 'comp.sys.ibm.pc.hardware', 'comp.sys.mac.hardware', 'comp.windows.x', 'misc.forsale', 'rec.autos', 'rec.motorcycles', 'rec.sport.baseball', 'rec.sport.hockey', 'sci.crypt', 'sci.electronics', 'sci.med', 'sci.space', 'soc.religion.christian', 'talk.politics.guns', 'talk.politics.mideast', 'talk.politics.misc', 'talk.religion.misc']\n"
     ]
    }
   ],
   "source": [
    "print(train['target_names'])"
   ]
  },
  {
   "cell_type": "code",
   "execution_count": 5,
   "metadata": {
    "collapsed": false
   },
   "outputs": [
    {
     "name": "stdout",
     "output_type": "stream",
     "text": [
      "Number of Training Samples: 11314\n",
      "Number of Testing Samples: 7532\n"
     ]
    }
   ],
   "source": [
    "print(\"Number of Training Samples: {0}\".format(len(train['data'])))\n",
    "print(\"Number of Testing Samples: {0}\".format(len(test['data'])))"
   ]
  },
  {
   "cell_type": "code",
   "execution_count": 6,
   "metadata": {
    "collapsed": false
   },
   "outputs": [
    {
     "name": "stdout",
     "output_type": "stream",
     "text": [
      "Class Number = 3\n",
      "Class Name = comp.sys.ibm.pc.hardware\n",
      "---------------------------------------------------------------------------\n",
      "From: rnichols@cbnewsg.cb.att.com (robert.k.nichols)\n",
      "Subject: Re: how to search for bad memory chips.\n",
      "Organization: AT&T\n",
      "Distribution: na\n",
      "Lines: 29\n",
      "\n",
      "In article <N5s42B8w165w@c-cat.UUCP> david@c-cat.UUCP (Dave) writes:\n",
      ">i came upon this idea i would like to share with everyone.\n",
      ">\n",
      ">to check for bad memory chips\n",
      ">\n",
      ">1. create a boot disk with emm386 himem.sys and ramdrive.sys in the\n",
      ">   config/autoexec.bat.\n",
      ">\n",
      ">2. boot the PC to create a RAM drive as large as possible.\n",
      ">\n",
      ">3. use a disk repair utility ( I use NDD ). Run it on the RAM\n",
      ">        drive, yes it will run, its only a device driver\n",
      ">\n",
      ">4. run 1000 or so passes, they go very quick\n",
      ">\n",
      ">5. if your machine fails, there is a definate bad memory chip\n",
      ">\n",
      ">6. if your machine passes, there is a conflict with programs you\n",
      ">        are loading in memory.\n",
      "...\n",
      "\n",
      "It's an interesting idea, but the worst-case data patterns developed to\n",
      "test magnetic media are totally different than the patterns used to detect\n",
      "common faults in memory chips.\n",
      "\n",
      "--\n",
      "Bob Nichols\n",
      "AT&T Bell Laboratories\n",
      "rnichols@ihlpm.ih.att.com\n",
      "\n"
     ]
    }
   ],
   "source": [
    "item_number = 250\n",
    "print(\"Class Number = {0}\".format(train['target'][item_number]))\n",
    "print(\"Class Name = {0}\".format(train['target_names'][train['target'][item_number]]))\n",
    "print(\"-\"*75)\n",
    "print(train['data'][item_number])"
   ]
  },
  {
   "cell_type": "markdown",
   "metadata": {},
   "source": [
    "### Bag of Words\n",
    "\n",
    "A simple question about text data mining that you might have is _How\n",
    "does one classify documents made up of words when machine learning\n",
    "algorithms work on numerical data?_ The simple answer is we need to\n",
    "build a numerical summary of a data set that our algorithms can\n",
    "manipulate. A conceptually easy approach  to implement this idea is to\n",
    "identify all possible words in the documents of interest and to track the\n",
    "number of times each words occurs in specific documents. This produces a\n",
    "(very) sparse matrix for our sample of documents, where the columns are\n",
    "the possible words (or tokens) and the rows are different documents. \n",
    "\n",
    "This concept, where one tokenizes documents to build these sparse\n",
    "matrices is more formally known as _bag of words_, because we effectively\n",
    "create the [bag of words][bwd] out of which are documents are\n",
    "constructed. In the bag of words model, each document can be mapped into\n",
    "a vector, where the individual elements correspond to the number of\n",
    "times the words (associated with the particular column) appears in the\n",
    "document.\n",
    "\n",
    "With scikit learn, we can use the `CountVectorizer` to break our\n",
    "document into tokens (in this case words), which are used to construct\n",
    "our _bag of words_ for the given set of documents. Given this tokenizer,\n",
    "we first need to construct the list of tokens, which we do with the\n",
    "`fit` method. Second, we need to transform our documents into this\n",
    "sparse matrix, which we do with the `transform` method. Since both steps\n",
    "use the same input dta, there is a convenience method to perform both\n",
    "operations at the same time, called `fit_transform`.\n",
    "\n",
    "-----\n",
    "[bwd]: https://en.wikipedia.org/wiki/Bag-of-words_model"
   ]
  },
  {
   "cell_type": "code",
   "execution_count": 7,
   "metadata": {
    "collapsed": true
   },
   "outputs": [],
   "source": [
    "from sklearn.feature_extraction.text import CountVectorizer\n",
    "cv = CountVectorizer()"
   ]
  },
  {
   "cell_type": "code",
   "execution_count": 8,
   "metadata": {
    "collapsed": false
   },
   "outputs": [
    {
     "name": "stdout",
     "output_type": "stream",
     "text": [
      "CountVectorizer(analyzer='word', binary=False, decode_error='strict',\n",
      "        dtype=<class 'numpy.int64'>, encoding='utf-8', input='content',\n",
      "        lowercase=True, max_df=1.0, max_features=None, min_df=1,\n",
      "        ngram_range=(1, 1), preprocessor=None, stop_words=None,\n",
      "        strip_accents=None, token_pattern='(?u)\\\\b\\\\w\\\\w+\\\\b',\n",
      "        tokenizer=None, vocabulary=None)\n"
     ]
    }
   ],
   "source": [
    "print(cv)"
   ]
  },
  {
   "cell_type": "markdown",
   "metadata": {},
   "source": [
    "-----\n",
    "\n",
    "Given the `CountVectorizer` we can see the number of words in our _bag_\n",
    "as well as the number of documents on which we train, which in this case\n",
    "agrees with the values we obtained when we read in the data.\n",
    "\n",
    "-----"
   ]
  },
  {
   "cell_type": "code",
   "execution_count": 9,
   "metadata": {
    "collapsed": false
   },
   "outputs": [
    {
     "data": {
      "text/plain": [
       "(11314, 130107)"
      ]
     },
     "execution_count": 9,
     "metadata": {},
     "output_type": "execute_result"
    }
   ],
   "source": [
    "train_counts = cv.fit_transform(train['data'])\n",
    "train_counts.shape"
   ]
  },
  {
   "cell_type": "markdown",
   "metadata": {},
   "source": [
    "-----\n",
    "\n",
    "We can grab the words in opur _bag of words_ by extracting the _vocubulary_. This allows us to see if words are present in the documents.\n",
    "\n",
    "-----"
   ]
  },
  {
   "cell_type": "code",
   "execution_count": 10,
   "metadata": {
    "collapsed": false
   },
   "outputs": [
    {
     "name": "stdout",
     "output_type": "stream",
     "text": [
      "99908\n",
      "Arbitrary Word = reboot: Count = 99908\n",
      "Max Word = ýé: Count = 130106\n",
      "Min Word = 00: Count = 0\n"
     ]
    }
   ],
   "source": [
    "words = cv.vocabulary_\n",
    "\n",
    "my_word = u'reboot'\n",
    "print(words.get(my_word))\n",
    "\n",
    "print(\"Arbitrary Word = {0}: Count = {1}\".format(my_word, words[my_word]))\n",
    "\n",
    "print(\"Max Word = {0}: Count = {1}\".format(max(words), words[max(words)]))\n",
    "print(\"Min Word = {0}: Count = {1}\".format(min(words), words[min(words)]))"
   ]
  },
  {
   "cell_type": "code",
   "execution_count": 11,
   "metadata": {
    "collapsed": false
   },
   "outputs": [
    {
     "data": {
      "text/plain": [
       "[('waffles', 123019),\n",
       " ('molesey', 83422),\n",
       " ('emcnext2', 51343),\n",
       " ('junghanns', 71030),\n",
       " ('trident', 116488),\n",
       " ('fft', 55083),\n",
       " ('85mph', 20514),\n",
       " ('bawling', 32115),\n",
       " ('2777', 10110),\n",
       " ('tipper', 115228)]"
      ]
     },
     "execution_count": 11,
     "metadata": {},
     "output_type": "execute_result"
    }
   ],
   "source": [
    "list(words.items())[:10]"
   ]
  },
  {
   "cell_type": "markdown",
   "metadata": {},
   "source": [
    "## Classification\n",
    "\n",
    "To this point, we have identified the features (or tokens in the\n",
    "training documents) that we should use to classify our documents. But\n",
    "this potential obscures the challenge of actually classifying documents.\n",
    "Before introducing our first classification technique, examine one\n",
    "document that is in our test data set. \n",
    "\n",
    "What typs of issues do you foresee in classifying documents like the one\n",
    "shown?\n",
    "\n",
    "-----"
   ]
  },
  {
   "cell_type": "code",
   "execution_count": 12,
   "metadata": {
    "collapsed": false
   },
   "outputs": [
    {
     "name": "stdout",
     "output_type": "stream",
     "text": [
      "Class Number = 6\n",
      "Class Name = misc.forsale\n",
      "---------------------------------------------------------------------------\n",
      "From: jks2x@holmes.acc.Virginia.EDU (Jason K. Schechner)\n",
      "Subject: Re: AN12 AIRCRAFT FOR SALE OR LEASING\n",
      "Keywords: AIRCRAFT SALE\n",
      "Organization: University of Virginia\n",
      "Lines: 43\n",
      "\n",
      "In article <AA9KerhuZ7@rtools.msk.su> slavik@rtools.msk.su writes:\n",
      ">\n",
      ">Our firm is in a position to either sell or lease  the serverses\n",
      ">of one AN-12 air cargo transport aircraft  (with the complete\n",
      ">technical repair in 1993 ).\n",
      ">\n",
      ">Terms of Delivery:\n",
      ">\n",
      ">1. The price of the aircraft is $840000.\n",
      ">\n",
      ">2. The price of leasing is $42800 per month with the guarantee\n",
      ">    flight time more than 60 hours.\n",
      ">\n",
      ">    This price includes :\n",
      ">        a) the price of the aircraft.\n",
      ">        b) the price of insurance of the aircraft and the pilots.\n",
      ">\n",
      ">   The price of leasing does not include :\n",
      ">        a) the fuel price.\n",
      ">        b) the price of technical service.\n",
      ">        c) taxes , airport taxes, air navigations expenses, the\n",
      ">               payments of hangspace.\n",
      ">        d) loading,  unloading and  insurance cargo.\n",
      ">        e) days payments for pilot, food and accomodation\n",
      ">               expenses,transport expenses.\n",
      ">\n",
      ">Terms are negotiable.\n",
      ">\n",
      ">If you are interested, please contact at your earliest convenients.\n",
      ">Respectedly Yours.\n",
      ">Andrey Divaev.\n",
      ">MOSCOW tel: (095) 305-71-30  fax: (095) 305-72-60\n",
      ">>\"Rusian Tools\" Ltd. Co.\n",
      "\n",
      "\tCalling Bill Gates, calling Bill Gates....\n",
      "\n",
      "\n",
      "-Jason\n",
      "-- \n",
      "Settle down, raise a family join the PTA, \n",
      "buy some sensible shoes, and a Chevrolet\n",
      "And party 'till you're broke and they drag you away. It's ok.\n",
      "\t\t\t\t\tAl Yankovic\n",
      "\n"
     ]
    }
   ],
   "source": [
    "test_message = 100\n",
    "\n",
    "print(\"Class Number = {0}\".format(test['target'][test_message]))\n",
    "print(\"Class Name = {0}\".format(test['target_names'][test['target'][test_message]]))\n",
    "print(\"-\"*75)\n",
    "print(test['data'][test_message])"
   ]
  },
  {
   "cell_type": "code",
   "execution_count": 13,
   "metadata": {
    "collapsed": false
   },
   "outputs": [],
   "source": [
    "test_data = cv.transform(test['data'])"
   ]
  },
  {
   "cell_type": "markdown",
   "metadata": {},
   "source": [
    "### Naive Bayes Classifier\n",
    "\n",
    "One of the (if not the) simplest techniques for perfomring text\n",
    "classification is the [Naive Bayes classifier][nbd]. This technique is\n",
    "popular, in part because of its simplicity, yet it also provides a quick\n",
    "technique that can provide reasonable results. Fundamentally this method\n",
    "applies Bayes theorem by (naively) assuming independence between the\n",
    "features. In scikit learn, we will use a [Multinomial Naive Bayes][nbapi]\n",
    "model, where we treat each feature independently. Thus we calculate the\n",
    "likelihood of a feature corresponding to each training label, and the\n",
    "accumulation of these likelihoods provides our overall classification.\n",
    "By working with log-likelihoods, this accumulation becomes a simple sum.\n",
    "\n",
    "-----\n",
    "\n",
    "[nbd]: https://en.wikipedia.org/wiki/Naive_Bayes_classifier\n",
    "[nbapi]: http://scikit-learn.org/stable/modules/generated/sklearn.feature_extraction.text.CountVectorizer.html#sklearn.feature_extraction.text.CountVectorizer\n",
    "\n"
   ]
  },
  {
   "cell_type": "code",
   "execution_count": 14,
   "metadata": {
    "collapsed": false
   },
   "outputs": [
    {
     "name": "stdout",
     "output_type": "stream",
     "text": [
      "NB prediction accuracy =  77.3%\n"
     ]
    }
   ],
   "source": [
    "from sklearn.naive_bayes import MultinomialNB\n",
    "\n",
    "clf = MultinomialNB().fit(train_counts, train['target'])\n",
    "\n",
    "predicted = clf.predict(test_data)\n",
    "\n",
    "print(\"NB prediction accuracy = {0:5.1f}%\".format(100.0 * clf.score(test_data, test['target'])))\n"
   ]
  },
  {
   "cell_type": "markdown",
   "metadata": {},
   "source": [
    "-----\n",
    "\n",
    "We can also use the built-in `metrics` methods to display more\n",
    "information about the classification results, including as a function of\n",
    "the different labels.\n",
    "\n",
    "-----"
   ]
  },
  {
   "cell_type": "code",
   "execution_count": 15,
   "metadata": {
    "collapsed": false
   },
   "outputs": [
    {
     "name": "stdout",
     "output_type": "stream",
     "text": [
      "                          precision    recall  f1-score   support\n",
      "\n",
      "             alt.atheism       0.79      0.77      0.78       319\n",
      "           comp.graphics       0.67      0.74      0.70       389\n",
      " comp.os.ms-windows.misc       0.20      0.00      0.01       394\n",
      "comp.sys.ibm.pc.hardware       0.56      0.77      0.65       392\n",
      "   comp.sys.mac.hardware       0.84      0.75      0.79       385\n",
      "          comp.windows.x       0.65      0.84      0.73       395\n",
      "            misc.forsale       0.93      0.65      0.77       390\n",
      "               rec.autos       0.87      0.91      0.89       396\n",
      "         rec.motorcycles       0.96      0.92      0.94       398\n",
      "      rec.sport.baseball       0.96      0.87      0.91       397\n",
      "        rec.sport.hockey       0.93      0.96      0.95       399\n",
      "               sci.crypt       0.67      0.95      0.78       396\n",
      "         sci.electronics       0.79      0.66      0.72       393\n",
      "                 sci.med       0.87      0.82      0.85       396\n",
      "               sci.space       0.83      0.89      0.86       394\n",
      "  soc.religion.christian       0.70      0.96      0.81       398\n",
      "      talk.politics.guns       0.69      0.91      0.79       364\n",
      "   talk.politics.mideast       0.85      0.94      0.89       376\n",
      "      talk.politics.misc       0.58      0.63      0.60       310\n",
      "      talk.religion.misc       0.89      0.33      0.49       251\n",
      "\n",
      "             avg / total       0.76      0.77      0.75      7532\n",
      "\n"
     ]
    }
   ],
   "source": [
    "from sklearn import metrics\n",
    "print(metrics.classification_report(test['target'], predicted,\n",
    "    target_names = test['target_names']))"
   ]
  },
  {
   "cell_type": "markdown",
   "metadata": {},
   "source": [
    "-----\n",
    "\n",
    "We can also visually display the confusion matrix (where we show how\n",
    "documents were misclassifid) by using Seaborn to create a heatmap visual.\n",
    "First we create our confusion matrix method, which we subsequently use to\n",
    "display the results from our Naive Bayes model.\n",
    "\n",
    "-----"
   ]
  },
  {
   "cell_type": "code",
   "execution_count": 16,
   "metadata": {
    "collapsed": true
   },
   "outputs": [],
   "source": [
    "%matplotlib inline\n",
    "\n",
    "import numpy as np\n",
    "import pandas as pd\n",
    "\n",
    "import seaborn as sns\n",
    "import matplotlib.pyplot as plt\n",
    "\n",
    "sns.set(style=\"white\", context='paper', font='monospace')\n",
    "\n",
    "# Convenience function to plot confusion matrix\n",
    "\n",
    "# This method produces a colored heatmap that displays the relationship\n",
    "# between predicted and actual types from a machine leanring method.\n",
    "\n",
    "def confusion(test, predict, title):\n",
    "\n",
    "    f, ax = plt.subplots(figsize=(12, 8))\n",
    "\n",
    "    # Make a 2D histogram from the test and result arrays\n",
    "    pts, xe, ye = np.histogram2d(test, predict, bins=20)\n",
    "\n",
    "    # For simplicity we create a new DataFrame\n",
    "    pd_pts = pd.DataFrame(pts.astype(int))\n",
    "    \n",
    "    # Display heatmap and add decorations\n",
    "    hm = sns.heatmap(pd_pts, annot=True, fmt=\"d\")\n",
    "    hm.axes.set_title(title)\n",
    "    \n",
    "    return None"
   ]
  },
  {
   "cell_type": "code",
   "execution_count": 17,
   "metadata": {
    "collapsed": false
   },
   "outputs": [
    {
     "data": {
      "image/png": "[encoded data removed]",
      "text/plain": [
       "<matplotlib.figure.Figure at 0x7f4c39892080>"
      ]
     },
     "metadata": {},
     "output_type": "display_data"
    }
   ],
   "source": [
    "confusion(test['target'], predicted, 'Naive Bayes Model')"
   ]
  },
  {
   "cell_type": "markdown",
   "metadata": {},
   "source": [
    "### Stop Words\n",
    "\n",
    "Text documents often contain many occurrences of the same word. For\n",
    "example, in a document written in _English_, words such as _a_, _the_,\n",
    "_of_, and _it_ likely occur very frequently. When classifying a document\n",
    "based on the number of times specific words occur in the text document,\n",
    "these words can lead to biases, especially since they are generally\n",
    "common in **all** text documents you might want to classify. As a\n",
    "result, the concept of [_stop words_][swd] was invented. Basically these\n",
    "words are the most commonly occurring words that should be removed during\n",
    "the tokenization process in order to improve subsequent classification\n",
    "efforts. \n",
    "\n",
    "We can easily specify that the __English__ stop words should be\n",
    "excluded during tokenization by using the `stop_words` parameter as\n",
    "shown below. Note that with this simple change, our classification\n",
    "accuracy has increased.\n",
    "\n",
    "-----\n",
    "[swd]: https://en.wikipedia.org/wiki/Stop_words"
   ]
  },
  {
   "cell_type": "code",
   "execution_count": 18,
   "metadata": {
    "collapsed": false
   },
   "outputs": [
    {
     "name": "stdout",
     "output_type": "stream",
     "text": [
      "NB prediction accuracy =  80.2%\n"
     ]
    }
   ],
   "source": [
    "cv = CountVectorizer(stop_words = 'english')\n",
    "train_counts = cv.fit_transform(train['data'])\n",
    "test_data = cv.transform(test['data'])\n",
    "\n",
    "clf = MultinomialNB().fit(train_counts, train['target'])\n",
    "\n",
    "predicted = clf.predict(test_data)\n",
    "\n",
    "print(\"NB prediction accuracy = {0:5.1f}%\".format(100.0 * clf.score(test_data, test['target'])))\n",
    "\n"
   ]
  },
  {
   "cell_type": "code",
   "execution_count": null,
   "metadata": {
    "collapsed": false
   },
   "outputs": [
    {
     "data": {
      "image/png": "[encoded data removed]",
      "text/plain": [
       "<matplotlib.figure.Figure at 0x7f4c2e1557f0>"
      ]
     },
     "metadata": {},
     "output_type": "display_data"
    }
   ],
   "source": [
    "confusion(test['target'], predicted, 'SGD TFIDF Model')"
   ]
  },
  {
   "cell_type": "markdown",
   "metadata": {},
   "source": [
    "## n-grams\n",
    "\n",
    "Formally, a [_n-gram_][ngd] is a contiguous sequence of **n** items from a\n",
    "parent sequence of items, such as characters or words in a text\n",
    "document. In general, we will focus solely on words in a document. Thus,\n",
    "our initial approach has simply been to look at unigrams or single\n",
    "words in a document when building a classification model. However,\n",
    "sometimes the combination of words can be more descriptive, for example,\n",
    "_unbelievably bad_ is generally viewed as a more powerful description\n",
    "than just _bad_. As a result, the concept of an _n-gram_ was created,\n",
    "where collections of words can be treated as features. In fact google\n",
    "allows a user to search for [specific n-gram][gnv] combinations in books that\n",
    "they have scanned.\n",
    "\n",
    "While this clearly can improve classification power, it also increases\n",
    "computational requirements. This is a result of the exponential rise in\n",
    "the number of possible features. For example, given $n$ words, we have\n",
    "$n \\times (n - 1)$ possible bigrams, and so on for higher order\n",
    "combinations. While this is not a problem for small vocabularies, for\n",
    "larger vocabularies (and corresponding documents) the number of possible\n",
    "features can quickly become very large. Thus, many text mining\n",
    "applications will make use of Hadoop or Spark clusters to leverage the\n",
    "inherent parallelism in these tasks.\n",
    "\n",
    "To demonstrate using n-grams, the following code example builds a\n",
    "feature vector containing both ingle words and b-grams from the\n",
    "documents. We use this new sparse matrix to classify the documents by\n",
    "using our simple Naive Bayes classifier, which obtains slightly better\n",
    "results.\n",
    "\n",
    "-----\n",
    "[gnv]: https://books.google.com/ngrams\n",
    "[ngd]: https://en.wikipedia.org/wiki/N-gram"
   ]
  },
  {
   "cell_type": "code",
   "execution_count": null,
   "metadata": {
    "collapsed": false
   },
   "outputs": [],
   "source": [
    "cv = CountVectorizer(stop_words = 'english', ngram_range=(1,2))\n",
    "train_counts = cv.fit_transform(train['data'])\n",
    "test_data = cv.transform(test['data'])\n",
    "\n",
    "clf = MultinomialNB().fit(train_counts, train['target'])\n",
    "\n",
    "predicted = clf.predict(test_data)\n",
    "\n",
    "print(\"NB prediction accuracy = {0:5.1f}%\".format(100.0 * clf.score(test_data, test['target'])))"
   ]
  },
  {
   "cell_type": "code",
   "execution_count": null,
   "metadata": {
    "collapsed": false
   },
   "outputs": [],
   "source": [
    "confusion(test['target'], predicted, 'NB bi-grams TFIDF Model')"
   ]
  },
  {
   "cell_type": "markdown",
   "metadata": {},
   "source": [
    "-----\n",
    "\n",
    "We can also set the maximum number of features, via the `max_features`\n",
    "parameter, which in the following example means single words, bi-grams,\n",
    "and tri-grams that are used in the sparse matrix. The limit will be to\n",
    "the most frequently used tokens, which ideally will produce more\n",
    "accurate classifications. \n",
    "\n",
    "\n",
    "-----"
   ]
  },
  {
   "cell_type": "code",
   "execution_count": null,
   "metadata": {
    "collapsed": false
   },
   "outputs": [],
   "source": [
    "cv = CountVectorizer(stop_words = 'english', ngram_range=(1,3), max_features=5000)\n",
    "train_counts = cv.fit_transform(train['data'])\n",
    "test_data = cv.transform(test['data'])"
   ]
  },
  {
   "cell_type": "code",
   "execution_count": null,
   "metadata": {
    "collapsed": false
   },
   "outputs": [],
   "source": [
    "clf = MultinomialNB().fit(train_counts, train['target'])\n",
    "\n",
    "print(\"NB prediction accuracy = {0:5.1f}%\".format(100.0 * clf.score(test_data, test['target'])))\n",
    "\n",
    "# predicted = clf.predict(test_data)"
   ]
  },
  {
   "cell_type": "markdown",
   "metadata": {},
   "source": [
    "-----\n",
    "\n",
    "### Tweet Data Test\n",
    "\n",
    "Having built a tokenizer, and initialized a classifier, we can now apply\n",
    "these tools to new data. In the following example, we grab several tweets\n",
    "from the Week 3 to se how well our classifier works on these new, unseen\n",
    "data. Not surprisingly, the classifier generally produces odd predictions.\n",
    "But remembering that (a) our initial documents contained more\n",
    "information than a tweet (which also contains twitter specific markup),\n",
    "and (b) we only have twenty labels that are often related, the\n",
    "classification results are more easily understood.\n",
    "\n",
    "-----"
   ]
  },
  {
   "cell_type": "code",
   "execution_count": null,
   "metadata": {
    "collapsed": false
   },
   "outputs": [],
   "source": [
    "docs_new = [\n",
    "    '''Are you an Entrepreneur at the University of Illinois in Champaign ? \n",
    "    If so, you will want to look at this. See=&gt; https://t.co/TVMxlEdo9d''',\n",
    "    '''@YoureWelcomeCU highlights tech innovation from #ChampaignUrbana and much more:\n",
    "    http://t.co/CXIbpNL3UH http://t.co/y3am3swGKU''',\n",
    "    '''RT @LauraFrerichs: Tim Hassinger, CEO of @DowAgro at grand opening of new Innovation Lab\n",
    "    @UIResearchPark \"it's a special relationship\" http…''',\n",
    "    '''Join us on October 6 for Data Analytics After Hours: #networking event w/local companies\n",
    "    http://t.co/fJfOa0U3tS http://t.co/23F0sDYhQN''',\n",
    "    '''Join us for Microsoft's flagship grand opening celebration on Fifth Ave & 53rd St, \n",
    "    10/26. http://msft.it/NYCNSO'''\n",
    "]\n",
    "\n",
    "new_counts = cv.transform(docs_new)\n",
    "\n",
    "predicted = clf.predict(new_counts)\n",
    "\n",
    "for doc, category in zip(docs_new, predicted):\n",
    "    print('{0} \\n=> {1}\\n'.format(doc, train['target_names'][category]))"
   ]
  },
  {
   "cell_type": "markdown",
   "metadata": {},
   "source": [
    "-----\n",
    "## Breakout Session\n",
    "\n",
    "During this breakout, you should learn more about the basics of text\n",
    "data mining. Be sure to try all code cells in this Notebook.  Specific\n",
    "problems you can also attempt include the following:\n",
    "\n",
    "1. Explore different combinations of `ngrams` and `max_features` to see\n",
    "if you can find a better combination. Formally this can be done by using\n",
    "a [grid search][gssl] over a set of parameters, bt you can just try\n",
    "different combinations.\n",
    "\n",
    "2. Try changing the [default parameters][mnbsl] for the `MultinomialNB`\n",
    "classifier.\n",
    "\n",
    "Additional, more advanced problems:\n",
    "\n",
    "1. Try using a different tokenizer (such as `HashingVectorizer`).\n",
    "\n",
    "2. Try using a different Naive Bayes classifier (such as  `GaussianNB`\n",
    "or `BernoulliNB`)\n",
    "\n",
    "-----\n",
    "[mnbsl]: http://scikit-learn.org/stable/modules/generated/sklearn.naive_bayes.MultinomialNB.html#sklearn.naive_bayes.MultinomialNB\n",
    "[gssl]: http://scikit-learn.org/stable/modules/generated/sklearn.grid_search.GridSearchCV.html"
   ]
  },
  {
   "cell_type": "markdown",
   "metadata": {},
   "source": [
    "### Additional References\n",
    "\n",
    "1. Wikipedia has many nice articles on [textmining][tmd].\n",
    "\n",
    "34. The [scikit_learn documentation][slw] has many useful examples.\n",
    "\n",
    "2. [Online book][pgdm] dealing with text mining tasks.\n",
    "\n",
    "-----\n",
    "\n",
    "[tmd]: https://en.wikipedia.org/wiki/Text_mining\n",
    "[pgdm]: http://guidetodatamining.com\n",
    "[slw]: http://scikit-learn.org/stable/documentation.html\n",
    "\n"
   ]
  },
  {
   "cell_type": "markdown",
   "metadata": {},
   "source": [
    "### Return to the [Week 4 Index](index.ipynb).\n",
    "\n",
    "-----"
   ]
  }
 ],
 "metadata": {
  "kernelspec": {
   "display_name": "Python 3",
   "language": "python",
   "name": "python3"
  },
  "language_info": {
   "codemirror_mode": {
    "name": "ipython",
    "version": 3
   },
   "file_extension": ".py",
   "mimetype": "text/x-python",
   "name": "python",
   "nbconvert_exporter": "python",
   "pygments_lexer": "ipython3",
   "version": "3.4.0"
  }
 },
 "nbformat": 4,
 "nbformat_minor": 0
}
