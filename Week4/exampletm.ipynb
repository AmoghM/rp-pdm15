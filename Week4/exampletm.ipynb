{
 "cells": [
  {
   "cell_type": "markdown",
   "metadata": {},
   "source": [
    "<DIV ALIGN=CENTER>\n",
    "\n",
    "# Text Mining Exercise Notebook\n",
    "## Professor Robert J. Brunner\n",
    "  \n",
    "</DIV>  \n",
    "-----\n",
    "-----"
   ]
  },
  {
   "cell_type": "markdown",
   "metadata": {},
   "source": [
    "\n",
    "## Introduction\n",
    "\n",
    "In this IPython Notebook, you are presented with the task of classifying\n",
    "Movie Reviews. We will use a public [movie review][pmr] data set. For\n",
    "convenience, the data has already been pre-cached and processed into two\n",
    "files, one for training and the other for testing. The data were pickled\n",
    "by using the following commands (assuming the files were correctly\n",
    "opened):\n",
    "\n",
    "```python\n",
    "import pickle\n",
    "\n",
    "pickle.dump(train_data, open(path + 'train_m.p', 'wb'))\n",
    "pickle.dump(test_data, open(path + 'test_m.p', 'wb'))\n",
    "```\n",
    "\n",
    "In this Notebook, you will first read in these data, before conducting\n",
    "basic exploratory data analysis. Next, you will begin text mining these\n",
    "data, before finally building text classifiers and evaluating their\n",
    "performance.\n",
    "\n",
    "-----\n",
    "[pmr]: http://www.cs.cornell.edu/people/pabo/movie-review-data/review_polarity.tar.gz"
   ]
  },
  {
   "cell_type": "markdown",
   "metadata": {},
   "source": [
    "## Task 1\n",
    "\n",
    "First, you need to read the data into the notebook. Specifically, you\n",
    "want to read (or more correctly _unpickle_)the training data into a\n",
    "variable called `train` and the testing data into a variable called\n",
    "`test`. Next, explore the data, and answer the following questions:\n",
    "\n",
    "1. What are data structures that hold the _training_ and _testing_ data?\n",
    "\n",
    "3. How can you access the _data_ and _labels_ from the _training_ and\n",
    "_testing_ data?\n",
    "\n",
    "2. How many entries are there in the _training_ and _testing_ data?\n",
    "\n",
    "\n",
    "-----"
   ]
  },
  {
   "cell_type": "code",
   "execution_count": 1,
   "metadata": {
    "collapsed": true
   },
   "outputs": [],
   "source": [
    "# unpickle the training and testing data.\n"
   ]
  },
  {
   "cell_type": "code",
   "execution_count": 2,
   "metadata": {
    "collapsed": false
   },
   "outputs": [],
   "source": [
    "# Display the type of the training and testing data\n"
   ]
  },
  {
   "cell_type": "code",
   "execution_count": 3,
   "metadata": {
    "collapsed": false
   },
   "outputs": [],
   "source": [
    "#"
   ]
  },
  {
   "cell_type": "code",
   "execution_count": 4,
   "metadata": {
    "collapsed": false
   },
   "outputs": [],
   "source": [
    "#"
   ]
  },
  {
   "cell_type": "markdown",
   "metadata": {},
   "source": [
    "## Task 2\n",
    "\n",
    "Now that you have the data loaded into the Notebook, and you can access\n",
    "the data and labels, the next step is to tokenize the textual data. For\n",
    "this you can use the `CountVectorizer`. In the second task, you should\n",
    "properly create a `CountVectorizer` that uses English _stop words_. You\n",
    "also should use this text tokenizer to **fit** and **transform** the\n",
    "_training_ data, and to **transform** the _testing_ data so that we can\n",
    "apply and evaluate a classifier in the third step. After these steps are\n",
    "completed, explore the vectorizer to answer these questions:\n",
    "\n",
    "1. How many tokens were produced?\n",
    "\n",
    "1. Is _reboot_ in the list of word tokens?\n",
    "\n",
    "1. Is _fantasy_ in the list of word tokens?\n",
    "\n",
    "-----"
   ]
  },
  {
   "cell_type": "code",
   "execution_count": 5,
   "metadata": {
    "collapsed": false
   },
   "outputs": [],
   "source": [
    "# Create a CountVectorizer to tokenize the reviews\n"
   ]
  },
  {
   "cell_type": "code",
   "execution_count": 6,
   "metadata": {
    "collapsed": false
   },
   "outputs": [],
   "source": [
    "# Display number of words in vocabulary\n"
   ]
  },
  {
   "cell_type": "code",
   "execution_count": 7,
   "metadata": {
    "collapsed": false
   },
   "outputs": [],
   "source": [
    "# Test if 'reboot' is in the vocabulary\n"
   ]
  },
  {
   "cell_type": "code",
   "execution_count": 8,
   "metadata": {
    "collapsed": false
   },
   "outputs": [],
   "source": [
    "# Test if 'fantasy' is in the vocabulary\n"
   ]
  },
  {
   "cell_type": "markdown",
   "metadata": {},
   "source": [
    "## Task 3\n",
    "\n",
    "Now, given a vocabulary, we can first train a classifier, and second,\n",
    "apply the classifier to our test data. Your third task is to train a\n",
    "simple Naive Bayes classifier on the training data and apply this\n",
    "classifier to the test data. After these steps are completed, explore\n",
    "the vectorizer to answer these questions:\n",
    "\n",
    "1. What is your accuracy (compute this by using the `score` method to\n",
    "compare the predicted and actual labels for the test data.)?\n",
    "\n",
    "2. If you limit the vocabulary to 5,000 words, what is your\n",
    "classification accuracy?\n",
    "\n",
    "3. If you don't limit the vocabulary, but do include bigrams, what is\n",
    "your classification accuracy?\n",
    "\n",
    "-----"
   ]
  },
  {
   "cell_type": "code",
   "execution_count": 9,
   "metadata": {
    "collapsed": false
   },
   "outputs": [],
   "source": [
    "# Perform simple Naive Bayesian classification, and display prediction accuracy.\n"
   ]
  },
  {
   "cell_type": "code",
   "execution_count": 10,
   "metadata": {
    "collapsed": false
   },
   "outputs": [],
   "source": [
    "# Perform simple Naive Bayesian classificaiton limiting features to 5,000 words, \n",
    "# and display prediction accuracy.\n"
   ]
  },
  {
   "cell_type": "code",
   "execution_count": 11,
   "metadata": {
    "collapsed": false
   },
   "outputs": [],
   "source": [
    "# Perform simple Naive Bayesian classificaiton, including bi-grams, \n",
    "# and display prediction accuracy.\n"
   ]
  },
  {
   "cell_type": "markdown",
   "metadata": {},
   "source": [
    "## Task 4\n",
    "\n",
    "One problem with simply counting word occurrences is that possibly\n",
    "important words can be down-weighted since they might appear\n",
    "infrequently. The standard approach to compensating for this is to\n",
    "employ TF-IDF. Your next task is to integrate TF-IDF into your\n",
    "classification process. First, you need to construct a vocabulary that\n",
    "consists of words and bigrams with a limit of 10,000 for the maximum\n",
    "number of features. Next create a `TfidfTransformer` to fit and\n",
    "transform this new TF-IDF restricted vocabulary. Finally, apply a Naive\n",
    "Bayes classifier.\n",
    "\n",
    "After these steps are completed, explore the answer to these questions:\n",
    "\n",
    "1. What is your classification accuracy? Why is it different?\n",
    "\n",
    "2. If you change the classifier to `LogisticRegression`, what is your\n",
    "classification accuracy? Why did the result change?\n",
    "\n",
    "-----"
   ]
  },
  {
   "cell_type": "code",
   "execution_count": 12,
   "metadata": {
    "collapsed": false
   },
   "outputs": [],
   "source": [
    "# Use TF-IDF to classify based on frequencies, not occurances\n"
   ]
  },
  {
   "cell_type": "code",
   "execution_count": 13,
   "metadata": {
    "collapsed": false
   },
   "outputs": [],
   "source": [
    "# Use a Logistic Regression model to classify the TF-IDF data.\n"
   ]
  },
  {
   "cell_type": "markdown",
   "metadata": {},
   "source": [
    "## Task 5\n",
    "\n",
    "In the course Notebooks, we display the confusion matrix as a heat map.\n",
    "In this final task, first modify the course code to display the\n",
    "confusion matrix for this particular text data mining challenge. You\n",
    "should also change the figure size appropriately.\n",
    "\n",
    "-----"
   ]
  },
  {
   "cell_type": "code",
   "execution_count": 14,
   "metadata": {
    "collapsed": true
   },
   "outputs": [],
   "source": [
    "%matplotlib inline\n",
    "\n",
    "# Course function, with two minor modifications (one of which is figsize)\n",
    "\n",
    "import numpy as np\n",
    "import pandas as pd\n",
    "\n",
    "import seaborn as sns\n",
    "import matplotlib.pyplot as plt\n",
    "\n",
    "sns.set(style=\"white\", context='paper', font='monospace')\n",
    "\n",
    "# Convenience function to plot confusion matrix\n",
    "\n",
    "# This method produces a colored heatmap that displays the relationship\n",
    "# between predicted and actual types from a machine leanring method.\n",
    "\n",
    "def confusion(test, predict, title):\n",
    "\n",
    "    return None"
   ]
  },
  {
   "cell_type": "code",
   "execution_count": 15,
   "metadata": {
    "collapsed": false
   },
   "outputs": [],
   "source": [
    "# Display confusion matrix for final classification example\n"
   ]
  },
  {
   "cell_type": "markdown",
   "metadata": {
    "collapsed": true
   },
   "source": [
    "### Return to the [Week 4 Index](index.ipynb).\n",
    "\n",
    "-----"
   ]
  }
 ],
 "metadata": {
  "kernelspec": {
   "display_name": "Python 3",
   "language": "python",
   "name": "python3"
  },
  "language_info": {
   "codemirror_mode": {
    "name": "ipython",
    "version": 3
   },
   "file_extension": ".py",
   "mimetype": "text/x-python",
   "name": "python",
   "nbconvert_exporter": "python",
   "pygments_lexer": "ipython3",
   "version": "3.4.0"
  }
 },
 "nbformat": 4,
 "nbformat_minor": 0
}
