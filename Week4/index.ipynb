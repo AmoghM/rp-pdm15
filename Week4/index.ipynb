{
 "cells": [
  {
   "cell_type": "markdown",
   "metadata": {},
   "source": [
    "\n",
    "<DIV ALIGN=CENTER>\n",
    "\n",
    "# Practical Data Science  \n",
    "## University of Illinois, Research Park  \n",
    "## Robert J. Brunner  \n",
    "## Spring 2015  \n",
    "  \n",
    "</DIV>  \n",
    "-----\n",
    "-----"
   ]
  },
  {
   "cell_type": "markdown",
   "metadata": {},
   "source": [
    "## Week 4: Text Data Mining\n",
    "### Draft Schedule:\n",
    "\n",
    "| Time |  Topic|\n",
    "|---|---|\n",
    "| 6:30-7:00 | Introduction to Text Mining   | \n",
    "| 7:00–7:35 | More Text Mining | \n",
    "| 7:35-8:00 | Example Text Mining Problem |\n",
    "\n",
    "-----\n",
    "\n",
    "### Topic 1: [Introduction to Text Mining][1]\n",
    "\n",
    "Learn how to conduct introductory text mining, beginning with document\n",
    "tokenization that produces a vocabulary that can be used to construct a\n",
    "_bag of words_. Next learn about the Naive Bayes classifier, and how it\n",
    "can be used to quickly classify documents based on a vocabulary. Finally,\n",
    "learn about quantifying classifier performance before also learning\n",
    "about _stop words_, and sparse matrices, and n-grams.\n",
    "\n",
    "### Topic 2: [Introduction to Text Mining, Part II][2]\n",
    "\n",
    "In this Notebook, we first introduce more advanced classification\n",
    "techniques, including SGD, Linear SVC, and Logistic Regression. Next, we\n",
    "introduce the concept of token frequency as opposed to word occurrence as\n",
    "a basis for document classification, before introducing the concept of\n",
    "classification pipelines. Finally, we explore more advanced text\n",
    "processing and mining techniques including token clustering and\n",
    "identification of token types to construct context.\n",
    "\n",
    "### Topic 3: [Example Problem][3]\n",
    "\n",
    "As a final component of this class, you will be given a sample data set\n",
    "and a challenge. This Notebook breaks the challenge into five separate\n",
    "tasks. A solution Notebook is available if you get stuck, but you are\n",
    "highly encouraged to attempt each task without looking.\n",
    "\n",
    "-----\n",
    "\n",
    "## Optional Topics\n",
    "\n",
    "-----\n",
    "\n",
    "[1]: intro2tm.ipynb\n",
    "[2]: intro2tm2.ipynb\n",
    "[3]: exampletm.ipynb"
   ]
  }
 ],
 "metadata": {
  "kernelspec": {
   "display_name": "Python 3",
   "language": "python",
   "name": "python3"
  },
  "language_info": {
   "codemirror_mode": {
    "name": "ipython",
    "version": 3
   },
   "file_extension": ".py",
   "mimetype": "text/x-python",
   "name": "python",
   "nbconvert_exporter": "python",
   "pygments_lexer": "ipython3",
   "version": "3.4.0"
  }
 },
 "nbformat": 4,
 "nbformat_minor": 0
}
