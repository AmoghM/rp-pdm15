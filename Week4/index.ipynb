{
 "cells": [
  {
   "cell_type": "markdown",
   "metadata": {},
   "source": [
    "\n",
    "<DIV ALIGN=CENTER>\n",
    "\n",
    "# Practical Data Science  \n",
    "## University of Illinois, Research Park  \n",
    "## Robert J. Brunner  \n",
    "## Spring 2015  \n",
    "  \n",
    "</DIV>  \n",
    "-----\n",
    "-----"
   ]
  },
  {
   "cell_type": "markdown",
   "metadata": {},
   "source": [
    "## Week 4: Text Data Mining\n",
    " \n",
    "First, we will introduce .\n",
    "\n",
    "### Topic 1: [Introduction to Text Mining][1]\n",
    "\n",
    "Learn how to .\n",
    "\n",
    "### Topic 2: [Introduction to Text Mining, Part II][2]\n",
    "\n",
    "Learn\n",
    "\n",
    "### Topic 3: [Example Problem][3]\n",
    "\n",
    "Work through problem.\n",
    "\n",
    "-----\n",
    "\n",
    "## Optional Topics\n",
    "\n",
    "-----\n",
    "\n",
    "[1]: intro2tm.ipynb\n",
    "[2]: intro2tm2.ipynb\n",
    "[3]: exampletm.ipynb"
   ]
  }
 ],
 "metadata": {
  "kernelspec": {
   "display_name": "Python 3",
   "language": "python",
   "name": "python3"
  },
  "language_info": {
   "codemirror_mode": {
    "name": "ipython",
    "version": 3
   },
   "file_extension": ".py",
   "mimetype": "text/x-python",
   "name": "python",
   "nbconvert_exporter": "python",
   "pygments_lexer": "ipython3",
   "version": "3.4.0"
  }
 },
 "nbformat": 4,
 "nbformat_minor": 0
}
