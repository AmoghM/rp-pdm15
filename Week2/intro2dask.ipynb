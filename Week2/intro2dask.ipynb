{
 "cells": [
  {
   "cell_type": "markdown",
   "metadata": {},
   "source": [
    "<DIV ALIGN=CENTER>\n",
    "\n",
    "# Introduction to Dask\n",
    "## Professor Robert J. Brunner\n",
    "  \n",
    "</DIV>  \n",
    "-----\n",
    "-----"
   ]
  },
  {
   "cell_type": "markdown",
   "metadata": {},
   "source": [
    "## Introduction\n",
    "\n",
    "Previously, we explored the [Pandas library][pl], which introduced the\n",
    "concept of a DataFrame into the Python data science software stack.\n",
    "Pandas, and in particular a Pandas DataFrame, simplifies the process of\n",
    "exploring data from within a Python program or Notebook. Pandas,\n",
    "however, does not excel at exploring or analyzing large data sets,\n",
    "where the quantity large id determined primarily by the computational\n",
    "power of the system being used. At the other end of the scale are the\n",
    "**big data** technologies like Hadoop, which was designed to bulk\n",
    "process very large data, which currently means multiple Petabytes or\n",
    "more.\n",
    "\n",
    "However, Hadoop lacks the flexibility of Pandas, and since [many **big\n",
    "data** jobs aren't that big][msrpt] (or at least don't start out that\n",
    "big, as one explores a data set), there remains a middle ground where\n",
    "relatively large data sets are underserved. We are currently seeing an\n",
    "[explosion of technologies][exp] that are attempting to capitalize on\n",
    "this unmet need. This has the disadvantage of complicating the\n",
    "landscape (which technology should I choose), while still offering the\n",
    "advantage of promising a brighter future (at least when the dust\n",
    "settles). Particular technologies that are in this space include:\n",
    "\n",
    "- [Ibis](http://www.ibis-project.org)\n",
    "- [SFrame](https://dato.com/products/create/docs/generated/graphlab.SFrame.html)\n",
    "- [Dask](http://dask.pydata.org/en/latest/)\n",
    "\n",
    "In this IPython Notebook, we explore using dask to perform data\n",
    "processing in a similar maner to our previous efforts with Pandas. Dask\n",
    "is a task scheduler that can operate on data out-of-core, by chunking up\n",
    "data and scheduling computations over the available cores. Dask\n",
    "includes collection data structures that simplify this process, but also\n",
    "provides direct support for creating and executing task graphs directly.\n",
    "Before exploring the dask collections, we first look at the concept of a\n",
    "task graph by leveraging a simple example.\n",
    "\n",
    "-----\n",
    "[pl]: ../Week1/pyde.ipynb\n",
    "[exp]: http://www.galvanize.com/blog/2015/07/31/eight-tools-that-show-whats-on-the-horizon-for-the-python-data-ecosystem/#.VfnT3bSpROF\n",
    "[msrpt]: http://research.microsoft.com/pubs/179615/msrtr-2013-2.pdf"
   ]
  },
  {
   "cell_type": "markdown",
   "metadata": {},
   "source": [
    "### Functional programming\n",
    "\n",
    "A key concept behind dask (and other similar libraries) is the execution\n",
    "of functions over data. This concepts actually underlies some entire\n",
    "programming languges, like lisp. Python supports a large fraction of the\n",
    "basic functional programming constructs through the `map` function and\n",
    "lambdas. To demonstrate this basic concept, the following code cells\n",
    "first define two basic functions: `plus` and `minus`. We use these two\n",
    "functions to process simple data in the following code cell (in a manner\n",
    "we typically expect), which produces the expected output. \n",
    "\n",
    "----- "
   ]
  },
  {
   "cell_type": "code",
   "execution_count": 1,
   "metadata": {
    "collapsed": false
   },
   "outputs": [],
   "source": [
    "def plus(x, y):\n",
    "    return x + y\n",
    "\n",
    "def minus(x, y):\n",
    "    return x - y"
   ]
  },
  {
   "cell_type": "code",
   "execution_count": 2,
   "metadata": {
    "collapsed": false
   },
   "outputs": [
    {
     "data": {
      "text/plain": [
       "1"
      ]
     },
     "execution_count": 2,
     "metadata": {},
     "output_type": "execute_result"
    }
   ],
   "source": [
    "a = 9\n",
    "b = plus(a, 1)\n",
    "\n",
    "x = 2\n",
    "y = plus(x, 7)\n",
    "\n",
    "z = minus(b, y)\n",
    "z"
   ]
  },
  {
   "cell_type": "markdown",
   "metadata": {},
   "source": [
    "-----\n",
    "\n",
    "### Task Graphs\n",
    "\n",
    "The code executed in the previous cell can be rewritten into a task\n",
    "graph, which is simply an ordered structure of functions and their\n",
    "arguments. This is demonstrated in the following cell, where we create a\n",
    "dictionary that maps values to variables, and arguments to functions as\n",
    "an ordered sequence. The Dask library includes a method that displays a\n",
    "task graph, which is shown in the second code cell.\n",
    "\n",
    "-----"
   ]
  },
  {
   "cell_type": "code",
   "execution_count": 3,
   "metadata": {
    "collapsed": true
   },
   "outputs": [],
   "source": [
    "dsk = {'a': 9, \n",
    "       'b': (plus, 'a', 1),\n",
    "       \n",
    "       'x': 2,\n",
    "       'y': (plus, 'x', 7),\n",
    "       \n",
    "       'z': (minus, 'b', 'y')}"
   ]
  },
  {
   "cell_type": "code",
   "execution_count": 4,
   "metadata": {
    "collapsed": false
   },
   "outputs": [
    {
     "data": {
      "image/png": "[encoded data removed]",
      "text/plain": [
       "<IPython.core.display.Image object>"
      ]
     },
     "execution_count": 4,
     "metadata": {},
     "output_type": "execute_result"
    }
   ],
   "source": [
    "from dask.dot import dot_graph\n",
    "dot_graph(dsk)"
   ]
  },
  {
   "cell_type": "markdown",
   "metadata": {},
   "source": [
    "-----\n",
    "\n",
    "The task graph clearly shows how data are processed by functions, and\n",
    "how the functions are chained together to produce the final output. We\n",
    "can verify our simple task graph operates as expected by _getting_ the\n",
    "desired value from the graph. Note that this actually has the effect of\n",
    "**executing** the task graph, since, by default, Dask employs lazy\n",
    "execution. This means results re only computed as needed, and allows\n",
    "complex task graphs to be built and analyzed for optimal performance on\n",
    "a specific hardware platform.\n",
    "\n",
    "-----"
   ]
  },
  {
   "cell_type": "code",
   "execution_count": 5,
   "metadata": {
    "collapsed": false
   },
   "outputs": [
    {
     "data": {
      "text/plain": [
       "1"
      ]
     },
     "execution_count": 5,
     "metadata": {},
     "output_type": "execute_result"
    }
   ],
   "source": [
    "#We can obtain the result of the task graph by using get\n",
    "import dask as da\n",
    "\n",
    "da.get(dsk, 'z')"
   ]
  },
  {
   "cell_type": "markdown",
   "metadata": {},
   "source": [
    "-----\n",
    "\n",
    "### Dask \n",
    "\n",
    "Writing task graphs out by hand is likely not an attractive solution for\n",
    "the typical Python programmer. Fortunately, Dask provides three data\n",
    "structures that hide this complexity while still providing the benefits:\n",
    "\n",
    "- [`bag`][b]: parallelize processing across large quantities of generic\n",
    "data, including unstructured or semi-structured data like log files.\n",
    "\n",
    "- [`array`][a]: supports processing large arrays via blocking and\n",
    "implements a subset of the numpy interface.\n",
    "\n",
    "- [`DataFrame`][df]: supports processing large structured data sets via\n",
    "blocking and implements a subset of the Pandas interface.\n",
    "\n",
    "In the next few sections, we introduce each of these collections.\n",
    "\n",
    "----\n",
    "[b]: http://dask.pydata.org/en/latest/bag.html\n",
    "[a]: http://dask.pydata.org/en/latest/array.html\n",
    "[df]: http://dask.pydata.org/en/latest/dataframe.html"
   ]
  },
  {
   "cell_type": "markdown",
   "metadata": {},
   "source": [
    "-----\n",
    "\n",
    "### `dask.bag`\n",
    "\n",
    "A Dask bag supports processing generic data, to demonstrate this, we can\n",
    "read in a JSON file (in this case we simply read in one of our IPython\n",
    "Notebooks) to create the bag. Note that since we employ lazy evaluation,\n",
    "the collection isn't populated until we perform an action, in this case\n",
    "that `take` method in the second cell that displays a subset of the\n",
    "entire structure.\n",
    "\n",
    "-----"
   ]
  },
  {
   "cell_type": "code",
   "execution_count": 6,
   "metadata": {
    "collapsed": false
   },
   "outputs": [],
   "source": [
    "import dask.bag as db\n",
    "\n",
    "b = db.from_filenames('intro2spark.ipynb')"
   ]
  },
  {
   "cell_type": "code",
   "execution_count": 7,
   "metadata": {
    "collapsed": false
   },
   "outputs": [
    {
     "data": {
      "text/plain": [
       "('{\\n',\n",
       " ' \"cells\": [\\n',\n",
       " '  {\\n',\n",
       " '   \"cell_type\": \"markdown\",\\n',\n",
       " '   \"metadata\": {},\\n',\n",
       " '   \"source\": [\\n',\n",
       " '    \"<DIV ALIGN=CENTER>\\\\n\",\\n',\n",
       " '    \"\\\\n\",\\n',\n",
       " '    \"# Introduction to Spark\\\\n\",\\n',\n",
       " '    \"## Professor Robert J. Brunner\\\\n\",\\n',\n",
       " '    \"  \\\\n\",\\n',\n",
       " '    \"</DIV>  \\\\n\",\\n',\n",
       " '    \"-----\\\\n\",\\n',\n",
       " '    \"-----\"\\n',\n",
       " '   ]\\n',\n",
       " '  },\\n',\n",
       " '  {\\n',\n",
       " '   \"cell_type\": \"markdown\",\\n',\n",
       " '   \"metadata\": {},\\n',\n",
       " '   \"source\": [\\n',\n",
       " '    \"## Introduction\\\\n\",\\n',\n",
       " '    \"\\\\n\",\\n',\n",
       " '    \"Previously in this course, we have discussed doing data science at the\\\\n\",\\n',\n",
       " '    \"Unix command line, and with Python, primarily by using Pandas. We also\\\\n\",\\n',\n",
       " '    \"have discussed other Python libraries that bring new functionalities to\\\\n\",\\n',\n",
       " '    \"the Python data science stack. Other _big data_ technologies, however,\\\\n\",\\n',\n",
       " '    \"also exist and can be relevant to particular data science\\\\n\",\\n',\n",
       " '    \"investigations, depending on the scale of data. Of these other\\\\n\",\\n',\n",
       " '    \"technologies, one of the most promising is [**Spark**][sp].\\\\n\",\\n',\n",
       " '    \"\\\\n\",\\n',\n",
       " '    \"Spark is a cluster computing system that leverages [Hadoop][sh]\\\\n\",\\n',\n",
       " '    \"technologies like [HDFS][shdfs] for high performance storage and\\\\n\",\\n',\n",
       " '    \"[Yarn][sy] for cluster management. While some may see Spark as a\\\\n\",\\n',\n",
       " '    \"replacement for Hadoop, an alternative argument can be made that [Spark\\\\n\",\\n',\n",
       " '    \"is simply another compute engine][sce] for Hadoop, in addition to\\\\n\",\\n',\n",
       " '    \"Map-Reduce.\\\\n\",\\n',\n",
       " '    \"\\\\n\",\\n',\n",
       " '    \"In this IPython Notebook, we explore using Spark to perform data\\\\n\",\\n',\n",
       " '    \"processing in a similar maner to our previous efforts with Pandas. For\\\\n\",\\n',\n",
       " '    \"this we will use the airline data, which has been stored in an HDFS\\\\n\",\\n',\n",
       " '    \"system that is accesible from within our Spark cluster. [Other][dw]\\\\n\",\\n',\n",
       " '    \"tutorials exist, although they often focus on Scala examples since Spark\\\\n\",\\n',\n",
       " '    \"is written for that language.\\\\n\",\\n',\n",
       " '    \"\\\\n\",\\n',\n",
       " '    \"-----\\\\n\",\\n',\n",
       " '    \"[sp]: http://spark.apache.org\\\\n\",\\n',\n",
       " '    \"[sh]: http://hadoop.apache.org\\\\n\",\\n',\n",
       " '    \"[sy]: https://hadoop.apache.org/docs/current/hadoop-yarn/hadoop-yarn-site/YARN.html\\\\n\",\\n',\n",
       " '    \"[shdfs]: https://hadoop.apache.org/docs/current/hadoop-project-dist/hadoop-hdfs/HdfsUserGuide.html\\\\n\",\\n',\n",
       " '    \"[sce]: http://techcrunch.com/2015/07/12/spark-and-hadoop-are-friends-not-foes/\\\\n\",\\n',\n",
       " '    \"[dw]: https://github.com/deanwampler/spark-workshop/tree/master/tutorial\"\\n',\n",
       " '   ]\\n',\n",
       " '  },\\n',\n",
       " '  {\\n',\n",
       " '   \"cell_type\": \"markdown\",\\n',\n",
       " '   \"metadata\": {},\\n',\n",
       " '   \"source\": [\\n',\n",
       " '    \"### Initialization\\\\n\",\\n',\n",
       " '    \"\\\\n\",\\n',\n",
       " '    \"In this class, we have a dedicated Spark cluster running to allow\\\\n\",\\n',\n",
       " '    \"students to explore Spark from within our IPython Notebook environment.\\\\n\",\\n',\n",
       " '    \"Since our Spark cluster has limited resources, we need to carefully\\\\n\",\\n',\n",
       " '    \"manage them, in particular we need to ensure that any SparkContext\\\\n\",\\n',\n",
       " '    \"previously used by this Jupyter Server is properly released before\\\\n\",\\n',\n",
       " '    \"starting a new one. After this, we will initialize a new SparkContext to\\\\n\",\\n',\n",
       " '    \"properly interact from this dockerized IPython Notebook to the Spark\\\\n\",\\n',\n",
       " '    \"cluster.\\\\n\",\\n',\n",
       " '    \"\\\\n\",\\n',\n",
       " '    \"----- \"\\n',\n",
       " '   ]\\n',\n",
       " '  },\\n',\n",
       " '  {\\n',\n",
       " '   \"cell_type\": \"code\",\\n',\n",
       " '   \"execution_count\": 1,\\n',\n",
       " '   \"metadata\": {\\n',\n",
       " '    \"collapsed\": false\\n',\n",
       " '   },\\n',\n",
       " '   \"outputs\": [\\n',\n",
       " '    {\\n',\n",
       " '     \"name\": \"stdout\",\\n',\n",
       " '     \"output_type\": \"stream\",\\n',\n",
       " '     \"text\": [\\n',\n",
       " '      \"\\\\n\",\\n',\n",
       " '      \"To use our Spark cluster, we must manage access by nodes in the\\\\n\",\\n',\n",
       " '      \"JupyterHub Server to the Spark cluster. This may require modification to\\\\n\",\\n',\n",
       " '      \"the port numbers used by the SparkContext to communicate with the Spark\\\\n\",\\n',\n",
       " '      \"cluster. We first try to automatically set the port numbers, and display\\\\n\",\\n',\n",
       " '      \"the allowed range for this particular Notebook in order to allow you to\\\\n\",\\n',\n",
       " '      \"modify them manually as necessary. The two port values to set are \\\\n\",\\n',\n",
       " '      \"spark.driver.port and spark.blockManager.port.\\\\n\",\\n',\n",
       " '      \"\\\\n\",\\n',\n",
       " '      \"Allowed port range: 8250-8299\\\\n\",\\n',\n",
       " '      \"\\\\n\",\\n',\n",
       " '      \"\\\\n\",\\n',\n",
       " '      \"Spark version: 1.5.0\\\\n\"\\n',\n",
       " '     ]\\n',\n",
       " '    }\\n',\n",
       " '   ],\\n',\n",
       " '   \"source\": [\\n',\n",
       " '    \"# We release the SparkContext if it exists.\\\\n\",\\n',\n",
       " '    \"try:\\\\n\",\\n',\n",
       " '    \"    sc\\\\n\",\\n',\n",
       " '    \"except:\\\\n\",\\n',\n",
       " '    \"    pass ;\\\\n\",\\n',\n",
       " '    \"else:\\\\n\",\\n',\n",
       " '    \"    sc.stop()\\\\n\",\\n',\n",
       " '    \"\\\\n\",\\n',\n",
       " '    \"# Now handle initial import statements\\\\n\",\\n',\n",
       " '    \"\\\\n\",\\n',\n",
       " '    \"from os import environ\\\\n\",\\n',\n",
       " '    \"from pyspark import SparkConf, SparkContext\\\\n\",\\n',\n",
       " '    \"\\\\n\",\\n',\n",
       " '    \"# Obtain initial environment variables.\\\\n\",\\n',\n",
       " '    \"\\\\n\",\\n',\n",
       " '    \"port_usage = \\'\\'\\'\\\\n\",\\n',\n",
       " '    \"To use our Spark cluster, we must manage access by nodes in the\\\\n\",\\n',\n",
       " '    \"JupyterHub Server to the Spark cluster. This may require modification to\\\\n\",\\n',\n",
       " '    \"the port numbers used by the SparkContext to communicate with the Spark\\\\n\",\\n',\n",
       " '    \"cluster. We first try to automatically set the port numbers, and display\\\\n\",\\n',\n",
       " '    \"the allowed range for this particular Notebook in order to allow you to\\\\n\",\\n',\n",
       " '    \"modify them manually as necessary. The two port values to set are \\\\n\",\\n',\n",
       " '    \"spark.driver.port and spark.blockManager.port.\\\\n\",\\n',\n",
       " '    \"\\\\n\",\\n',\n",
       " '    \"Allowed port range: {0}-{1}\\\\n\",\\n',\n",
       " '    \"\\'\\'\\'\\\\n\",\\n',\n",
       " '    \"\\\\n\",\\n',\n",
       " '    \"bsp = environ[\\'SPARK_PORT_BEGIN\\']\\\\n\",\\n',\n",
       " '    \"esp = environ[\\'SPARK_PORT_END\\']\\\\n\",\\n',\n",
       " '    \"print(port_usage.format(bsp, esp))\\\\n\",\\n',\n",
       " '    \"\\\\n\",\\n',\n",
       " '    \"slip = environ[\\'HOSTNAME\\'] # Spark Local IP\\\\n\",\\n',\n",
       " '    \"sdh = \\\\\"rpds{}\\\\\".format(slip.split(\\'.\\')[-1]) # Spark Driver Hostname\\\\n\",\\n',\n",
       " '    \"\\\\n\",\\n',\n",
       " '    \"# Create new Spark Configuration (port numbers might need to be adjusted from defaults.)\\\\n\",\\n',\n",
       " '    \"myconf = SparkConf()\\\\n\",\\n',\n",
       " '    \"myconf.set(\\\\\"spark.driver.port\\\\\", int(bsp))\\\\n\",\\n',\n",
       " '    \"myconf.set(\\\\\"spark.blockManager.port\\\\\", int(esp))\\\\n\",\\n',\n",
       " '    \"myconf.set(\\\\\"spark.driver.host\\\\\", sdh)\\\\n\",\\n',\n",
       " '    \"myconf.set(\\\\\"spark.local.ip\\\\\", slip)\\\\n\",\\n',\n",
       " '    \"myconf.set(\\\\\"spark.cores.max\\\\\",2)\\\\n\",\\n',\n",
       " '    \"\\\\n\",\\n',\n",
       " '    \"myconf.setAppName(\\\\\"Practical Data Mining, UI RP: Brunner\\\\\")\\\\n\",\\n',\n",
       " '    \"\\\\n\",\\n',\n",
       " '    \"# Create and initialize a new Spark Context\\\\n\",\\n',\n",
       " '    \"sc = SparkContext(conf=myconf)\\\\n\",\\n',\n",
       " '    \"\\\\n\",\\n',\n",
       " '    \"# Display Spark version information, which also verifies SparkContext is active\\\\n\",\\n',\n",
       " '    \"print(\\\\\"\\\\\\\\nSpark version: {0}\\\\\".format(sc.version))\"\\n',\n",
       " '   ]\\n',\n",
       " '  },\\n',\n",
       " '  {\\n',\n",
       " '   \"cell_type\": \"markdown\",\\n',\n",
       " '   \"metadata\": {\\n',\n",
       " '    \"collapsed\": false\\n',\n",
       " '   },\\n',\n",
       " '   \"source\": [\\n',\n",
       " '    \"-----\\\\n\",\\n',\n",
       " '    \"\\\\n\",\\n',\n",
       " '    \"### Using Spark\\\\n\",\\n',\n",
       " '    \"\\\\n\",\\n',\n",
       " '    \"Spark is a framework for processing large-data tasks, in general this\\\\n\",\\n',\n",
       " '    \"means Petabytes (or more of data). Spark can run on the HDFS file\\\\n\",\\n',\n",
       " '    \"system, which can be set up to chunk files into blocks and to replicate\\\\n\",\\n',\n",
       " '    \"these blocks across a cluster\\'s storage to promote increased\\\\n\",\\n',\n",
       " '    \"performance. Spark abstracts these details, however, allowing us to\\\\n\",\\n',\n",
       " '    \"develop an application on a small system and scale up to large data on a\\\\n\",\\n',\n",
       " '    \"cluster. \\\\n\",\\n',\n",
       " '    \"\\\\n\",\\n',\n",
       " '    \"In Spark, communications move between a driver process and the execution\\\\n\",\\n',\n",
       " '    \"processes. This communication is handled for us by using a\\\\n\",\\n',\n",
       " '    \"[`SparkContext`][sc], which requests resources from the Spark master\\\\n\",\\n',\n",
       " '    \"process, such as number of cores, which are reserved to complete our\\\\n\",\\n',\n",
       " '    \"Spark tasks. In the previous code cell, we initialized our\\\\n\",\\n',\n",
       " '    \"`SparkContext`.\\\\n\",\\n',\n",
       " '    \"\\\\n\",\\n',\n",
       " '    \"The basic data structure in Spark is a [Resilient Distributed\\\\n\",\\n',\n",
       " '    \"Dataset][rdd] (RDD). An RDD is immutable, thus if you want to add a\\\\n\",\\n',\n",
       " '    \"column to an RDD, you must create a new copy that includes the new\\\\n\",\\n',\n",
       " '    \"column. In Spark, data processing tasks can be transformation or\\\\n\",\\n',\n",
       " '    \"actions, and these tasks can be pipelined for efficiency. Each\\\\n\",\\n',\n",
       " '    \"transformation creates a new RDD, but since Spark uses lazy evaluation,\\\\n\",\\n',\n",
       " '    \"the transformations are not executed until an action is invoked.\\\\n\",\\n',\n",
       " '    \"\\\\n\",\\n',\n",
       " '    \"These concepts are demonstrated in the following code cells, where we\\\\n\",\\n',\n",
       " '    \"first create a list of integers, which we use to initialize a new RDD.\\\\n\",\\n',\n",
       " '    \"\\\\n\",\\n',\n",
       " '    \"\\\\n\",\\n',\n",
       " '    \"-----\\\\n\",\\n',\n",
       " '    \"[sc]: http://spark.apache.org/docs/latest/api/python/pyspark.html#pyspark.SparkContext\\\\n\",\\n',\n",
       " '    \"[rdd]: http://spark.apache.org/docs/latest/api/python/pyspark.html#pyspark.RDD\"\\n',\n",
       " '   ]\\n',\n",
       " '  },\\n',\n",
       " '  {\\n',\n",
       " '   \"cell_type\": \"code\",\\n',\n",
       " '   \"execution_count\": 2,\\n',\n",
       " '   \"metadata\": {\\n',\n",
       " '    \"collapsed\": false\\n',\n",
       " '   },\\n',\n",
       " '   \"outputs\": [\\n',\n",
       " '    {\\n',\n",
       " '     \"name\": \"stdout\",\\n',\n",
       " '     \"output_type\": \"stream\",\\n',\n",
       " '     \"text\": [\\n',\n",
       " '      \"range(0, 50)\\\\n\"\\n',\n",
       " '     ]\\n',\n",
       " '    }\\n',\n",
       " '   ],\\n',\n",
       " '   \"source\": [\\n',\n",
       " '    \"data = range(50)\\\\n\",\\n',\n",
       " '    \"print(data)\"\\n',\n",
       " '   ]\\n',\n",
       " '  },\\n',\n",
       " '  {\\n',\n",
       " '   \"cell_type\": \"code\",\\n',\n",
       " '   \"execution_count\": 3,\\n',\n",
       " '   \"metadata\": {\\n',\n",
       " '    \"collapsed\": true\\n',\n",
       " '   },\\n',\n",
       " '   \"outputs\": [],\\n',\n",
       " '   \"source\": [\\n',\n",
       " '    \"myRDD = sc.parallelize(data, 8)\"\\n',\n",
       " '   ]\\n',\n",
       " '  },\\n',\n",
       " '  {\\n',\n",
       " '   \"cell_type\": \"markdown\",\\n',\n",
       " '   \"metadata\": {},\\n',\n",
       " '   \"source\": [\\n',\n",
       " '    \"-----\\\\n\",\\n',\n",
       " '    \"\\\\n\",\\n',\n",
       " '    \"In the previous code cell, we create a [parallelized collection][pc] by using\\\\n\",\\n',\n",
       " '    \"the `parallelize` method, which partitions the data across cores in a\\\\n\",\\n',\n",
       " '    \"cluster. The general rule indicated in the Spark documentation is that\\\\n\",\\n',\n",
       " '    \"you want 2-4 partitions per core.\\\\n\",\\n',\n",
       " '    \"\\\\n\",\\n',\n",
       " '    \"Next, we use several method functions on the RDD to obtain the RDD\\\\n\",\\n',\n",
       " '    \"unique ID, which indicates when new RDDs are created, as well as naming\\\\n\",\\n',\n",
       " '    \"RDDs for easier viewing in the Spark cluster management software.\\\\n\",\\n',\n",
       " '    \"\\\\n\",\\n',\n",
       " '    \"-----\\\\n\",\\n',\n",
       " '    \"[pc]: https://spark.apache.org/docs/latest/programming-guide.html#parallelized-collections\"\\n',\n",
       " '   ]\\n',\n",
       " '  },\\n',\n",
       " '  {\\n',\n",
       " '   \"cell_type\": \"code\",\\n',\n",
       " '   \"execution_count\": 4,\\n',\n",
       " '   \"metadata\": {\\n',\n",
       " '    \"collapsed\": false\\n',\n",
       " '   },\\n',\n",
       " '   \"outputs\": [\\n',\n",
       " '    {\\n')"
      ]
     },
     "execution_count": 7,
     "metadata": {},
     "output_type": "execute_result"
    }
   ],
   "source": [
    "b.take(250)"
   ]
  },
  {
   "cell_type": "markdown",
   "metadata": {},
   "source": [
    "-----\n",
    "\n",
    "Given this collection, we can create tranformations by using functional\n",
    "programming concepts. Simply put, we will apply functions to the\n",
    "collection to transform data, to filter data, or to compute a result.\n",
    "This is demonstrated in the next code cell, where we apply a filter to\n",
    "the bag to produce a collection of the rows in the bag that contain the\n",
    "work `markdown`, after which we compute the count of rows that meet this\n",
    "criterion. The following code cell displays the task graph for this\n",
    "filter and compute process.\n",
    "\n",
    "Note that the task graph is not actually processed until we apply the\n",
    "`compute` method in the third code cell, where he result is displayed\n",
    "(you can check this answer for accuracy by using `grep` at the Unix\n",
    "command prompt).\n",
    "\n",
    "-----"
   ]
  },
  {
   "cell_type": "code",
   "execution_count": 8,
   "metadata": {
    "collapsed": false
   },
   "outputs": [],
   "source": [
    "the_count = b.filter(lambda line: 'markdown' in line).count()"
   ]
  },
  {
   "cell_type": "code",
   "execution_count": 9,
   "metadata": {
    "collapsed": false
   },
   "outputs": [
    {
     "data": {
      "image/png": "[encoded data removed]",
      "text/plain": [
       "<IPython.core.display.Image object>"
      ]
     },
     "execution_count": 9,
     "metadata": {},
     "output_type": "execute_result"
    }
   ],
   "source": [
    "dot_graph(the_count.dask)"
   ]
  },
  {
   "cell_type": "code",
   "execution_count": 10,
   "metadata": {
    "collapsed": false
   },
   "outputs": [
    {
     "name": "stdout",
     "output_type": "stream",
     "text": [
      "22\n"
     ]
    }
   ],
   "source": [
    "print(the_count.compute())"
   ]
  },
  {
   "cell_type": "markdown",
   "metadata": {},
   "source": [
    "-----\n",
    "\n",
    "### `dask.array`\n",
    "\n",
    "The dask array is similar to the numpy array, as it implements a subset\n",
    "of the overall numpy functionality. the dask array, however, was\n",
    "designed to operate efficiently on very large arrays. We can demonstrate\n",
    "the dask array by first showing a simple numpy array example, and next\n",
    "translating this into a dask array example (including a visual\n",
    "demonstration of the resultant task graph). This simple example first\n",
    "generates a large number of uniformly sampled data, next computes a\n",
    "nonlinear function of these data, and finally computes the mean value of\n",
    "the new data. As a final step, we print out this mean value.\n",
    "\n",
    "-----"
   ]
  },
  {
   "cell_type": "code",
   "execution_count": 11,
   "metadata": {
    "collapsed": false
   },
   "outputs": [
    {
     "name": "stdout",
     "output_type": "stream",
     "text": [
      "Mean value =  3.35619449019\n"
     ]
    }
   ],
   "source": [
    "import numpy as np\n",
    "\n",
    "# Create linearly spaced array\n",
    "x = np.linspace(0.0, np.pi, 10000)\n",
    "\n",
    "# Create new array\n",
    "y = x * 2.0 - x / 2.0 + 1\n",
    "\n",
    "# Find mean value\n",
    "mu = np.mean(y)\n",
    "print(\"Mean value = \", mu)"
   ]
  },
  {
   "cell_type": "code",
   "execution_count": 12,
   "metadata": {
    "collapsed": false
   },
   "outputs": [
    {
     "name": "stdout",
     "output_type": "stream",
     "text": [
      "Mean value =  dask.array<atop-d766e298f7f48ec76d76496178122dda, shape=(), chunks=(), dtype=float64>\n"
     ]
    }
   ],
   "source": [
    "import dask.array as da\n",
    "\n",
    "# Create Dask Array from our numpy array\n",
    "# chunksize will affect task graph.\n",
    "xx = da.from_array(x, chunks=5000)\n",
    "\n",
    "# multiply this array by a factor\n",
    "yy = xx * 2.0 - xx / 2.0 + 1\n",
    "\n",
    "# Find mean value\n",
    "mu = da.mean(yy)\n",
    "print(\"Mean value = \", mu)"
   ]
  },
  {
   "cell_type": "markdown",
   "metadata": {},
   "source": [
    "-----\n",
    "\n",
    "As shown in the two preceding code cells, the dask array is identical in\n",
    "interface to the numpy array (since we restricted ourselves to the set\n",
    "of dask implemented numpy functionality). Hopwever, the final step\n",
    "shows the difference, since the mean value is not displayed with the\n",
    "print statement; `mu` is an instance of a dask array and not an actual\n",
    "value. We can see this order of operations in the following task graph,\n",
    "after which, we actually display the computed mean value by issuing a\n",
    "`compute` method invocation.\n",
    "\n",
    "------"
   ]
  },
  {
   "cell_type": "code",
   "execution_count": 13,
   "metadata": {
    "collapsed": false
   },
   "outputs": [
    {
     "data": {
      "image/png": "[encoded data removed]",
      "text/plain": [
       "<IPython.core.display.Image object>"
      ]
     },
     "execution_count": 13,
     "metadata": {},
     "output_type": "execute_result"
    }
   ],
   "source": [
    "dot_graph(mu.dask)"
   ]
  },
  {
   "cell_type": "code",
   "execution_count": 14,
   "metadata": {
    "collapsed": false
   },
   "outputs": [
    {
     "name": "stdout",
     "output_type": "stream",
     "text": [
      "Mean value =  3.35619449019\n"
     ]
    }
   ],
   "source": [
    "print(\"Mean value = \", mu.compute())"
   ]
  },
  {
   "cell_type": "markdown",
   "metadata": {},
   "source": [
    "-----\n",
    "\n",
    "### `dask.dataframe`\n",
    "\n",
    "The final dask collection is the dataframe, which implements a subset\n",
    "of the Pandas DataFrame and is thus current;y of the most interest to\n",
    "us. To demonstrate using a dask dataframe, we will return to our flight\n",
    "data, specifically the 2001 airline flight data. We read the data into a\n",
    "dask dataframe, which is nearly identical to the Pandas process,\n",
    "however, the process is much faster since dask employs lazy evaluation.\n",
    "The actual data isn't read and processed until the following code cell\n",
    "where we display the first few rows with a call to the `head` method,\n",
    "after which we show the last few rows with a call to the `tail` method,\n",
    "in a similar manner as we would with Pandas.\n",
    "\n",
    "-----"
   ]
  },
  {
   "cell_type": "code",
   "execution_count": 15,
   "metadata": {
    "collapsed": false
   },
   "outputs": [
    {
     "name": "stdout",
     "output_type": "stream",
     "text": [
      "CPU times: user 25.2 ms, sys: 16.9 ms, total: 42.1 ms\n",
      "Wall time: 44.7 ms\n"
     ]
    }
   ],
   "source": [
    "# Read select columns for all rows.\n",
    "\n",
    "import dask.dataframe as dd\n",
    "\n",
    "# Change this to read a different file, for example\n",
    "# /home/data_scientist/data/2001.csv on the JupyterHub Server\n",
    "# /home/data_scientist/rppdm/data/2001.csv on local Docker Container\n",
    "#\n",
    "# Note that the JupyterHub server has data from other years in the raw\n",
    "# subdirectory.\n",
    "#\n",
    "\n",
    "infile = '/home/data_scientist/data/2001.csv'\n",
    "\n",
    "ucs = (1, 2, 4, 14, 15, 16, 17, 18)\n",
    "cnms = ['Month', 'Day', 'dTime', 'aDelay', 'dDelay', 'Depart', 'Arrive', 'Distance']\n",
    "\n",
    "%time alldata = dd.read_csv(infile, header=0, na_values=['NA'], \\\n",
    "                         usecols=ucs, names=cnms)\n",
    "\n",
    "#alldata.memory_usage(index=True)"
   ]
  },
  {
   "cell_type": "code",
   "execution_count": 16,
   "metadata": {
    "collapsed": false
   },
   "outputs": [
    {
     "data": {
      "text/html": [
       "<div>\n",
       "<table border=\"1\" class=\"dataframe\">\n",
       "  <thead>\n",
       "    <tr style=\"text-align: right;\">\n",
       "      <th></th>\n",
       "      <th>Month</th>\n",
       "      <th>Day</th>\n",
       "      <th>dTime</th>\n",
       "      <th>aDelay</th>\n",
       "      <th>dDelay</th>\n",
       "      <th>Depart</th>\n",
       "      <th>Arrive</th>\n",
       "      <th>Distance</th>\n",
       "    </tr>\n",
       "  </thead>\n",
       "  <tbody>\n",
       "    <tr>\n",
       "      <th>0</th>\n",
       "      <td>1</td>\n",
       "      <td>17</td>\n",
       "      <td>1806</td>\n",
       "      <td>-3</td>\n",
       "      <td>-4</td>\n",
       "      <td>BWI</td>\n",
       "      <td>CLT</td>\n",
       "      <td>361</td>\n",
       "    </tr>\n",
       "    <tr>\n",
       "      <th>1</th>\n",
       "      <td>1</td>\n",
       "      <td>18</td>\n",
       "      <td>1805</td>\n",
       "      <td>4</td>\n",
       "      <td>-5</td>\n",
       "      <td>BWI</td>\n",
       "      <td>CLT</td>\n",
       "      <td>361</td>\n",
       "    </tr>\n",
       "    <tr>\n",
       "      <th>2</th>\n",
       "      <td>1</td>\n",
       "      <td>19</td>\n",
       "      <td>1821</td>\n",
       "      <td>23</td>\n",
       "      <td>11</td>\n",
       "      <td>BWI</td>\n",
       "      <td>CLT</td>\n",
       "      <td>361</td>\n",
       "    </tr>\n",
       "    <tr>\n",
       "      <th>3</th>\n",
       "      <td>1</td>\n",
       "      <td>20</td>\n",
       "      <td>1807</td>\n",
       "      <td>10</td>\n",
       "      <td>-3</td>\n",
       "      <td>BWI</td>\n",
       "      <td>CLT</td>\n",
       "      <td>361</td>\n",
       "    </tr>\n",
       "    <tr>\n",
       "      <th>4</th>\n",
       "      <td>1</td>\n",
       "      <td>21</td>\n",
       "      <td>1810</td>\n",
       "      <td>20</td>\n",
       "      <td>0</td>\n",
       "      <td>BWI</td>\n",
       "      <td>CLT</td>\n",
       "      <td>361</td>\n",
       "    </tr>\n",
       "    <tr>\n",
       "      <th>5</th>\n",
       "      <td>1</td>\n",
       "      <td>22</td>\n",
       "      <td>1807</td>\n",
       "      <td>-3</td>\n",
       "      <td>-3</td>\n",
       "      <td>BWI</td>\n",
       "      <td>CLT</td>\n",
       "      <td>361</td>\n",
       "    </tr>\n",
       "    <tr>\n",
       "      <th>6</th>\n",
       "      <td>1</td>\n",
       "      <td>23</td>\n",
       "      <td>1802</td>\n",
       "      <td>-10</td>\n",
       "      <td>-8</td>\n",
       "      <td>BWI</td>\n",
       "      <td>CLT</td>\n",
       "      <td>361</td>\n",
       "    </tr>\n",
       "    <tr>\n",
       "      <th>7</th>\n",
       "      <td>1</td>\n",
       "      <td>24</td>\n",
       "      <td>1804</td>\n",
       "      <td>-12</td>\n",
       "      <td>-6</td>\n",
       "      <td>BWI</td>\n",
       "      <td>CLT</td>\n",
       "      <td>361</td>\n",
       "    </tr>\n",
       "    <tr>\n",
       "      <th>8</th>\n",
       "      <td>1</td>\n",
       "      <td>25</td>\n",
       "      <td>1812</td>\n",
       "      <td>-9</td>\n",
       "      <td>2</td>\n",
       "      <td>BWI</td>\n",
       "      <td>CLT</td>\n",
       "      <td>361</td>\n",
       "    </tr>\n",
       "    <tr>\n",
       "      <th>9</th>\n",
       "      <td>1</td>\n",
       "      <td>26</td>\n",
       "      <td>1812</td>\n",
       "      <td>-1</td>\n",
       "      <td>2</td>\n",
       "      <td>BWI</td>\n",
       "      <td>CLT</td>\n",
       "      <td>361</td>\n",
       "    </tr>\n",
       "  </tbody>\n",
       "</table>\n",
       "</div>"
      ],
      "text/plain": [
       "   Month  Day  dTime  aDelay  dDelay Depart Arrive  Distance\n",
       "0      1   17   1806      -3      -4    BWI    CLT       361\n",
       "1      1   18   1805       4      -5    BWI    CLT       361\n",
       "2      1   19   1821      23      11    BWI    CLT       361\n",
       "3      1   20   1807      10      -3    BWI    CLT       361\n",
       "4      1   21   1810      20       0    BWI    CLT       361\n",
       "5      1   22   1807      -3      -3    BWI    CLT       361\n",
       "6      1   23   1802     -10      -8    BWI    CLT       361\n",
       "7      1   24   1804     -12      -6    BWI    CLT       361\n",
       "8      1   25   1812      -9       2    BWI    CLT       361\n",
       "9      1   26   1812      -1       2    BWI    CLT       361"
      ]
     },
     "execution_count": 16,
     "metadata": {},
     "output_type": "execute_result"
    }
   ],
   "source": [
    "alldata.head(10)"
   ]
  },
  {
   "cell_type": "code",
   "execution_count": 17,
   "metadata": {
    "collapsed": false
   },
   "outputs": [
    {
     "data": {
      "text/html": [
       "<div>\n",
       "<table border=\"1\" class=\"dataframe\">\n",
       "  <thead>\n",
       "    <tr style=\"text-align: right;\">\n",
       "      <th></th>\n",
       "      <th>Month</th>\n",
       "      <th>Day</th>\n",
       "      <th>dTime</th>\n",
       "      <th>aDelay</th>\n",
       "      <th>dDelay</th>\n",
       "      <th>Depart</th>\n",
       "      <th>Arrive</th>\n",
       "      <th>Distance</th>\n",
       "    </tr>\n",
       "  </thead>\n",
       "  <tbody>\n",
       "    <tr>\n",
       "      <th>293766</th>\n",
       "      <td>12</td>\n",
       "      <td>14</td>\n",
       "      <td>704</td>\n",
       "      <td>4</td>\n",
       "      <td>4</td>\n",
       "      <td>ONT</td>\n",
       "      <td>DFW</td>\n",
       "      <td>1189</td>\n",
       "    </tr>\n",
       "    <tr>\n",
       "      <th>293767</th>\n",
       "      <td>12</td>\n",
       "      <td>15</td>\n",
       "      <td>708</td>\n",
       "      <td>3</td>\n",
       "      <td>8</td>\n",
       "      <td>ONT</td>\n",
       "      <td>DFW</td>\n",
       "      <td>1189</td>\n",
       "    </tr>\n",
       "    <tr>\n",
       "      <th>293768</th>\n",
       "      <td>12</td>\n",
       "      <td>16</td>\n",
       "      <td>656</td>\n",
       "      <td>-8</td>\n",
       "      <td>-4</td>\n",
       "      <td>ONT</td>\n",
       "      <td>DFW</td>\n",
       "      <td>1189</td>\n",
       "    </tr>\n",
       "    <tr>\n",
       "      <th>293769</th>\n",
       "      <td>12</td>\n",
       "      <td>17</td>\n",
       "      <td>656</td>\n",
       "      <td>-4</td>\n",
       "      <td>-4</td>\n",
       "      <td>ONT</td>\n",
       "      <td>DFW</td>\n",
       "      <td>1189</td>\n",
       "    </tr>\n",
       "    <tr>\n",
       "      <th>293770</th>\n",
       "      <td>12</td>\n",
       "      <td>18</td>\n",
       "      <td>709</td>\n",
       "      <td>3</td>\n",
       "      <td>9</td>\n",
       "      <td>ONT</td>\n",
       "      <td>DFW</td>\n",
       "      <td>1189</td>\n",
       "    </tr>\n",
       "  </tbody>\n",
       "</table>\n",
       "</div>"
      ],
      "text/plain": [
       "        Month  Day  dTime  aDelay  dDelay Depart Arrive  Distance\n",
       "293766     12   14    704       4       4    ONT    DFW      1189\n",
       "293767     12   15    708       3       8    ONT    DFW      1189\n",
       "293768     12   16    656      -8      -4    ONT    DFW      1189\n",
       "293769     12   17    656      -4      -4    ONT    DFW      1189\n",
       "293770     12   18    709       3       9    ONT    DFW      1189"
      ]
     },
     "execution_count": 17,
     "metadata": {},
     "output_type": "execute_result"
    }
   ],
   "source": [
    "alldata.tail()"
   ]
  },
  {
   "cell_type": "markdown",
   "metadata": {},
   "source": [
    "-----\n",
    "\n",
    "We can often use dask dataframes in places where we normally might use a\n",
    "Pandas DataFrame. For example, we can make a distance histogram plot of\n",
    "the data in our dask dataframe by using seaborn.\n",
    "\n",
    "-----"
   ]
  },
  {
   "cell_type": "code",
   "execution_count": 18,
   "metadata": {
    "collapsed": false
   },
   "outputs": [
    {
     "data": {
      "image/png": "[encoded data removed]",
      "text/plain": [
       "<matplotlib.figure.Figure at 0x7f205af14e48>"
      ]
     },
     "metadata": {},
     "output_type": "display_data"
    }
   ],
   "source": [
    "%matplotlib inline\n",
    "\n",
    "import matplotlib as mpl\n",
    "import matplotlib.pyplot as plt\n",
    "import seaborn as sns\n",
    "\n",
    "sns.set(style=\"white\", font_scale=2.0)\n",
    "\n",
    "ax = sns.distplot(alldata['Distance'], kde=False)\n",
    "\n",
    "ax.set(title='Flight Distances', \\\n",
    "       xlabel='Distance Travelled', xlim=(0, 3100))\n",
    "\n",
    "\n",
    "sns.despine()"
   ]
  },
  {
   "cell_type": "markdown",
   "metadata": {},
   "source": [
    "-----\n",
    "\n",
    "### Column Data Storage\n",
    "\n",
    "For structured data we often visualize the data as a row-ordered table. \n",
    "From a relational database standpoint, this maks sense as rows are\n",
    "consistent entities. In many cases, however, we do not want or need an\n",
    "entire row and thus pay an overhead for maintaining this viewpoint. In\n",
    "addition, we often increase our storage requirements (and thus data\n",
    "processing requirements) since we can't take advantage of natural\n",
    "compression that might be possible when we view the same data in a\n",
    "column oriented fashion. \n",
    "\n",
    "For example, this is demonstrated in the following code cell, where we\n",
    "display the first ten rows of the flight data. Constant or even slowly\n",
    "changing data can be easily compressed, minimizing both dta storage and\n",
    "data transport latencies. This column viewpoint has grown in popularity,\n",
    "and several implementations, such as [Redshift][hb] or [Parquet][pq]. \n",
    "\n",
    "-----\n",
    "\n",
    "[hb]: http://docs.aws.amazon.com/redshift/latest/dg/welcome.html\n",
    "[pq]: https://github.com/apache/parquet-format"
   ]
  },
  {
   "cell_type": "code",
   "execution_count": 19,
   "metadata": {
    "collapsed": false
   },
   "outputs": [
    {
     "data": {
      "text/html": [
       "<div>\n",
       "<table border=\"1\" class=\"dataframe\">\n",
       "  <thead>\n",
       "    <tr style=\"text-align: right;\">\n",
       "      <th></th>\n",
       "      <th>Year</th>\n",
       "      <th>Month</th>\n",
       "      <th>DayofMonth</th>\n",
       "      <th>DayOfWeek</th>\n",
       "      <th>DepTime</th>\n",
       "      <th>CRSDepTime</th>\n",
       "      <th>ArrTime</th>\n",
       "      <th>CRSArrTime</th>\n",
       "      <th>UniqueCarrier</th>\n",
       "      <th>FlightNum</th>\n",
       "      <th>...</th>\n",
       "      <th>TaxiIn</th>\n",
       "      <th>TaxiOut</th>\n",
       "      <th>Cancelled</th>\n",
       "      <th>CancellationCode</th>\n",
       "      <th>Diverted</th>\n",
       "      <th>CarrierDelay</th>\n",
       "      <th>WeatherDelay</th>\n",
       "      <th>NASDelay</th>\n",
       "      <th>SecurityDelay</th>\n",
       "      <th>LateAircraftDelay</th>\n",
       "    </tr>\n",
       "  </thead>\n",
       "  <tbody>\n",
       "    <tr>\n",
       "      <th>0</th>\n",
       "      <td>2001</td>\n",
       "      <td>1</td>\n",
       "      <td>17</td>\n",
       "      <td>3</td>\n",
       "      <td>1806</td>\n",
       "      <td>1810</td>\n",
       "      <td>1931</td>\n",
       "      <td>1934</td>\n",
       "      <td>US</td>\n",
       "      <td>375</td>\n",
       "      <td>...</td>\n",
       "      <td>5</td>\n",
       "      <td>20</td>\n",
       "      <td>0</td>\n",
       "      <td>NaN</td>\n",
       "      <td>0</td>\n",
       "      <td>NaN</td>\n",
       "      <td>NaN</td>\n",
       "      <td>NaN</td>\n",
       "      <td>NaN</td>\n",
       "      <td>NaN</td>\n",
       "    </tr>\n",
       "    <tr>\n",
       "      <th>1</th>\n",
       "      <td>2001</td>\n",
       "      <td>1</td>\n",
       "      <td>18</td>\n",
       "      <td>4</td>\n",
       "      <td>1805</td>\n",
       "      <td>1810</td>\n",
       "      <td>1938</td>\n",
       "      <td>1934</td>\n",
       "      <td>US</td>\n",
       "      <td>375</td>\n",
       "      <td>...</td>\n",
       "      <td>9</td>\n",
       "      <td>20</td>\n",
       "      <td>0</td>\n",
       "      <td>NaN</td>\n",
       "      <td>0</td>\n",
       "      <td>NaN</td>\n",
       "      <td>NaN</td>\n",
       "      <td>NaN</td>\n",
       "      <td>NaN</td>\n",
       "      <td>NaN</td>\n",
       "    </tr>\n",
       "    <tr>\n",
       "      <th>2</th>\n",
       "      <td>2001</td>\n",
       "      <td>1</td>\n",
       "      <td>19</td>\n",
       "      <td>5</td>\n",
       "      <td>1821</td>\n",
       "      <td>1810</td>\n",
       "      <td>1957</td>\n",
       "      <td>1934</td>\n",
       "      <td>US</td>\n",
       "      <td>375</td>\n",
       "      <td>...</td>\n",
       "      <td>6</td>\n",
       "      <td>10</td>\n",
       "      <td>0</td>\n",
       "      <td>NaN</td>\n",
       "      <td>0</td>\n",
       "      <td>NaN</td>\n",
       "      <td>NaN</td>\n",
       "      <td>NaN</td>\n",
       "      <td>NaN</td>\n",
       "      <td>NaN</td>\n",
       "    </tr>\n",
       "    <tr>\n",
       "      <th>3</th>\n",
       "      <td>2001</td>\n",
       "      <td>1</td>\n",
       "      <td>20</td>\n",
       "      <td>6</td>\n",
       "      <td>1807</td>\n",
       "      <td>1810</td>\n",
       "      <td>1944</td>\n",
       "      <td>1934</td>\n",
       "      <td>US</td>\n",
       "      <td>375</td>\n",
       "      <td>...</td>\n",
       "      <td>4</td>\n",
       "      <td>27</td>\n",
       "      <td>0</td>\n",
       "      <td>NaN</td>\n",
       "      <td>0</td>\n",
       "      <td>NaN</td>\n",
       "      <td>NaN</td>\n",
       "      <td>NaN</td>\n",
       "      <td>NaN</td>\n",
       "      <td>NaN</td>\n",
       "    </tr>\n",
       "    <tr>\n",
       "      <th>4</th>\n",
       "      <td>2001</td>\n",
       "      <td>1</td>\n",
       "      <td>21</td>\n",
       "      <td>7</td>\n",
       "      <td>1810</td>\n",
       "      <td>1810</td>\n",
       "      <td>1954</td>\n",
       "      <td>1934</td>\n",
       "      <td>US</td>\n",
       "      <td>375</td>\n",
       "      <td>...</td>\n",
       "      <td>4</td>\n",
       "      <td>38</td>\n",
       "      <td>0</td>\n",
       "      <td>NaN</td>\n",
       "      <td>0</td>\n",
       "      <td>NaN</td>\n",
       "      <td>NaN</td>\n",
       "      <td>NaN</td>\n",
       "      <td>NaN</td>\n",
       "      <td>NaN</td>\n",
       "    </tr>\n",
       "    <tr>\n",
       "      <th>5</th>\n",
       "      <td>2001</td>\n",
       "      <td>1</td>\n",
       "      <td>22</td>\n",
       "      <td>1</td>\n",
       "      <td>1807</td>\n",
       "      <td>1810</td>\n",
       "      <td>1931</td>\n",
       "      <td>1934</td>\n",
       "      <td>US</td>\n",
       "      <td>375</td>\n",
       "      <td>...</td>\n",
       "      <td>12</td>\n",
       "      <td>11</td>\n",
       "      <td>0</td>\n",
       "      <td>NaN</td>\n",
       "      <td>0</td>\n",
       "      <td>NaN</td>\n",
       "      <td>NaN</td>\n",
       "      <td>NaN</td>\n",
       "      <td>NaN</td>\n",
       "      <td>NaN</td>\n",
       "    </tr>\n",
       "    <tr>\n",
       "      <th>6</th>\n",
       "      <td>2001</td>\n",
       "      <td>1</td>\n",
       "      <td>23</td>\n",
       "      <td>2</td>\n",
       "      <td>1802</td>\n",
       "      <td>1810</td>\n",
       "      <td>1924</td>\n",
       "      <td>1934</td>\n",
       "      <td>US</td>\n",
       "      <td>375</td>\n",
       "      <td>...</td>\n",
       "      <td>5</td>\n",
       "      <td>16</td>\n",
       "      <td>0</td>\n",
       "      <td>NaN</td>\n",
       "      <td>0</td>\n",
       "      <td>NaN</td>\n",
       "      <td>NaN</td>\n",
       "      <td>NaN</td>\n",
       "      <td>NaN</td>\n",
       "      <td>NaN</td>\n",
       "    </tr>\n",
       "    <tr>\n",
       "      <th>7</th>\n",
       "      <td>2001</td>\n",
       "      <td>1</td>\n",
       "      <td>24</td>\n",
       "      <td>3</td>\n",
       "      <td>1804</td>\n",
       "      <td>1810</td>\n",
       "      <td>1922</td>\n",
       "      <td>1934</td>\n",
       "      <td>US</td>\n",
       "      <td>375</td>\n",
       "      <td>...</td>\n",
       "      <td>4</td>\n",
       "      <td>14</td>\n",
       "      <td>0</td>\n",
       "      <td>NaN</td>\n",
       "      <td>0</td>\n",
       "      <td>NaN</td>\n",
       "      <td>NaN</td>\n",
       "      <td>NaN</td>\n",
       "      <td>NaN</td>\n",
       "      <td>NaN</td>\n",
       "    </tr>\n",
       "    <tr>\n",
       "      <th>8</th>\n",
       "      <td>2001</td>\n",
       "      <td>1</td>\n",
       "      <td>25</td>\n",
       "      <td>4</td>\n",
       "      <td>1812</td>\n",
       "      <td>1810</td>\n",
       "      <td>1925</td>\n",
       "      <td>1934</td>\n",
       "      <td>US</td>\n",
       "      <td>375</td>\n",
       "      <td>...</td>\n",
       "      <td>6</td>\n",
       "      <td>15</td>\n",
       "      <td>0</td>\n",
       "      <td>NaN</td>\n",
       "      <td>0</td>\n",
       "      <td>NaN</td>\n",
       "      <td>NaN</td>\n",
       "      <td>NaN</td>\n",
       "      <td>NaN</td>\n",
       "      <td>NaN</td>\n",
       "    </tr>\n",
       "    <tr>\n",
       "      <th>9</th>\n",
       "      <td>2001</td>\n",
       "      <td>1</td>\n",
       "      <td>26</td>\n",
       "      <td>5</td>\n",
       "      <td>1812</td>\n",
       "      <td>1810</td>\n",
       "      <td>1933</td>\n",
       "      <td>1934</td>\n",
       "      <td>US</td>\n",
       "      <td>375</td>\n",
       "      <td>...</td>\n",
       "      <td>4</td>\n",
       "      <td>15</td>\n",
       "      <td>0</td>\n",
       "      <td>NaN</td>\n",
       "      <td>0</td>\n",
       "      <td>NaN</td>\n",
       "      <td>NaN</td>\n",
       "      <td>NaN</td>\n",
       "      <td>NaN</td>\n",
       "      <td>NaN</td>\n",
       "    </tr>\n",
       "  </tbody>\n",
       "</table>\n",
       "<p>10 rows × 29 columns</p>\n",
       "</div>"
      ],
      "text/plain": [
       "   Year  Month  DayofMonth  DayOfWeek  DepTime  CRSDepTime  ArrTime  \\\n",
       "0  2001      1          17          3     1806        1810     1931   \n",
       "1  2001      1          18          4     1805        1810     1938   \n",
       "2  2001      1          19          5     1821        1810     1957   \n",
       "3  2001      1          20          6     1807        1810     1944   \n",
       "4  2001      1          21          7     1810        1810     1954   \n",
       "5  2001      1          22          1     1807        1810     1931   \n",
       "6  2001      1          23          2     1802        1810     1924   \n",
       "7  2001      1          24          3     1804        1810     1922   \n",
       "8  2001      1          25          4     1812        1810     1925   \n",
       "9  2001      1          26          5     1812        1810     1933   \n",
       "\n",
       "   CRSArrTime UniqueCarrier  FlightNum        ...         TaxiIn  TaxiOut  \\\n",
       "0        1934            US        375        ...              5       20   \n",
       "1        1934            US        375        ...              9       20   \n",
       "2        1934            US        375        ...              6       10   \n",
       "3        1934            US        375        ...              4       27   \n",
       "4        1934            US        375        ...              4       38   \n",
       "5        1934            US        375        ...             12       11   \n",
       "6        1934            US        375        ...              5       16   \n",
       "7        1934            US        375        ...              4       14   \n",
       "8        1934            US        375        ...              6       15   \n",
       "9        1934            US        375        ...              4       15   \n",
       "\n",
       "   Cancelled  CancellationCode  Diverted  CarrierDelay WeatherDelay NASDelay  \\\n",
       "0          0               NaN         0           NaN          NaN      NaN   \n",
       "1          0               NaN         0           NaN          NaN      NaN   \n",
       "2          0               NaN         0           NaN          NaN      NaN   \n",
       "3          0               NaN         0           NaN          NaN      NaN   \n",
       "4          0               NaN         0           NaN          NaN      NaN   \n",
       "5          0               NaN         0           NaN          NaN      NaN   \n",
       "6          0               NaN         0           NaN          NaN      NaN   \n",
       "7          0               NaN         0           NaN          NaN      NaN   \n",
       "8          0               NaN         0           NaN          NaN      NaN   \n",
       "9          0               NaN         0           NaN          NaN      NaN   \n",
       "\n",
       "   SecurityDelay  LateAircraftDelay  \n",
       "0            NaN                NaN  \n",
       "1            NaN                NaN  \n",
       "2            NaN                NaN  \n",
       "3            NaN                NaN  \n",
       "4            NaN                NaN  \n",
       "5            NaN                NaN  \n",
       "6            NaN                NaN  \n",
       "7            NaN                NaN  \n",
       "8            NaN                NaN  \n",
       "9            NaN                NaN  \n",
       "\n",
       "[10 rows x 29 columns]"
      ]
     },
     "execution_count": 19,
     "metadata": {},
     "output_type": "execute_result"
    }
   ],
   "source": [
    "import pandas as pd\n",
    "\n",
    "# Change this to read a different file, for example\n",
    "# /home/data_scientist/data/2001.csv on the JupyterHub Server\n",
    "# /home/data_scientist/rppdm/data/2001.csv on the local Docker container\n",
    "#\n",
    "# Note that the JupyterHub server has data from other years in the raw\n",
    "# subdirectory.\n",
    "#\n",
    "filename = '/home/data_scientist/data/2001.csv'\n",
    "\n",
    "pd.read_csv(filename, header = 0, nrows = 10, encoding='latin-1')"
   ]
  },
  {
   "cell_type": "markdown",
   "metadata": {},
   "source": [
    "-----\n",
    "\n",
    "### `castra`\n",
    "\n",
    "To demonstrate a column store, we can use the Python [_castra_][c]\n",
    "library. Castra implements a column store that integrates naturally with\n",
    "a dask dataframe providing a disk-based, partitioned and compressed\n",
    "archive. This can greatly improve data processing since we often want\n",
    "all rows from a select few columns in a dataframe. To demonstrate, we\n",
    "can take our flight info dask dataframe and persist this data in a\n",
    "castra column data store, which can easily be done with the `to_castra`\n",
    "method. First, however, we need to delete the existing column data\n",
    "store, if it exists, since a column data store is generally only\n",
    "supportive of appending.\n",
    "\n",
    "Note that castra is still experimental, we are simply using it to\n",
    "demonstrate the concept of a column data store with dask.\n",
    "\n",
    "-----\n",
    "\n",
    "[c]: https://github.com/blaze/castra"
   ]
  },
  {
   "cell_type": "code",
   "execution_count": 20,
   "metadata": {
    "collapsed": false
   },
   "outputs": [],
   "source": [
    "%%bash\n",
    "# We delete the castra data store if it exists.\n",
    "\n",
    "file=\"2001.castra\"\n",
    "\n",
    "if [ -d $file ]\n",
    "then\n",
    "    rm -rf $file\n",
    "fi"
   ]
  },
  {
   "cell_type": "code",
   "execution_count": 21,
   "metadata": {
    "collapsed": false
   },
   "outputs": [
    {
     "data": {
      "text/plain": [
       "<castra.core.Castra at 0x7f205af0a780>"
      ]
     },
     "execution_count": 21,
     "metadata": {},
     "output_type": "execute_result"
    }
   ],
   "source": [
    "# We can only write to our home directory on the Jupyter server.\n",
    "\n",
    "outfile = '2001.castra'\n",
    "\n",
    "alldata.to_castra(outfile)"
   ]
  },
  {
   "cell_type": "markdown",
   "metadata": {},
   "source": [
    "-----\n",
    "\n",
    "We can explore the format of this new data store by simply browsing\n",
    "the Unix file system.\n",
    "\n",
    "-----"
   ]
  },
  {
   "cell_type": "code",
   "execution_count": 22,
   "metadata": {
    "collapsed": false
   },
   "outputs": [
    {
     "name": "stdout",
     "output_type": "stream",
     "text": [
      "total 84\r\n",
      "drwxr-xr-x 21 data_scientist data_scientist 4096 Sep 16 21:50 .\r\n",
      "drwxr-xr-x  4 data_scientist data_scientist 4096 Sep 16 21:49 ..\r\n",
      "drwxr-xr-x  2 data_scientist data_scientist 4096 Sep 16 21:49 0--334905\r\n",
      "drwxr-xr-x  2 data_scientist data_scientist 4096 Sep 16 21:49 1002522--1337520\r\n",
      "drwxr-xr-x  2 data_scientist data_scientist 4096 Sep 16 21:49 1337521--1672329\r\n",
      "drwxr-xr-x  2 data_scientist data_scientist 4096 Sep 16 21:49 1672330--2005414\r\n",
      "drwxr-xr-x  2 data_scientist data_scientist 4096 Sep 16 21:49 2005415--2339760\r\n",
      "drwxr-xr-x  2 data_scientist data_scientist 4096 Sep 16 21:49 2339761--2673724\r\n",
      "drwxr-xr-x  2 data_scientist data_scientist 4096 Sep 16 21:49 2673725--3007455\r\n",
      "drwxr-xr-x  2 data_scientist data_scientist 4096 Sep 16 21:50 3007456--3341889\r\n",
      "drwxr-xr-x  2 data_scientist data_scientist 4096 Sep 16 21:50 3341890--3674906\r\n",
      "drwxr-xr-x  2 data_scientist data_scientist 4096 Sep 16 21:49 334906--669518\r\n",
      "drwxr-xr-x  2 data_scientist data_scientist 4096 Sep 16 21:50 3674907--4009721\r\n",
      "drwxr-xr-x  2 data_scientist data_scientist 4096 Sep 16 21:50 4009722--4345095\r\n",
      "drwxr-xr-x  2 data_scientist data_scientist 4096 Sep 16 21:50 4345096--4680865\r\n",
      "drwxr-xr-x  2 data_scientist data_scientist 4096 Sep 16 21:50 4680866--5012622\r\n",
      "drwxr-xr-x  2 data_scientist data_scientist 4096 Sep 16 21:50 5012623--5343366\r\n",
      "drwxr-xr-x  2 data_scientist data_scientist 4096 Sep 16 21:50 5343367--5674008\r\n",
      "drwxr-xr-x  2 data_scientist data_scientist 4096 Sep 16 21:50 5674009--5967779\r\n",
      "drwxr-xr-x  2 data_scientist data_scientist 4096 Sep 16 21:49 669519--1002521\r\n",
      "drwxr-xr-x  3 data_scientist data_scientist 4096 Sep 16 21:49 meta\r\n"
     ]
    }
   ],
   "source": [
    "!ls -la 2001.castra"
   ]
  },
  {
   "cell_type": "markdown",
   "metadata": {},
   "source": [
    "-----\n",
    "\n",
    "We can retrieve data from this column store by simply indicating that we\n",
    "wish to create a new dask dataframe from the given castra data store. In\n",
    "this case, we also filter rows with missing data, and then compute the\n",
    "mean value of the difference between arrival and departure delays. With\n",
    "lazy evaluation, none of these steps are completed until we issue the\n",
    "compute method call. For **_visual sugar_**, we also use the built-in\n",
    "dask progress bar to highlight our progress.\n",
    "\n",
    "-----"
   ]
  },
  {
   "cell_type": "code",
   "execution_count": 23,
   "metadata": {
    "collapsed": false
   },
   "outputs": [
    {
     "name": "stdout",
     "output_type": "stream",
     "text": [
      "[########################################] | 100% Completed | 18.4s\n",
      "-2.58702287849\n"
     ]
    }
   ],
   "source": [
    "from dask.diagnostics import ProgressBar\n",
    "\n",
    "df = dd.from_castra(outfile).dropna()\n",
    "\n",
    "with ProgressBar():\n",
    "    result = (df.aDelay - df.dDelay).mean().compute()\n",
    "                    \n",
    "print(result)"
   ]
  },
  {
   "cell_type": "markdown",
   "metadata": {},
   "source": [
    "-----\n",
    "## Breakout Session\n",
    "\n",
    "During this breakout, you should work with the previous Dask examples in\n",
    "order to better learn how Dask works, and how it is different than other\n",
    "Python approaches like Pandas. Specific problems you can attempt include\n",
    "the following:\n",
    "\n",
    "1. Modify the initial task graph by changing the valus of the variables\n",
    "and recompute the result. Does the new task graph make sense?\n",
    "\n",
    "2. Modify the array example to compute a different quantity (see the\n",
    "[dask array interface][dai] for available functions). How does\n",
    "performance compare? How does the relative perfomance change with\n",
    "increasing array size?\n",
    "\n",
    "Additional, more advanced problems:\n",
    "\n",
    "1. Modify the dask dataframe example to display a regression plot of\n",
    "arrival delay versus departure delay for flights leaving O'Hare.\n",
    "\n",
    "2. Modify the dask dataframe example to process multiple flight data\n",
    "files.\n",
    "\n",
    "-----\n",
    "[dai]: http://dask.pydata.org/en/latest/array-api.html"
   ]
  },
  {
   "cell_type": "markdown",
   "metadata": {},
   "source": [
    "### Additional References\n",
    "\n",
    "1. [Dask][d] official repository.\n",
    "6. [Dask Tutorial][dt].\n",
    "4. Dask [Example Notebooks][de].\n",
    "1. [Castra][c] official repository.\n",
    "2. [Blog Post][tl] demonstrating Dask and Castra.\n",
    "\n",
    "-----\n",
    "[d]: https://github.com/blaze/dask\n",
    "[dt]: https://github.com/blaze/dask-tutorial\n",
    "[de]: https://github.com/blaze/dask-examples\n",
    "[c]: https://github.com/blaze/castra\n",
    "[tl]: http://matthewrocklin.com/blog/work/2015/08/28/Storage/"
   ]
  },
  {
   "cell_type": "markdown",
   "metadata": {},
   "source": [
    "### Return to the [Week Two](index.ipynb) index.\n",
    "\n",
    "-----"
   ]
  }
 ],
 "metadata": {
  "kernelspec": {
   "display_name": "Python 3",
   "language": "python",
   "name": "python3"
  },
  "language_info": {
   "codemirror_mode": {
    "name": "ipython",
    "version": 3
   },
   "file_extension": ".py",
   "mimetype": "text/x-python",
   "name": "python",
   "nbconvert_exporter": "python",
   "pygments_lexer": "ipython3",
   "version": "3.4.0"
  }
 },
 "nbformat": 4,
 "nbformat_minor": 0
}
