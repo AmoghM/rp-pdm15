{
 "cells": [
  {
   "cell_type": "markdown",
   "metadata": {},
   "source": [
    "<DIV ALIGN=CENTER>\n",
    "\n",
    "# Introduction to Dask\n",
    "## Professor Robert J. Brunner\n",
    "  \n",
    "</DIV>  \n",
    "-----\n",
    "-----"
   ]
  },
  {
   "cell_type": "markdown",
   "metadata": {},
   "source": [
    "## Introduction\n",
    "\n",
    "What is Dask, why do we care?\n",
    "\n",
    "In this IPython Notebook, we explore using dask to perform some data\n",
    "processing in a similar maner to our previous efforts with Pandas. \n",
    "\n",
    "-----"
   ]
  },
  {
   "cell_type": "markdown",
   "metadata": {},
   "source": [
    "### Initialization\n",
    "\n",
    "In this class, we have a dedicated Spark cluster running to allow\n",
    "students to explore Spark from within our IPython Notebook environment.\n",
    "Since our Spark cluster has limited resources, we need to\n",
    "carefully manage them, in particular we need to ensure that any\n",
    "SparkContext previously used by this Jupyter Server is properly released\n",
    "before starting a new one. After this, we will initialize a new\n",
    "SparkContext to properly interact from this dockerized IPython Notebook\n",
    "to the Spark cluster.\n",
    "\n",
    "----- "
   ]
  },
  {
   "cell_type": "code",
   "execution_count": 12,
   "metadata": {
    "collapsed": false
   },
   "outputs": [],
   "source": [
    "def plus(x, y):\n",
    "    return x + y\n",
    "\n",
    "def minus(x, y):\n",
    "    return x - y"
   ]
  },
  {
   "cell_type": "code",
   "execution_count": 13,
   "metadata": {
    "collapsed": false
   },
   "outputs": [
    {
     "data": {
      "text/plain": [
       "1"
      ]
     },
     "execution_count": 13,
     "metadata": {},
     "output_type": "execute_result"
    }
   ],
   "source": [
    "a = 9\n",
    "b = plus(a, 1)\n",
    "\n",
    "x = 2\n",
    "y = plus(x, 7)\n",
    "\n",
    "z = minus(b, y)\n",
    "z"
   ]
  },
  {
   "cell_type": "code",
   "execution_count": 14,
   "metadata": {
    "collapsed": true
   },
   "outputs": [],
   "source": [
    "dsk = {'a': 9, \n",
    "       'b': (plus, 'a', 1),\n",
    "       \n",
    "       'x': 2,\n",
    "       'y': (plus, 'x', 7),\n",
    "       \n",
    "       'z': (minus, 'b', 'y')}"
   ]
  },
  {
   "cell_type": "code",
   "execution_count": 15,
   "metadata": {
    "collapsed": false
   },
   "outputs": [
    {
     "data": {
      "text/plain": [
       "dict"
      ]
     },
     "execution_count": 15,
     "metadata": {},
     "output_type": "execute_result"
    }
   ],
   "source": [
    "type(dsk)"
   ]
  },
  {
   "cell_type": "code",
   "execution_count": 16,
   "metadata": {
    "collapsed": false
   },
   "outputs": [
    {
     "data": {
      "image/png": "[encoded data removed]",
      "text/plain": [
       "<IPython.core.display.Image object>"
      ]
     },
     "execution_count": 16,
     "metadata": {},
     "output_type": "execute_result"
    }
   ],
   "source": [
    "from dask.dot import dot_graph\n",
    "dot_graph(dsk)"
   ]
  },
  {
   "cell_type": "code",
   "execution_count": null,
   "metadata": {
    "collapsed": true
   },
   "outputs": [],
   "source": []
  },
  {
   "cell_type": "markdown",
   "metadata": {},
   "source": [
    "-----\n",
    "## Breakout Session\n",
    "\n",
    "During this breakout, you should work with the previous Dask examples\n",
    "in order to better learn how Dask works, and how it is different than\n",
    "other Python approaches like Pandas. Specific problems you can attempt\n",
    "include the following:\n",
    "\n",
    "1. \n",
    "\n",
    "2. \n",
    "\n",
    "3. \n",
    "\n",
    "\n",
    "Additional, more advanced problems:\n",
    "\n",
    "1. \n",
    "\n",
    "-----"
   ]
  },
  {
   "cell_type": "markdown",
   "metadata": {},
   "source": [
    "### Additional References\n",
    "\n",
    "2. [Text][tl] .\n",
    "\n",
    "-----\n",
    "[tl]: "
   ]
  },
  {
   "cell_type": "markdown",
   "metadata": {},
   "source": [
    "### Return to the [Week Two](index.ipynb) index.\n",
    "\n",
    "-----"
   ]
  }
 ],
 "metadata": {
  "kernelspec": {
   "display_name": "Python 3",
   "language": "python",
   "name": "python3"
  },
  "language_info": {
   "codemirror_mode": {
    "name": "ipython",
    "version": 3
   },
   "file_extension": ".py",
   "mimetype": "text/x-python",
   "name": "python",
   "nbconvert_exporter": "python",
   "pygments_lexer": "ipython3",
   "version": "3.4.0"
  }
 },
 "nbformat": 4,
 "nbformat_minor": 0
}
