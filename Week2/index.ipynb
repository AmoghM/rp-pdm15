{
 "cells": [
  {
   "cell_type": "markdown",
   "metadata": {},
   "source": [
    "<DIV ALIGN=CENTER>\n",
    "\n",
    "# Practical Data Mining  \n",
    "## University of Illinois, Research Park  \n",
    "## Robert J. Brunner  \n",
    "## Fall 2015  \n",
    "  \n",
    "</DIV>  \n",
    "-----\n",
    "-----"
   ]
  },
  {
   "cell_type": "markdown",
   "metadata": {},
   "source": [
    "## Week 2: TBD. and Regression\n",
    "\n",
    "### Draft Schedule:\n",
    "\n",
    "| Time |  Topic|\n",
    "|---|---|\n",
    "| 6:30-6:45 | XXX  | \n",
    "| 6:45-7:15 | XXX | \n",
    "| 7:15–7:45 | XXX | \n",
    "| 7:45-8:00 | Introduction to Regression |\n",
    "\n",
    "-----\n",
    "\n",
    "\n",
    "### Topic 1: [XXX][t1]\n",
    "\n",
    "The first topic this week explores .\n",
    "\n",
    "### Topic 2: [XXX][t2]\n",
    "\n",
    "The second topics for this week uses .\n",
    "\n",
    "### Topic 3:  [Introduction to Regression][t3]\n",
    "\n",
    "Our final topic in the first week is an introduction to regression,\n",
    "where we determine a model approximation to a data set.\n",
    "\n",
    "-----\n",
    "\n",
    "[t1]: unixde.ipynb\n",
    "[t2]: pyde.ipynb\n",
    "[t3]: intro2regress.ipynb"
   ]
  }
 ],
 "metadata": {
  "kernelspec": {
   "display_name": "Python 3",
   "language": "python",
   "name": "python3"
  },
  "language_info": {
   "codemirror_mode": {
    "name": "ipython",
    "version": 3
   },
   "file_extension": ".py",
   "mimetype": "text/x-python",
   "name": "python",
   "nbconvert_exporter": "python",
   "pygments_lexer": "ipython3",
   "version": "3.4.0"
  }
 },
 "nbformat": 4,
 "nbformat_minor": 0
}
