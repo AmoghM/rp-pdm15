{
 "cells": [
  {
   "cell_type": "markdown",
   "metadata": {},
   "source": [
    "<DIV ALIGN=CENTER>\n",
    "\n",
    "# Practical Data Mining  \n",
    "## University of Illinois, Research Park  \n",
    "## Robert J. Brunner  \n",
    "## Fall 2015  \n",
    "  \n",
    "</DIV>  \n",
    "-----\n",
    "-----"
   ]
  },
  {
   "cell_type": "markdown",
   "metadata": {},
   "source": [
    "## Week 2: Introduction to Data Analysis\n",
    "\n",
    "### Draft Schedule:\n",
    "\n",
    "| Time |  Topic|\n",
    "|---|---|\n",
    "| 6:30-7:10 | Introduction to Regression   | \n",
    "| 7:10–7:30 | Introduction to Dask | \n",
    "| 7:30-8:00 | Introduction to Spark|\n",
    "\n",
    "-----\n",
    "\n",
    "\n",
    "### Topic 1: [Introduction to Regression][t1]\n",
    "\n",
    "The first topic this week is an introduction to regression,\n",
    "where we determine a model approximation to a data set.\n",
    "\n",
    "### Topic 2: [Introduction to Dask][t2]\n",
    "\n",
    "The second topics this week explores an out-of-memory (or core) data\n",
    "structure technology called _dask_. This introduces the concept of\n",
    "functional programming and the pipelining of tasks to achieve improved\n",
    "performance on large data, including semi-structured and unstructured\n",
    "data. We also explore column data storage techniques.\n",
    "\n",
    "### Topic 3:  [Introduction to Spark][t3]\n",
    "\n",
    "Our final topic in week two is Spark, which is a processing framework\n",
    "designed to process very large data.\n",
    "\n",
    "\n",
    "-----\n",
    "\n",
    "[t1]: ./intro2regress.ipynb\n",
    "[t2]: ./intro2dask.ipynb\n",
    "[t3]: ./intro2spark.ipynb"
   ]
  }
 ],
 "metadata": {
  "kernelspec": {
   "display_name": "Python 3",
   "language": "python",
   "name": "python3"
  },
  "language_info": {
   "codemirror_mode": {
    "name": "ipython",
    "version": 3
   },
   "file_extension": ".py",
   "mimetype": "text/x-python",
   "name": "python",
   "nbconvert_exporter": "python",
   "pygments_lexer": "ipython3",
   "version": "3.4.0"
  }
 },
 "nbformat": 4,
 "nbformat_minor": 0
}
