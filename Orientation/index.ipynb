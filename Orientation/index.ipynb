{
 "cells": [
  {
   "cell_type": "markdown",
   "metadata": {},
   "source": [
    "<DIV ALIGN=CENTER>\n",
    "\n",
    "# Practical Data Mining  \n",
    "## University of Illinois, Research Park  \n",
    "## Robert J. Brunner  \n",
    "## Fall 2015  \n",
    "  \n",
    "</DIV>  \n",
    "-----\n",
    "-----"
   ]
  },
  {
   "cell_type": "markdown",
   "metadata": {},
   "source": [
    "## Orientation: Course Preparation\n",
    "\n",
    "While we do have a cloud computer available to run the course IPython\n",
    "notebooks, we would prefer all students to have the Docker technology\n",
    "installed on their laptop both as a backup for in-class sessions and\n",
    "also to allow students to work on the material between class sessions or\n",
    "after the conclusion of the course.\n",
    "\n",
    "### Topic 1: [Virtualization and Dockers][t1]\n",
    "\n",
    "First, you should download and install the Docker application and the\n",
    "course Docker course image.\n",
    "\n",
    "### Topic 2: [Github][t2]\n",
    "\n",
    "The course material is available on github. While you can browse the\n",
    "material on the github website, the material is designed to be used\n",
    "interactively. As a result, we strongly encourage you to learn how to\n",
    "use github, and the `git` tool to clone the course repository to your\n",
    "laptop.\n",
    "\n",
    "-----\n",
    "\n",
    "[t1]: virtualization.ipynb\n",
    "[t2]: intro2github.ipynb"
   ]
  },
  {
   "cell_type": "markdown",
   "metadata": {},
   "source": [
    "### Return to the [Course](../index.ipynb) index.\n",
    "\n",
    "-----"
   ]
  }
 ],
 "metadata": {
  "kernelspec": {
   "display_name": "Python 3",
   "language": "python",
   "name": "python3"
  },
  "language_info": {
   "codemirror_mode": {
    "name": "ipython",
    "version": 3
   },
   "file_extension": ".py",
   "mimetype": "text/x-python",
   "name": "python",
   "nbconvert_exporter": "python",
   "pygments_lexer": "ipython3",
   "version": "3.4.0"
  }
 },
 "nbformat": 4,
 "nbformat_minor": 0
}
