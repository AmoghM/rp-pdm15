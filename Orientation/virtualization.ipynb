{
 "cells": [
  {
   "cell_type": "markdown",
   "metadata": {},
   "source": [
    "<DIV ALIGN=CENTER>\n",
    "\n",
    "# Virtualization & Docker    \n",
    "## Professor Robert J. Brunner\n",
    "  \n",
    "</DIV>  \n",
    "-----\n",
    "-----"
   ]
  },
  {
   "cell_type": "markdown",
   "metadata": {},
   "source": [
    "## Introduction\n",
    "\n",
    "In this course, we use the Docker virtualization technology to provide a\n",
    "complete course software stack that will work, out of the box, on any\n",
    "computer that is running the Docker technology. In this notebook, we\n",
    "provide details to install the Docker software, pull and run our Docker\n",
    "course image, before concluding with additional information on\n",
    "Virtualization and the Docker technology.\n",
    "\n",
    "-----"
   ]
  },
  {
   "cell_type": "markdown",
   "metadata": {},
   "source": [
    "### Docker Toolbox\n",
    "\n",
    "Before we can use the Docker technology, we need to download and install\n",
    "Docker. Mac OSX and Windows systems require a Linux Guest Operating\n",
    "System in order to run Docker images. For these operating systems, you\n",
    "can use the Docker Toolbox, which provides:\n",
    "\n",
    "![Docker Toolbox Application](images/docker-toolbox.png)\n",
    "\n",
    "- A VirtualBox installation\n",
    "- An Ubuntu Guest OS\n",
    "- The docker-machine application\n",
    "\n",
    "\n",
    "On Linux systems, you simply install the docker program and run commands (as sudo) in a standard Unix shell.\n",
    "\n",
    "### Installation:\n",
    "\n",
    "Follow the _Get Started with Docker_ documentation for your particular computer type:\n",
    "- [Mac OSX](http://docs.docker.com/mac/started/)\n",
    "- [Windows](http://docs.docker.com/windows/started/)\n",
    "- [Linux](http://docs.docker.com/linux/started/)\n",
    "  \n",
    "You can stop once you have completed _Find and run the whalesay image_.\n",
    "\n",
    "-----"
   ]
  },
  {
   "cell_type": "markdown",
   "metadata": {},
   "source": [
    "### The Course Docker Image\n",
    "\n",
    "Once you have installed the Docker technology relevant to your\n",
    "particular computer, you will need to download the course Docker image,\n",
    "and next learn how to use Docker on your computer to run the course\n",
    "Docker image. Since this is operating system dependent, you will need to\n",
    "explore the course notes for _Working with Docker_ for your particular\n",
    "computer type:\n",
    "\n",
    "- [Mac OS X](Docker-OSX.ipynb)\n",
    "- [Windows](Docker-Win.ipynb)\n",
    "- Linux: Everything in the [Mac OS X](Working-with-Docker-OSX.ipynb)\n",
    "documentation should working Linux.\n",
    "\n",
    "-----\n",
    "\n",
    "<font color='red'>\n",
    "Once you have completed these steps and can run a course Docker image\n",
    "locally, you can stop with this notebook. Only continue if you wish to\n",
    "lern more about virtualization and the Docker technology.\n",
    "</font>\n",
    "\n",
    "-----"
   ]
  },
  {
   "cell_type": "markdown",
   "metadata": {},
   "source": [
    "## Virtualization Overview\n",
    "\n",
    "Virtualization technology is used to simplify the development, deployment, and management of applications.  \n",
    "\n",
    "Virtualization can take different routes, two of the more popular options are\n",
    "\n",
    "1. Virtual Machines\n",
    "2. Virtual Containers\n",
    "\n",
    "For more information, read the [Wikipedia article on Virtualization](https://en.wikipedia.org/wiki/Virtualization).\n",
    "\n",
    "-----"
   ]
  },
  {
   "cell_type": "markdown",
   "metadata": {},
   "source": [
    "### Virtual Machines\n",
    "\n",
    "- full operating system\n",
    "- control complete environment\n",
    "- isolation\n",
    "- slow to boot\n",
    "- heavyweight\n",
    "\n",
    "-----"
   ]
  },
  {
   "cell_type": "markdown",
   "metadata": {},
   "source": [
    "### Virtual Box\n",
    "\n",
    "![Virtualbox Website](images/virtualbox.png)\n",
    "\n",
    "-----"
   ]
  },
  {
   "cell_type": "markdown",
   "metadata": {},
   "source": [
    "### Virtual Container\n",
    "\n",
    "- shared operating system (Linux Containers)\n",
    "- Mac OSX/Windows require a Linux host OS (VM)\n",
    "- multiple containers from same image\n",
    "- lightweight\n",
    "- fast startup\n",
    "\n",
    "-----"
   ]
  },
  {
   "cell_type": "markdown",
   "metadata": {},
   "source": [
    "### Docker Container\n",
    "\n",
    "![Docker Website](images/docker-website.png)\n",
    "\n",
    "-----"
   ]
  },
  {
   "cell_type": "markdown",
   "metadata": {},
   "source": [
    "### VMs versus Containers\n",
    "\n",
    "The [Docker Website](https://www.docker.com/whatisdocker) provides a comaprison between Virtual Machines and Docker containerization.\n",
    "\n",
    "For more information about containerization, you can read [introduction to\n",
    "containers](http://googlecloudplatform.blogspot.com/2015/01/in-coming-\n",
    "weeks-we-will-be-publishing.html) from the Google Cloud Computing Blog.\n",
    "\n",
    "-----"
   ]
  },
  {
   "cell_type": "markdown",
   "metadata": {},
   "source": [
    "### Docker  Shell\n",
    "\n",
    "Running the Docker Quickstart Terminal application (on Windows and Mac\n",
    "OSX systems) will open a new docker shell as shown below. This involves\n",
    "starting virtualbox and the docker machine (if it is not already\n",
    "running), initializing the shell to be able to properly use Docker, and\n",
    "provided a new Shell prompt. You can start multiple docker shells by\n",
    "simply re-running the Docker Quickstart Terminal application. In this\n",
    "course, we denote a docker shell prompt with the dollar sign, `$`.\n",
    "\n",
    "![B2D Shell](images/docker-shell.png)\n",
    "\n",
    "Note, on a Linux system, simply open a new Unix shell to run Docker\n",
    "commands in a new window.\n",
    "\n",
    "-----"
   ]
  },
  {
   "cell_type": "markdown",
   "metadata": {},
   "source": [
    "### Docker Commands\n",
    "\n",
    "You can see the list of docker commands, shown below, by simply entering docker at a shell prompt:\n",
    "\n",
    "```console\n",
    "$ docker\n",
    "```\n",
    "\n",
    "![Docker Commands](images/docker-commands.png)\n",
    "\n",
    "-----\n"
   ]
  },
  {
   "cell_type": "markdown",
   "metadata": {},
   "source": [
    "### Docker Shell\n",
    "\n",
    "To start a new container from an existing image, you simple enter a\n",
    "docker run command with the target image name and the desired executable\n",
    "program. To start an interactive  docker container you simply include\n",
    "the `-it` flag. Thus, to start a new container (for this course we use\n",
    "lcdm/rppdm-standalone) in an interactive Unix Bash shell, we enter the\n",
    "following command:\n",
    "\n",
    "```console\n",
    "$ docker run -it lcdm/rppdm-standalone /bin/bash\n",
    "```\n",
    "\n",
    "![Docker Shell](images/docker-runshell.png)\n",
    "\n",
    "Note how the prompt has changed to indicate that we are now running a\n",
    "shell in the new docker container. The directory is\n",
    "`/home/data_scientist`, and our prompt has changes to the string\n",
    "`data_scientist@0399bef31440:~$`, but we will simply use `:~$` to refer\n",
    "to a docker shell prompt (the `~` character simply means we are in the\n",
    "home directory of the Docker container). The string of characters\n",
    "`0399bef31440` is simply the hostname Docker assigned to our running\n",
    "container, your value will likely be different.\n",
    "\n",
    "-----"
   ]
  },
  {
   "cell_type": "markdown",
   "metadata": {},
   "source": [
    "### Docker Container\n",
    "\n",
    "After running the following command in a different docker shell you will see the original container image and the new running container.\n",
    "\n",
    "```console\n",
    "$ docker run -it lcdm/rppdm-standalone /bin/bash\n",
    "``` \n",
    "\n",
    "To see the list of docker images, you enter `docker images` at a docker prompt, while to see the list of running docker containers you enter `docker ps` at the docker prompt.\n",
    "\n",
    "![Docker Container](images/docker-container.png)\n",
    "\n",
    "\n",
    "Note, your output will likely be different since you will not have the\n",
    "same docker images installed on your computer.\n",
    "\n",
    "-----"
   ]
  },
  {
   "cell_type": "markdown",
   "metadata": {},
   "source": [
    "### Isolation\n",
    "\n",
    "You can view the container isolation by running two docker shells.\n",
    "In the first shell, we run the docker container, and make a new\n",
    "directory in the root file system that contains a single, new file.\n",
    "\n",
    "```console\n",
    "$ docker run -it --name=standalone lcdm/rppdm-standalone /bin/bash\n",
    "    \n",
    ":~$ mkdir testing\n",
    ":~$ cd testing/\n",
    ":~$ touch README\n",
    ":~$ ls \n",
    "```\n",
    "\n",
    "![Docker First Container](images/docker-container1.png)\n",
    "\n",
    "Now, in a second docker shell, we run a new instance of the course\n",
    "docker image, and see the effects of container isolation:\n",
    "\n",
    "```console\n",
    "$ docker run -it --name=standalone lcdm/standalone-rppdss /bin/bash\n",
    "$ ls \n",
    "```\n",
    "\n",
    "Since our running containers are, by default, isolated, the changes made\n",
    "in the first container are not present in the second container.\n",
    "\n",
    "![Docker Second Container](images/docker-container2.png)\n",
    "\n",
    "-----"
   ]
  },
  {
   "cell_type": "markdown",
   "metadata": {},
   "source": [
    "## Persistence\n",
    "\n",
    "You can save changes made to a running container by using the `docker commit` command. In the previous example, our running container added a new file called README in the /testing directory. We can create a new image from this running container, and use this new image to start a container that includes any changes made in the original running container. \n",
    "\n",
    "To do this, we first need to get the list of running containers by using `docker ps` to find the name of the container we want to persist. Next we commit the changes to the running container by using `docker commit`, after which we can start a new container from this saved image, and verify the new container has the original changes.\n",
    "\n",
    "![Docker Commits](images/docker-commit.png)\n",
    "\n",
    "-----"
   ]
  },
  {
   "cell_type": "markdown",
   "metadata": {},
   "source": [
    "### Additional References\n",
    "\n",
    "1. The [Docker Website](https://www.docker.com)\n",
    "2. The [VirtualBox Website](https://www.virtualbox.org)\n",
    "3. (Advanced) The [Docker Book](http://dockerbook.com)\n",
    "4. (Advanced, Mac OSX) The [Docker: Missing Manual](http://viget.com/extend/how-to-use-docker-on-os-x-the-missing-guide)\n",
    "\n",
    "-----"
   ]
  },
  {
   "cell_type": "markdown",
   "metadata": {},
   "source": [
    "### Return to the [Index](index.ipynb) page.\n",
    "\n",
    "-----"
   ]
  }
 ],
 "metadata": {
  "kernelspec": {
   "display_name": "Python 3",
   "language": "python",
   "name": "python3"
  },
  "language_info": {
   "codemirror_mode": {
    "name": "ipython",
    "version": 3
   },
   "file_extension": ".py",
   "mimetype": "text/x-python",
   "name": "python",
   "nbconvert_exporter": "python",
   "pygments_lexer": "ipython3",
   "version": "3.4.0"
  }
 },
 "nbformat": 4,
 "nbformat_minor": 0
}
