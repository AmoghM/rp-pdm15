{
 "cells": [
  {
   "cell_type": "markdown",
   "metadata": {},
   "source": [
    "<DIV ALIGN=CENTER>\n",
    "\n",
    "# Introduction to Text Data Parsing\n",
    "## Professor Robert J. Brunner\n",
    "  \n",
    "</DIV>  \n",
    "-----\n",
    "-----"
   ]
  },
  {
   "cell_type": "markdown",
   "metadata": {},
   "source": [
    "## Introduction\n",
    "\n",
    "In this Notebook we explore how to actually pull text data of interest\n",
    "out of both unstructured and structured data sets. First we will review\n",
    "basic Python tools that can be used for either an initial data\n",
    "exploration or in many cases, more advanced data processing tasks.\n",
    "Next, we review another important tool, regular expressions, which can\n",
    "simplify the task of finding and selecting specific data in a large\n",
    "document. Python provides a native implementation of [regular\n",
    "expressions][re] through the `re` module.\n",
    "\n",
    "Finally, we move on to semi-structured and structured text data\n",
    "processing by reviewing the concept of parsing, where we use the\n",
    "structure of a document to extract contextual information. First, we\n",
    "introduce the Python email parsing functionality and demonstrate how\n",
    "to use this built-in library to extract structured and unstructured data\n",
    "from an email. Next, we move on to parsing structured documents, for\n",
    "which we use the parsing tool [BeautifulSoup][bs], which provides an\n",
    "elegant and simple method to parse and access XML formatted data.\n",
    "BeautifulSoup was actually designed to simplify the task of scraping\n",
    "data from Websites, and thus we can use it to parse any XML formatted\n",
    "data including HTML or SVG. \n",
    "\n",
    "\n",
    "-----\n",
    "[bs]: http://www.crummy.com/software/BeautifulSoup/\n",
    "[re]: https://docs.python.org/3/library/re.html"
   ]
  },
  {
   "cell_type": "markdown",
   "metadata": {},
   "source": [
    "### Text Data Processing\n",
    "\n",
    "In many cases, we will be presented with unstructured or even\n",
    "semi-structured text data. For example, Tweet messages, email messages,\n",
    "or other documents can often be considered as character sequences. In\n",
    "these cases, we often can perform basic data processing by employing\n",
    "built-in Python data structures and collections. \n",
    "\n",
    "The main tool we can use for text processing is the Python `string`\n",
    "object and its associated methods. One important point to remember is\n",
    "that in Python, a `string` is immutable, thus any change will create a\n",
    "new `string`. This will have an impact on using Python to process large\n",
    "text data sets, which often leads to other solutions, of which several\n",
    "are presented later in this Notebook. The `string` object has a number\n",
    "of [useful methods][pystm]:\n",
    "\n",
    "- `split`: Return a list of token strings that are delimited by a\n",
    "character, such as space.\n",
    "\n",
    "- `find`: return the lowest index in the string where a substring is\n",
    "located.\n",
    "\n",
    "- `replace`: return a new string with all occurrences of a pattern\n",
    "replaced.\n",
    "\n",
    "- `join`: return a string that is the combination of the input strings\n",
    "\n",
    "- `count`: return the number of non-overlapping instances of a substring.\n",
    "\n",
    "- `lower`: convert text to lowercase characters.\n",
    "\n",
    "- `lstrip` / `rstrip`: return a string with the leading/trailing\n",
    "characters removed.\n",
    "\n",
    "In addition, one can make use of standard [Python sequence\n",
    "operators][pso] to quickly perform basic text data processing.  Given a\n",
    "value `v`, integer `n`, and similar typed sequences `s` and `t`:\n",
    "\n",
    "| Operation | Description |\n",
    "| ----- | ----- |\n",
    "| `v in s`| `True` if `v` is in the sequence `s`, otherwise `False`|\n",
    "| `v not in s`| `False` if `v` is in the sequence `s`, otherwise `True`|\n",
    "| `s + t`| concatenation of `s` and `t`|\n",
    "| `s * n` or `n* s`| `n` shallow copies of `s` concatenated|\n",
    "| `len(s)`| the number of elements in the sequence `s`|\n",
    "| `min(s)`| the smallest elements in the sequence `s`|\n",
    "| `max(s)`| the largest of elements in the sequence `s`|\n",
    "| `s.count(v)`| number of times `v` appears in `s`|\n",
    "\n",
    "Finally, Python provides additional [data collection classes][cl] in the\n",
    "`collections` library, which is part of the standard Python\n",
    "distribution. Current;y, this library introduces the `namedTuple`,\n",
    "`deque`, `ChainMap`, `Counter`, `OrderedDict`, `defaultDict`,\n",
    "`UserDict`, `UserList`, and `UserString` classes. In the following code\n",
    "example, we demonstrate the use of a `Counter` object to perform a\n",
    "simple word count.\n",
    "\n",
    "-----\n",
    "[pystm]: https://docs.python.org/3/library/stdtypes.html#string-methods\n",
    "[pso]: https://docs.python.org/3/library/stdtypes.html#common-sequence-operations\n",
    "[cl]: https://docs.python.org/3/library/collections.html"
   ]
  },
  {
   "cell_type": "code",
   "execution_count": 1,
   "metadata": {
    "collapsed": false
   },
   "outputs": [
    {
     "name": "stdout",
     "output_type": "stream",
     "text": [
      "[('a', 6), ('Docker', 5), ('on', 4), ('to', 4), ('the', 4), ('you', 4), ('at', 4), ('this', 4), ('your', 3), ('in', 3), ('new', 3), ('or', 3), ('professor.brunner@gmail.com', 2), ('New', 2), ('101', 2), ('us', 2), ('email', 2), ('Course', 2), ('Robert', 2), ('have', 2), ('course', 2), ('RP', 2), ('Piazza', 2), ('Image', 2), ('if', 2)]\n"
     ]
    }
   ],
   "source": [
    "with open (\"data/email.txt\", \"r\") as myfile:\n",
    "    msg = myfile.read().replace('\\n', ' ')\n",
    "    \n",
    "words = msg.split()\n",
    "\n",
    "import collections as cl\n",
    "\n",
    "mr = cl.Counter(words)\n",
    "\n",
    "print(mr.most_common(25))"
   ]
  },
  {
   "cell_type": "markdown",
   "metadata": {},
   "source": [
    "### Regular Expressions\n",
    "\n",
    "Regular expressions, or RE or regexes, are expressions that can be used\n",
    "to match one or more occurrences of a particular pattern. Regular\n",
    "expressions are not unique to Python, they are used in many programming\n",
    "languages and many Unix command line tools like sed, grep, or awk.\n",
    "[Regular expressions][re] are used in Python through the `re` module. To\n",
    "build a regular expression, you need to understand the syntax of the RE\n",
    "language. Once a regular expression is developed, it is compiled and\n",
    "executed by an engine written in C in order to provide fast execution.\n",
    "\n",
    "To begin, most characters in a regular expression simply match\n",
    "themselves, For example `python` would match any occurrence of the six\n",
    "letters `python` either alone or embedded in another word. There are\n",
    "several special characters, known as metacharacters, that control the\n",
    "behaviour of the rest of the regular expresion. These metacharacters are\n",
    "listed in the following table.\n",
    "\n",
    "| Metacharacter | Meaning | Example |\n",
    "| ---- | ----- | ----- |\n",
    "| . |  Matches any character except a newline | `1.3` matches `123`, `1a3`, and `1#3` among others |\n",
    "| ^ | Matches sequence at the beginning of the line| `^Python` matches `Python` at the beginning of a line |\n",
    "| $ | Matches sequence at the end of the line | `Python$` matches `Python` at the end of a line |\n",
    "| * | Matches zero or more occurrences of a pattern | `12*3` matches `13`, `123`, `1223`, etc. |\n",
    "| + |  Matches one or more occurrences of a pattern | `12+3` matches `123`, `1223`, etc. |\n",
    "| ? |  Matches zero or one occurrences of a pattern | `12?3` matches `13` and `123` |\n",
    "| { }| Match repeated qualifier | `{m, n}` means match at least `m` and at most `n` occurrences | \n",
    "| [ ] | Used to specify a character class | `[a-z]` means match any lower case character |\n",
    "| \\ | Escape character | `\\w` means match an alphanumeric character, `\\s` means match any whitespace character, and `\\\\` means match a backslash |\n",
    "| &#124; | or operator | `A ` &#124; ` B` match either `A` or `B` |\n",
    "| ( ) | Grouping Operator | (a, b) |\n",
    "\n",
    "One additional point to remember is that inside a character class (i.e.,\n",
    "`[ ]`) many of these metacharacters lose their special meaning, and thus\n",
    "can be used to match themselves. For example, inside a character class,\n",
    "the `^` character means _not_, so `[^\\w]` means match any\n",
    "non-alphanumeric character.\n",
    "\n",
    "To master regular expressions requires a lot of practice, but the\n",
    "investment is well worth it as they are used in many different contexts\n",
    "and can greatly simplify otherwise complex tasks. Given a regular\n",
    "expression, there are several functions that can be used to process text\n",
    "data.\n",
    "\n",
    "- `compile`: compiles a regular expression for faster evaluation.\n",
    "- `search`: find regular expression in string\n",
    "- `match`: find regular expression at start of string\n",
    "- `split`: splits the string by matches of a regular expression.\n",
    "- `sub`: replaces substrings that match a regular expression with different string\n",
    "\n",
    "We can modify our previous string processing example, by using regular\n",
    "expressions to removing punctuation and other non-alphanumeric or\n",
    "whitespace characters.\n",
    "\n",
    "-----\n",
    "[re]: https://docs.python.org/3/howto/regex.html"
   ]
  },
  {
   "cell_type": "code",
   "execution_count": 2,
   "metadata": {
    "collapsed": false
   },
   "outputs": [
    {
     "name": "stdout",
     "output_type": "stream",
     "text": [
      "[('a', 6), ('Docker', 5), ('com', 4), ('on', 4), ('to', 4), ('the', 4), ('you', 4), ('at', 4), ('this', 4), ('in', 3), ('your', 3), ('Piazza', 3), ('or', 3), ('new', 3), ('New', 2), ('101', 2), ('us', 2), ('email', 2), ('Course', 2), ('Robert', 2), ('image', 2), ('no', 2), ('have', 2), ('Note', 2), ('piazza', 2)]\n"
     ]
    }
   ],
   "source": [
    "import re\n",
    "\n",
    "pattern = re.compile(r'[^\\w\\s]')\n",
    "with open (\"data/email.txt\", \"r\") as myfile:\n",
    "    msg = myfile.read().replace('\\n', ' ')\n",
    "    \n",
    "words = re.sub(pattern, ' ', msg).split()\n",
    "\n",
    "mr = cl.Counter(words)\n",
    "\n",
    "print(mr.most_common(25))"
   ]
  },
  {
   "cell_type": "markdown",
   "metadata": {},
   "source": [
    "-----\n",
    "\n",
    "### Email Text Parsing\n",
    "\n",
    "Python provides built-in support for [processing email messages][pem],\n",
    "which are an often overlooked source of information in data science\n",
    "projects. The library is part of the core Python distribution, and\n",
    "includes support for parsing email messages, as well as sending and\n",
    "receiving emails. For our purpose, we simply need to read in text and\n",
    "create an email `message`, which provides access to the basic email\n",
    "contents. The `message` instance provides access to the email header\n",
    "information as well as any payload data. \n",
    "\n",
    "Normally the payload is the email message, but with multipart messages,\n",
    "like HTML email messages, an email can have multiple payloads. In the\n",
    "next several code cells, we create an email `message` by reading an\n",
    "email from a file (the email should look familiar). We subsequently\n",
    "explore the Python email message interface to extract email headers and\n",
    "the message payload, before grabbing the HTML message for later parsing.\n",
    "\n",
    "-----\n",
    "\n",
    "[pem]: https://docs.python.org/3/library/email.html"
   ]
  },
  {
   "cell_type": "code",
   "execution_count": 3,
   "metadata": {
    "collapsed": false
   },
   "outputs": [
    {
     "data": {
      "text/plain": [
       "['Delivered-To',\n",
       " 'Received',\n",
       " 'X-Received',\n",
       " 'Return-Path',\n",
       " 'Received',\n",
       " 'Received-SPF',\n",
       " 'Authentication-Results',\n",
       " 'DKIM-Signature',\n",
       " 'DKIM-Signature',\n",
       " 'Received',\n",
       " 'Received',\n",
       " 'Date',\n",
       " 'From',\n",
       " 'To',\n",
       " 'Message-ID',\n",
       " 'In-Reply-To',\n",
       " 'References',\n",
       " 'Subject',\n",
       " 'MIME-Version',\n",
       " 'Content-Type',\n",
       " 'X-SG-EID',\n",
       " 'X-Feedback-ID']"
      ]
     },
     "execution_count": 3,
     "metadata": {},
     "output_type": "execute_result"
    }
   ],
   "source": [
    "import email as em\n",
    "from email import policy\n",
    "\n",
    "with open(\"data/email.eml\") as fin:\n",
    "    msg = em.message_from_file(fin, policy=policy.default)\n",
    "    \n",
    "msg.keys()"
   ]
  },
  {
   "cell_type": "code",
   "execution_count": 4,
   "metadata": {
    "collapsed": false
   },
   "outputs": [
    {
     "name": "stdout",
     "output_type": "stream",
     "text": [
      "To: professor.brunner@gmail.com\n",
      "From: RP 101 on Piazza <no-reply@piazza.com>\n",
      "Subject: [Instr Note] New Docker Course Image\n"
     ]
    }
   ],
   "source": [
    "print('To:', msg['to'])\n",
    "print('From:', msg['from'])\n",
    "print('Subject:', msg['subject'])"
   ]
  },
  {
   "cell_type": "code",
   "execution_count": 5,
   "metadata": {
    "collapsed": false
   },
   "outputs": [
    {
     "name": "stdout",
     "output_type": "stream",
     "text": [
      "Delivered-To: professor.brunner@gmail.com\n",
      "Received: by 10.37.214.196 with SMTP id n187csp2182549ybg;\n",
      "        Tue, 29 Sep 2015 15:55:13 -0700 (PDT)\n",
      "X-Received: by 10.107.25.143 with SMTP id 137mr1640798ioz.52.1443567313622;\n",
      "        Tue, 29 Sep 2015 15:55:13 -0700 (PDT)\n",
      "Return-Path: <bounces+5126-72bd-professor.brunner=gmail.com@sendgrid.piazza.com>\n"
     ]
    }
   ],
   "source": [
    "print(str(msg)[:349])"
   ]
  },
  {
   "cell_type": "code",
   "execution_count": 6,
   "metadata": {
    "collapsed": false
   },
   "outputs": [
    {
     "name": "stdout",
     "output_type": "stream",
     "text": [
      "['_add_multipart', '_body_types', '_charset', '_default_type', '_find_body', '_get_params_preserve', '_headers', '_make_multipart', '_payload', '_unixfrom', 'add_alternative', 'add_attachment', 'add_header', 'add_related', 'as_bytes', 'as_string', 'attach', 'clear', 'clear_content', 'defects', 'del_param', 'epilogue', 'get', 'get_all', 'get_body', 'get_boundary', 'get_charset', 'get_charsets', 'get_content', 'get_content_charset', 'get_content_maintype', 'get_content_subtype', 'get_content_type', 'get_default_type', 'get_filename', 'get_param', 'get_params', 'get_payload', 'get_unixfrom', 'is_attachment', 'is_multipart', 'items', 'iter_attachments', 'iter_parts', 'keys', 'make_alternative', 'make_mixed', 'make_related', 'policy', 'preamble', 'raw_items', 'replace_header', 'set_boundary', 'set_charset', 'set_content', 'set_default_type', 'set_param', 'set_payload', 'set_raw', 'set_type', 'set_unixfrom', 'values', 'walk']\n"
     ]
    }
   ],
   "source": [
    "print([att for att in dir(msg) if '__' not in att])"
   ]
  },
  {
   "cell_type": "code",
   "execution_count": 7,
   "metadata": {
    "collapsed": false
   },
   "outputs": [
    {
     "name": "stdout",
     "output_type": "stream",
     "text": [
      "Text Data:\n",
      "---------\n",
      " MIME-Version: 1.0\n",
      "Content-Type: text/plain; charset=UTF-8\n",
      "Content-Transfer-Encoding: quoted-printable\n",
      "\n",
      "Instructor Robert J. Brunner posted a new Note.=20\n",
      "\n",
      "New Docker Course Image\n",
      "\n",
      "We generated a new Docker course image. If you want to follow along on your=\n",
      " laptop or work on the course Notebooks offline, you should download this n=\n",
      "ew image by issuing a=C2=A0\n",
      "\n",
      "docker pull lcdm/rppdm-standalone\n",
      "command at a Docker prompt (i.e., in a Docker Quickstart Terminal). On the =\n",
      "other hand, if you simply use the JupyterHub Server, no action is required =\n",
      "on your part (we have already updated the server).\n",
      "\n",
      "Let us know if you have any questions.\n",
      "\n",
      "Robert\n",
      "\n",
      "\n",
      "Go to https://piazza.com/class?cid=3Dif5yonj2fts4on&nid=3Die93g1v7xri4jg&to=\n",
      "ken=3DlnIDF9d7Seu to view. Search or link to this question with @16.=20=20\n",
      "\n",
      "Tell a colleague about Piazza. It's free, after all.\n",
      "\n",
      "Thanks,\n",
      "The Piazza Team\n",
      "--\n",
      "Contact us at team@piazza.com\n",
      "\n",
      "\n",
      "You're receiving this email because professor.brunner@gmail.com is enrolled=\n",
      " in RP 101 at University of Illinois, Research Park. Go to https://piazza.c=\n",
      "om/login to sign in and manage your email preferences or proceed to https:/=\n",
      "/piazza.com/remove/lnIDF9d7Seu/ie93g1v7xri4jg to un-enroll from this class.=\n",
      "\n"
     ]
    }
   ],
   "source": [
    "if msg.is_multipart() == True:\n",
    "    data = msg.get_payload()\n",
    "\n",
    "    print(\"Text Data:\\n---------\\n\", data[0])"
   ]
  },
  {
   "cell_type": "code",
   "execution_count": 8,
   "metadata": {
    "collapsed": false
   },
   "outputs": [
    {
     "data": {
      "text/html": [
       "<html>\n",
       "Instructor Robert J. Brunner posted a new Note. <br><br>\n",
       "<b>New Docker Course Image</b><br>\n",
       "<br>\n",
       "<p>We generated a new Docker course image. If you want to follow along on y=\n",
       "our laptop or work on the course Notebooks offline, you should download thi=\n",
       "s new image by issuing a=C2=A0</p>\n",
       "<p></p>\n",
       "<pre>docker pull lcdm/rppdm-standalone</pre>\n",
       "<p>command at a Docker prompt (i.e., in a Docker Quickstart Terminal). On t=\n",
       "he other hand, if you simply use the JupyterHub Server, no action is requir=\n",
       "ed on your part (we have already updated the server).</p>\n",
       "<p></p>\n",
       "<p>Let us know if you have any questions.</p>\n",
       "<p></p>\n",
       "<p>Robert</p>\n",
       "<p></p>\n",
       "<br>\n",
       "<br>\n",
       "<a href=3D\"https://piazza.com/class?cid=3Dif5yonj2fts4on&nid=3Die93g1v7xri4=\n",
       "jg&token=3DlnIDF9d7Seu\">Click here</a> to view. Search or link to this ques=\n",
       "tion with @16.   <br><br>\n",
       "Tell a colleague about Piazza. It's free, after all.<br>\n",
       "<br>\n",
       "Thanks,<br>\n",
       "The Piazza Team<br>\n",
       "--<br>\n",
       "Contact us at team@piazza.com<br><br><br>\n",
       "<font size=3D'-2'>\n",
       "You're receiving this email because professor.brunner@gmail.com is enrolled=\n",
       " in RP 101 at University of Illinois, Research Park. <a href=3D'https://pia=\n",
       "zza.com/login'>Sign in</a> to manage your email preferences or <a href=3D'h=\n",
       "ttps://piazza.com/remove/lnIDF9d7Seu/ie93g1v7xri4jg'>un-enroll</a> from thi=\n",
       "s class.</font>\n",
       "</html>\n"
      ],
      "text/plain": [
       "<IPython.core.display.HTML object>"
      ]
     },
     "execution_count": 8,
     "metadata": {},
     "output_type": "execute_result"
    }
   ],
   "source": [
    "from IPython.display import HTML\n",
    "\n",
    "html = str(data[1])[102:]\n",
    "\n",
    "HTML(html)"
   ]
  },
  {
   "cell_type": "code",
   "execution_count": 9,
   "metadata": {
    "collapsed": false
   },
   "outputs": [
    {
     "name": "stdout",
     "output_type": "stream",
     "text": [
      "<html>\n",
      "Instructor Robert J. Brunner posted a new Note. <br><br>\n",
      "<b>New Docker Course Image</b><br>\n",
      "<br>\n",
      "<p>We generated a new Docker course image. If you want to follow along on y=\n",
      "our laptop or work on the course Notebooks offline, you should download thi=\n",
      "s new image by issuing a=C2=A0</p>\n",
      "<p></p>\n",
      "<pre>docker pull lcdm/rppdm-standalone</pre>\n",
      "<p>command at a Docker prompt (i.e., in a Docker Quickstart Terminal). On t=\n",
      "he other hand, if you simply use the JupyterHub Server, no action is requir=\n",
      "ed on your part (we have already updated the server).</p>\n",
      "<p></p>\n",
      "<p>Let us know if you have any questions.</p>\n",
      "<p></p>\n",
      "<p>Robert</p>\n",
      "<p></p>\n",
      "<br>\n",
      "<br>\n",
      "<a href=3D\"https://piazza.com/class?cid=3Dif5yonj2fts4on&nid=3Die93g1v7xri4=\n",
      "jg&token=3DlnIDF9d7Seu\">Click here</a> to view. Search or link to this ques=\n",
      "tion with @16.   <br><br>\n",
      "Tell a colleague about Piazza. It's free, after all.<br>\n",
      "<br>\n",
      "Thanks,<br>\n",
      "The Piazza Team<br>\n",
      "--<br>\n",
      "Contact us at team@piazza.com<br><br><br>\n",
      "<font size=3D'-2'>\n",
      "You're receiving this email because professor.brunner@gmail.com is enrolled=\n",
      " in RP 101 at University of Illinois, Research Park. <a href=3D'https://pia=\n",
      "zza.com/login'>Sign in</a> to manage your email preferences or <a href=3D'h=\n",
      "ttps://piazza.com/remove/lnIDF9d7Seu/ie93g1v7xri4jg'>un-enroll</a> from thi=\n",
      "s class.</font>\n",
      "</html>\n",
      "\n"
     ]
    }
   ],
   "source": [
    "print(html)"
   ]
  },
  {
   "cell_type": "markdown",
   "metadata": {},
   "source": [
    "### Structured Text Parsing\n",
    "\n",
    "To parse structured text, like an XML or an HTML document, we can use\n",
    "the Python [Beautiful Soup][bs] library. This library uses an XML/HTML\n",
    "parser to build a DOM tree, and Beautiful Soup then provides traversal\n",
    "methods to access and modify the DOM for a specific document. Beautiful\n",
    "Soup has been extremely popular for the ease with which it allows web\n",
    "scraping, for example, you can pull data out of an HTML table. But it is\n",
    "more powerful than this, as it allows you to easily parse and manipulate\n",
    "any XML document.\n",
    "\n",
    "To use Beautiful Soup, we first need to import the library, and then\n",
    "create a BeautifulSoup object that provides access to the parsed data.\n",
    "Document elements, like `body` or `table` are directly accessed from the\n",
    "parsed tree; and element attributes or data can be easily extracted,\n",
    "deleted, or replaced. If required, new data can also be added to an\n",
    "existing document, allowing for the dynamic creation of a new document.\n",
    "These capabilities are demonstrated in the following code cells.\n",
    "\n",
    "-----\n",
    "[bs]: http://www.crummy.com/software/BeautifulSoup/\n",
    "\n"
   ]
  },
  {
   "cell_type": "code",
   "execution_count": 10,
   "metadata": {
    "collapsed": false
   },
   "outputs": [
    {
     "name": "stdout",
     "output_type": "stream",
     "text": [
      "<html>\n",
      " <body>\n",
      "  <p>\n",
      "   Instructor Robert J. Brunner posted a new Note.\n",
      "   <br/>\n",
      "   <br/>\n",
      "   <b>\n",
      "    New Docker Course Image\n",
      "   </b>\n",
      " \n"
     ]
    }
   ],
   "source": [
    "# Lets parse our HTML document\n",
    "\n",
    "# We use BeautofulSoup version 4\n",
    "from bs4 import BeautifulSoup\n",
    "  \n",
    "soup = BeautifulSoup(html)\n",
    "\n",
    "# Now lets print out the start of the HTMl file\n",
    "print(soup.prettify()[:134])"
   ]
  },
  {
   "cell_type": "code",
   "execution_count": 11,
   "metadata": {
    "collapsed": false
   },
   "outputs": [
    {
     "name": "stdout",
     "output_type": "stream",
     "text": [
      "code element:=  <pre>docker pull lcdm/rppdm-standalone</pre>\n",
      "value: docker pull lcdm/rppdm-standalone\n",
      "parent element:  body\n"
     ]
    }
   ],
   "source": [
    "# We can access document elements directly\n",
    "print('code element:= ', soup.pre)\n",
    "print('value:', soup.pre.string)\n",
    "\n",
    "# We can access parent data\n",
    "print('parent element: ', soup.pre.parent.name)"
   ]
  },
  {
   "cell_type": "code",
   "execution_count": 12,
   "metadata": {
    "collapsed": false
   },
   "outputs": [
    {
     "name": "stdout",
     "output_type": "stream",
     "text": [
      "font class attribute:  3D'-2'\n"
     ]
    }
   ],
   "source": [
    "# We can directly access elemnt attributes\n",
    "\n",
    "print('font class attribute: ', soup.font['size'])"
   ]
  },
  {
   "cell_type": "code",
   "execution_count": 13,
   "metadata": {
    "collapsed": false
   },
   "outputs": [
    {
     "name": "stdout",
     "output_type": "stream",
     "text": [
      "<b>New Docker Course Image</b>\n"
     ]
    }
   ],
   "source": [
    "# We can access an entire element's content\n",
    "print(soup.b)"
   ]
  },
  {
   "cell_type": "code",
   "execution_count": 14,
   "metadata": {
    "collapsed": false
   },
   "outputs": [
    {
     "name": "stdout",
     "output_type": "stream",
     "text": [
      "<p>\n",
      "Instructor Robert J. Brunner posted a new Note. <br/><br/>\n",
      "<b>New Docker Course Image</b><br/>\n",
      "<br/>\n",
      "</p>\n",
      "<p>We generated a new Docker course image. If you want to follow along on y=\n",
      "our laptop or work on the course Notebooks offline, you should download thi=\n",
      "s new image by issuing a=C2=A0</p>\n",
      "<p></p>\n",
      "<p>command at a Docker prompt (i.e., in a Docker Quickstart Terminal). On t=\n",
      "he other hand, if you simply use the JupyterHub Server, no action is requir=\n",
      "ed on your part (we have already updated the server).</p>\n",
      "<p></p>\n",
      "<p>Let us know if you have any questions.</p>\n",
      "<p></p>\n",
      "<p>Robert</p>\n",
      "<p></p>\n"
     ]
    }
   ],
   "source": [
    "# We can find all occurances of a particular element\n",
    "\n",
    "for el in soup.find_all('p'):\n",
    "    print(el)"
   ]
  },
  {
   "cell_type": "code",
   "execution_count": 15,
   "metadata": {
    "collapsed": false
   },
   "outputs": [
    {
     "name": "stdout",
     "output_type": "stream",
     "text": [
      "\n",
      "Body class attribute =  newClass\n"
     ]
    }
   ],
   "source": [
    "# We can also change data in the document\n",
    "\n",
    "soup.body['class'] = 'newClass'\n",
    "\n",
    "print(\"\\nBody class attribute = \", soup.body['class'])\n"
   ]
  },
  {
   "cell_type": "code",
   "execution_count": 16,
   "metadata": {
    "collapsed": false
   },
   "outputs": [
    {
     "name": "stdout",
     "output_type": "stream",
     "text": [
      "None\n"
     ]
    }
   ],
   "source": [
    "# We can delete elements\n",
    "\n",
    "myCode = soup.pre.extract()\n",
    "\n",
    "print(soup.pre)"
   ]
  },
  {
   "cell_type": "code",
   "execution_count": 17,
   "metadata": {
    "collapsed": false
   },
   "outputs": [
    {
     "name": "stdout",
     "output_type": "stream",
     "text": [
      "[<font size=\"3D'-2'\">\n",
      "You're receiving this email because professor.brunner@gmail.com is enrolled=\n",
      " in RP 101 at University of Illinois, Research Park. <a href=\"3D'https://pia=\" zza.com=\"\">Sign in</a> to manage your email preferences or <a href=\"3D'h=\" ttps:=\"\">un-enroll</a> from thi=\n",
      "s class.</font>]\n"
     ]
    }
   ],
   "source": [
    "# We can select elements based on CSS Selectors\n",
    "target = soup.select('font[size]')\n",
    "print(target)"
   ]
  },
  {
   "cell_type": "code",
   "execution_count": 18,
   "metadata": {
    "collapsed": false
   },
   "outputs": [
    {
     "name": "stdout",
     "output_type": "stream",
     "text": [
      "<pre>docker pull lcdm/rppdm-standalone</pre>\n"
     ]
    }
   ],
   "source": [
    "# We need to pull out the first element in the list to get tag\n",
    "# Now we can insert our table back into the DOM\n",
    "\n",
    "target[0].insert_after(myCode)\n",
    "print(soup.pre)"
   ]
  },
  {
   "cell_type": "code",
   "execution_count": 19,
   "metadata": {
    "collapsed": false
   },
   "outputs": [
    {
     "name": "stdout",
     "output_type": "stream",
     "text": [
      "<h3 id=\"h3id\">A New Header</h3>\n"
     ]
    }
   ],
   "source": [
    "# We can also insert entirely new elements.\n",
    "\n",
    "# First we create a new element (tag)\n",
    "tag = soup.new_tag('h3', id='h3id')\n",
    "tag.string = 'A New Header'\n",
    "\n",
    "# Now we can append (in this case we put the new element at the end of the body)\n",
    "\n",
    "soup.body.append(tag)\n",
    "\n",
    "# Show the result\n",
    "print(soup.h3)"
   ]
  },
  {
   "cell_type": "markdown",
   "metadata": {},
   "source": [
    "-----\n",
    "\n",
    "While Beautiful Soup provides a great deal of power and simplicity in\n",
    "DOM parsing and element retrieval, the full power of parsing a document\n",
    "requires the use of regular expressions. Given a regular expression, the\n",
    "first task in Python is to compile the RE, which is done by using the\n",
    "`compile` method in the `re` module. This is demonstrated in the\n",
    "following code cell where we use a regular expression to find the\n",
    "element containing `Docker` to display HTML entities that contain the\n",
    "word _Docker_.\n",
    "\n",
    "-----\n"
   ]
  },
  {
   "cell_type": "code",
   "execution_count": 20,
   "metadata": {
    "collapsed": false
   },
   "outputs": [
    {
     "name": "stdout",
     "output_type": "stream",
     "text": [
      "<b>New Docker Course Image</b>\n",
      "<p>We generated a new Docker course image. If you want to follow along on y=\n",
      "our laptop or work on the course Notebooks offline, you should download thi=\n",
      "s new image by issuing a=C2=A0</p>\n",
      "<p>command at a Docker prompt (i.e., in a Docker Quickstart Terminal). On t=\n",
      "he other hand, if you simply use the JupyterHub Server, no action is requir=\n",
      "ed on your part (we have already updated the server).</p>\n"
     ]
    }
   ],
   "source": [
    "# We need the re module\n",
    "import re \n",
    "\n",
    "# Open and parse our XML document\n",
    "soup = BeautifulSoup(html)\n",
    "\n",
    "# Findelements containing the Docker string\n",
    "for el in soup.find_all(text=re.compile('Docker')):\n",
    "    print(el.parent)"
   ]
  },
  {
   "cell_type": "markdown",
   "metadata": {},
   "source": [
    "-----\n",
    "## Breakout Session\n",
    "\n",
    "During this breakout, you should work to improve your Python text data\n",
    "processing skills. Specific problems you can attempt include the\n",
    "following:\n",
    "\n",
    "1. Modify the first String Processing code to convert all text to\n",
    "lowercase characters before accumulating the word counts.\n",
    "\n",
    "2. Use the Python set to obtain the list of unique words in the text\n",
    "message.\n",
    "\n",
    "3. Use Regular Expressions to remove the email encoding characters from\n",
    "the message text.\n",
    "\n",
    "Additional, more advanced problems:\n",
    "\n",
    "1. Save several emails from within your mail reader and modify the\n",
    "Python code to process them in bulk to extract out the sender, date\n",
    "sent, and subject.\n",
    "\n",
    "2. Save several webpages (perhaps by using wget), and modify the\n",
    "BeautifulSoup code example to parse out and display the page title, any\n",
    "Javascript code libraries, and any css style file references.\n",
    "\n",
    "-----"
   ]
  },
  {
   "cell_type": "markdown",
   "metadata": {},
   "source": [
    "### Additional References\n",
    "\n",
    "1. [Dive Into Python3][1] regular expression chapter.\n",
    "4. The [Python Collectins][pycol] documentation.\n",
    "3. The Official [Python Email][pem] documentation.\n",
    "2. [BeautifulSoup][2] tutorial.\n",
    "\n",
    "-----\n",
    "\n",
    "[1]: http://www.diveintopython3.net/regular-expressions.html\n",
    "[2]: http://programminghistorian.org/lessons/intro-to-beautiful-soup\n",
    "[pem]: https://docs.python.org/3/library/email.html\n",
    "[pycol]: https://docs.python.org/3/library/collections.html"
   ]
  },
  {
   "cell_type": "markdown",
   "metadata": {},
   "source": [
    "### Return to the [Week 3 Index](index.ipynb).\n",
    "\n",
    "-----"
   ]
  }
 ],
 "metadata": {
  "kernelspec": {
   "display_name": "Python 3",
   "language": "python",
   "name": "python3"
  },
  "language_info": {
   "codemirror_mode": {
    "name": "ipython",
    "version": 3
   },
   "file_extension": ".py",
   "mimetype": "text/x-python",
   "name": "python",
   "nbconvert_exporter": "python",
   "pygments_lexer": "ipython3",
   "version": "3.4.0"
  }
 },
 "nbformat": 4,
 "nbformat_minor": 0
}
