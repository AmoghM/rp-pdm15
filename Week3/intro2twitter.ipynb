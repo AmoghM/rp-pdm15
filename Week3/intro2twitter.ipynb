{
 "cells": [
  {
   "cell_type": "markdown",
   "metadata": {},
   "source": [
    "<DIV ALIGN=CENTER>\n",
    "\n",
    "# Introduction to Twitter data processing\n",
    "## Professor Robert J. Brunner\n",
    "  \n",
    "</DIV>  \n",
    "-----\n",
    "-----"
   ]
  },
  {
   "cell_type": "markdown",
   "metadata": {},
   "source": [
    "## Introduction\n",
    "\n",
    "Previously in this course, we have discussed .\n",
    "\n",
    "In this IPython Notebook, we explore using .\n",
    "\n",
    "-----"
   ]
  },
  {
   "cell_type": "markdown",
   "metadata": {},
   "source": [
    "## Python and Twitter\n",
    "\n",
    "Use library to interact with Twitter API from within a Python program. Many to choose from, we will use tweepy.\n",
    "\n",
    "http://docs.tweepy.org/en/stable/\n",
    "\n",
    "First step is to import the library.\n",
    "\n",
    "----"
   ]
  },
  {
   "cell_type": "code",
   "execution_count": 1,
   "metadata": {
    "collapsed": true
   },
   "outputs": [],
   "source": [
    "import tweepy as tw"
   ]
  },
  {
   "cell_type": "markdown",
   "metadata": {
    "collapsed": false
   },
   "source": [
    "-----\n",
    "\n",
    "## Reading Twitter Data\n",
    "\n",
    "To read twitter data, you need to first need to be a registered Twitter\n",
    "user and you need to create a new _Twitter Application_ in order to\n",
    "obtain credentials for connecting to Twitter and querying to the\n",
    "Twitter data. You create (and later manage) Twitter applications by\n",
    "visting the [Twitter Application Management](https://apps.twitter.com)\n",
    "website.\n",
    "\n",
    "![Twitter App Sign-in](images/twitter-app-signin.png)\n",
    "\n",
    "At this point you need to authenticate with Twitter, if you are already\n",
    "logged in to Twitter on your computer (for instance by using the Twitter\n",
    "website) you should already be authenticated. If you are not\n",
    "authenticated, click the _sign in_ link to be directed to the Twitter\n",
    "signin page where you can enter your credentials (if you do not have\n",
    "Twitter credentials, you will need to obtain a Twitter account to\n",
    "proceed).\n",
    "\n",
    "![Twitter Sign-in](images/twitter-signin.png)\n",
    "\n",
    "After you have been authenticated, you will be redirected to the Twitter\n",
    "apps page. If you have never created a Twitter application, you will\n",
    "have nothing listed. To create a new application, press the _Create New\n",
    "App_ button, as shown in the following screenshot.\n",
    "\n",
    "![Twitter Create App](images/twitter-create.png)\n",
    "\n",
    "This will open up the Twitter _Create an application_ webpage, where you\n",
    "need to supply some basic information for your Twitter application such\n",
    "as an application name, description, and website.\n",
    "\n",
    "![Twitter Application details](images/twitter-appdetails.png)\n",
    "\n",
    "Scroll to the bottom of this webpage where the **Developer Agreement**\n",
    "is located. Following this agreement, is a check box that you should\n",
    "click to signify you agree to be bound by the agreement (of course you\n",
    "should read this to be sure you do _agree_ with it first). Following\n",
    "this, press the _Create your Twitter application_ button as shown in the\n",
    "following screenshot.\n",
    "\n",
    "![Twitter Agree](images/twitter-agree.png)\n",
    "\n",
    "This will create your new application, and provide you with your\n",
    "application webpage, which will be similar to the following screenshot.\n",
    "\n",
    "![Twitter Apppage](images/twitter-apppage.png)\n",
    "\n",
    "While you can control a number of application features from this\n",
    "webpage, the most important tasks to complete include:\n",
    "\n",
    "1. Change your application to _read-only_ in case it is set to\n",
    "read-write.\n",
    "\n",
    "2. Obtain the application **Consumer Key** and **Consumer Secret**.\n",
    "\n",
    "3. Obtain your personal **Access Token** and **Access Token Secret**.\n",
    "\n",
    "You should change your application read-only to ensure you don't\n",
    "accidentally send data out to Twitter. You change this by selecting the\n",
    "_Permissions_ tab and selecting _Read only_, shown in the following\n",
    "screenshot. To save this setting, scroll down this webpage and click the\n",
    "_Update Settings_ button at the bottom of the page.\n",
    "\n",
    "![Twitter Read Only Setting](images/twitter-ro.png)\n",
    "\n",
    "These credentials can be found by selecting the _Keys and Access Tokens_\n",
    "tab, and scrolling down appropriately as shown in the following two\n",
    "screenshots.\n",
    "\n",
    "![Twitter Consumer Application Credentials](images/twitter-consume.png)\n",
    "\n",
    "![Twitter User Credentials](images/twitter-access.png)\n",
    "\n",
    "<font color='red'>Warning: Never share these credentials with others or\n",
    "they will be able to fully impersonate you on Twitter!</font>\n",
    "\n",
    "You can directly copy these credentials into your Notebook, or,\n",
    "alternatively, save them into a file (for example by opening a terminal\n",
    "window and using `vim` to create a text file. In the rest of this\n",
    "Notebook, I demonstrate this functionality by using my credentials,\n",
    "which I have saved into a file called`twitter.cred'. In this empty file,\n",
    "which is in your github repository, I have saved the following four\n",
    "credentials in order:\n",
    "\n",
    "1. Access Token\n",
    "2. Access Token Secret\n",
    "3. Consumer Key\n",
    "4. Consumer Secret\n",
    "\n",
    "The following code cell demonstrates how these credentials are read from\n",
    "the file and used to properly authenticate our application with Twitter.\n",
    "\n",
    "-----\n",
    "\n"
   ]
  },
  {
   "cell_type": "code",
   "execution_count": 2,
   "metadata": {
    "collapsed": false
   },
   "outputs": [
    {
     "name": "stdout",
     "output_type": "stream",
     "text": [
      "Twitter Screen Name:  ProfBrunner\n",
      "Twitter Follower Count:  138\n",
      "\n",
      "This user follows:\n",
      "--------------\n",
      "LauraFrerichs\n",
      "googleresearch\n",
      "jakevdp\n",
      "powersoffour\n",
      "NateSilver538\n",
      "flowingdata\n",
      "twiecki\n",
      "EdwardTufte\n",
      "wesmckinn\n",
      "fonnesbeck\n",
      "aebrunn\n",
      "jarrettebrunner\n"
     ]
    }
   ],
   "source": [
    "tokens = []\n",
    "\n",
    "# Order: Access Token, Access Token Secret, Consumer Key, Consumer SecretAccess\n",
    "\n",
    "with open(\"twitter.cred\", 'r') as fin:\n",
    "    for line in fin:\n",
    "        if line[0] != '#': # Not a comment line\n",
    "            tokens.append(line.rstrip('\\n'))\n",
    "\n",
    "auth = tw.OAuthHandler(tokens[2], tokens[3])\n",
    "auth.set_access_token(tokens[0], tokens[1])\n",
    "\n",
    "api = tw.API(auth)\n",
    "\n",
    "user = api.me()\n",
    "\n",
    "print(\"Twitter Screen Name: \", user.screen_name)\n",
    "print(\"Twitter Follower Count: \", user.followers_count)\n",
    "\n",
    "print(\"\\nThis user follows:\\n--------------\")\n",
    "for friend in user.friends():\n",
    "    print(friend.screen_name)"
   ]
  },
  {
   "cell_type": "markdown",
   "metadata": {},
   "source": [
    "-----\n",
    "\n",
    "If the following code cell runs without an error, you have successfully\n",
    "connected to twitter. If you are new to twitter and are not following\n",
    "anyone, you can instead display the user information for a different\n",
    "Twitter user. For example, the following code would display my Twitter\n",
    "information.\n",
    "\n",
    "```python\n",
    "user = api.get_user('ProfBrunner')\n",
    "```\n",
    "\n",
    "Replacing `ProfBrunner` with any valid Twitter user id will display\n",
    "their information. You can find examples by looking at those Twitter\n",
    "users you (or `ProfBrunner`) follow.\n",
    "\n",
    "At any point, you can return to your Twitter application management\n",
    "webpage to view your new application. You can now view and manage your\n",
    "existing application, or create a new application as shown in the\n",
    "following screenshot.\n",
    "\n",
    "![Twitter new app management](images/twitter-manage.png)\n",
    "\n",
    "\n",
    "-----\n",
    "\n",
    "## Breakout Session\n",
    "\n",
    "During this breakout, you should work through the previous Twitter\n",
    "application setup in order to better learn how Twitter and in particular\n",
    "the Tweepy Python library works. In addition, this will guarantee you\n",
    "can follow along with the rest of this Notebook. Specific problems you\n",
    "can attempt include the following:\n",
    "\n",
    "1. Create a New Twitter application.\n",
    "\n",
    "2. Save your Twitter credentials and Application credentials into the\n",
    "provided `twitter.cred` file.\n",
    "\n",
    "3. Run the _tweepy_ sample code to connect to Twitter and display your\n",
    "Twitter user information.\n",
    "\n",
    "Additional, more advanced problems:\n",
    "\n",
    "1. Run the Twitter example above but for `ProfBrunner` instead.\n",
    "\n",
    "2. Find the Twitter username for someone else (perhaps someone famous,\n",
    "or someone else you know) and run the example code using their name.\n",
    "\n",
    "-----"
   ]
  },
  {
   "cell_type": "markdown",
   "metadata": {},
   "source": [
    "### Obtaining Tweets\n",
    "\n",
    "-----"
   ]
  },
  {
   "cell_type": "code",
   "execution_count": 3,
   "metadata": {
    "collapsed": false
   },
   "outputs": [
    {
     "name": "stdout",
     "output_type": "stream",
     "text": [
      "RT @JR_Newt: The Malcolm Butler Interception | Do Your Job: Bill Belichick &amp; the 2014... https://t.co/tEXo2kvVvP\n",
      "RT @StanfordGreg: A simple coin toss may prove that basketball players really can get the hot hand http://t.co/FBmjuIACj9 //this came up in…\n",
      "Open data in use. Predicting areas in need of working fire alarms to prevent deaths http://t.co/wAwusiSo3g http://t.co/Ka7ynTZlJe\n",
      "RT @ClouderaEvents: Learn about scaling #python analytics on @RideImpala w/ @wesmckinn #StrataHadoop NY today at 11:20AM rm: 1 E8/1 E9\n",
      "Garrison Keillor, reading one's own #writing aloud reduces BS\n",
      "http://t.co/jaGiA0OvwI #teaching #designthinking http://t.co/9OfJ4huh4E\n",
      "RT @ChicagoBlueSky: Incubators aren't just for big cities. Downstate Streator has started one. via @KateMacArthur http://t.co/OSJ6o8nDMX ht…\n",
      "How much has the email scandal hurt Hillary Clinton? (Not an easy question but we got a good discussion going.) http://t.co/03CrZpC3ln\n",
      "RT @ClevelandClinic: Why we share our clinical outcomes with the 🌎 (on @HarvardBiz) http://t.co/B784s5bcCH http://t.co/06ZfopNKyF\n",
      "RT @AstroKatie: Back-door hiring &amp; denial about unconscious bias keep women out of senior posts. HT @scibry http://t.co/wC2rMbIAij http://t…\n",
      "@wesmckinn missing link http://t.co/tNa8PDDkUt\n"
     ]
    }
   ],
   "source": [
    "for status in tw.Cursor(api.home_timeline).items(10):\n",
    "    # Process a single status\n",
    "    print(status.text) "
   ]
  },
  {
   "cell_type": "markdown",
   "metadata": {},
   "source": [
    "-----\n",
    "\n",
    "Now lets lookup something\n",
    "\n",
    "-----"
   ]
  },
  {
   "cell_type": "code",
   "execution_count": 4,
   "metadata": {
    "collapsed": false
   },
   "outputs": [
    {
     "name": "stdout",
     "output_type": "stream",
     "text": [
      "Tweet ID: 649228565637152768\n",
      "Tweeted by  UIResearchPark\n",
      "Created at  2015-09-30 14:25:26\n",
      "Location:  Hootsuite\n",
      "Tweet Text:  RT @Inc: 5 Surprising Applications for Virtual Reality @Tess_Townsend http://t.co/B6YMN1yC1U\n",
      "-------------------------\n",
      "Tweet ID: 649222718206910464\n",
      "Tweeted by  jmitch171\n",
      "Created at  2015-09-30 14:02:12\n",
      "Location:  Twitter for iPhone\n",
      "Tweet Text:  @uiucbusiness @iVenture_UofI @TECenter @UIResearchPark @DardenMBA @UIMakerLab @IlliniBizDean  You're on your own, bootstrappers...😥😕\n",
      "-------------------------\n",
      "Tweet ID: 649216033354555392\n",
      "Tweeted by  KateMacArthur\n",
      "Created at  2015-09-30 13:35:38\n",
      "Location:  Twitter for iPad\n",
      "Tweet Text:  @LauraFrerichs @ChicagoBlueSky @StreatorInc @UIResearchPark Great to see incubators helping each other.\n",
      "-------------------------\n",
      "Tweet ID: 649213128648052736\n",
      "Tweeted by  vprillinois\n",
      "Created at  2015-09-30 13:24:06\n",
      "Location:  Twitter Web Client\n",
      "Tweet Text:  @StreatorInc credits @Illinois_Alma @UIResearchPark for helping launch startup incubator http://t.co/akxVZ7rbXA via @ChicagoBlueSky\n",
      "-------------------------\n",
      "Tweet ID: 649209071002865664\n",
      "Tweeted by  LauraFrerichs\n",
      "Created at  2015-09-30 13:07:58\n",
      "Location:  Twitter for iPhone\n",
      "Tweet Text:  @ChicagoBlueSky @KateMacArthur congrats to @StreatorInc on their launch. We enjoyed sharing incubator experiences with them @UIResearchPark\n",
      "-------------------------\n",
      "Tweet ID: 649207988729815040\n",
      "Tweeted by  UIResearchPark\n",
      "Created at  2015-09-30 13:03:40\n",
      "Location:  Twitter Web Client\n",
      "Tweet Text:  Thanks for the kind words, @StreatorInc. We enjoy working with #incubators around the state. http://t.co/XIkyVJbFHW\n",
      "-------------------------\n",
      "Tweet ID: 649203518574870528\n",
      "Tweeted by  IndyKRF\n",
      "Created at  2015-09-30 12:45:55\n",
      "Location:  Twitter for iPhone\n",
      "Tweet Text:  RT @LauraFrerichs: Tim Hassinger, CEO of @DowAgro at grand opening of new Innovation Lab @UIResearchPark \"it's a special relationship\" http…\n",
      "-------------------------\n",
      "Tweet ID: 649059206042152960\n",
      "Tweeted by  ChrisDillion\n",
      "Created at  2015-09-30 03:12:28\n",
      "Location:  Twitter for iPad\n",
      "Tweet Text:  A shoutout to my favorite #microurban #tech hub! You're welcome! @UIResearchPark @DTChampaign  https://t.co/3VwDlVoMo1\n",
      "-------------------------\n",
      "Tweet ID: 648941284552540160\n",
      "Tweeted by  UIResearchPark\n",
      "Created at  2015-09-29 19:23:53\n",
      "Location:  Hootsuite\n",
      "Tweet Text:  @YoureWelcomeCU highlights tech innovation from #ChampaignUrbana and much more: http://t.co/CXIbpNL3UH http://t.co/y3am3swGKU\n",
      "-------------------------\n",
      "Tweet ID: 648935289855983616\n",
      "Tweeted by  kolegraffvclink\n",
      "Created at  2015-09-29 19:00:04\n",
      "Location:  Twuffer\n",
      "Tweet Text:  Are you an Entrepreneur at the University of Illinois in Champaign ? If so, you will want to look at this. See=&gt; https://t.co/TVMxlEdo9d\n",
      "-------------------------\n",
      "Tweet ID: 648926844209770497\n",
      "Tweeted by  VPRSchook\n",
      "Created at  2015-09-29 18:26:30\n",
      "Location:  Twitter Web Client\n",
      "Tweet Text:  RT @vprillinois: Congrats @Illinois_Alma &amp; @DowAgro on launch of new Innovation Center at @UIResearchPark! http://t.co/yqDfUxwYt3 http://t.…\n",
      "-------------------------\n",
      "Tweet ID: 648916068182921216\n",
      "Tweeted by  RKNarayanan\n",
      "Created at  2015-09-29 17:43:41\n",
      "Location:  Twitter for Android\n",
      "Tweet Text:  RT @LauraFrerichs: Increase in startup funding in rare disease drugs, less regulation, better pricing | Arun Bhatia IV @UIResearchPark http…\n",
      "-------------------------\n",
      "Tweet ID: 648915986775719936\n",
      "Tweeted by  ILinnovations\n",
      "Created at  2015-09-29 17:43:22\n",
      "Location:  Echofon\n",
      "Tweet Text:  RT @LauraFrerichs: ILVentures Arun Bhatia talk @UIResearchPark on life science VC funding, 21% growth in 2015, bigger deals in fewer compan…\n",
      "-------------------------\n",
      "Tweet ID: 648915857905700864\n",
      "Tweeted by  ILinnovations\n",
      "Created at  2015-09-29 17:42:51\n",
      "Location:  Echofon\n",
      "Tweet Text:  RT @LauraFrerichs: Increase in startup funding in rare disease drugs, less regulation, better pricing | Arun Bhatia IV @UIResearchPark http…\n",
      "-------------------------\n",
      "Tweet ID: 648913938298601472\n",
      "Tweeted by  LauraFrerichs\n",
      "Created at  2015-09-29 17:35:13\n",
      "Location:  Twitter for iPhone\n",
      "Tweet Text:  Increase in startup funding in rare disease drugs, less regulation, better pricing | Arun Bhatia IV @UIResearchPark http://t.co/Nfd6zLLgAO\n",
      "-------------------------\n",
      "Tweet ID: 649228565637152768\n",
      "Tweeted by  UIResearchPark\n",
      "Created at  2015-09-30 14:25:26\n",
      "Location:  Hootsuite\n",
      "Tweet Text:  RT @Inc: 5 Surprising Applications for Virtual Reality @Tess_Townsend http://t.co/B6YMN1yC1U\n",
      "-------------------------\n",
      "Tweet ID: 649222718206910464\n",
      "Tweeted by  jmitch171\n",
      "Created at  2015-09-30 14:02:12\n",
      "Location:  Twitter for iPhone\n",
      "Tweet Text:  @uiucbusiness @iVenture_UofI @TECenter @UIResearchPark @DardenMBA @UIMakerLab @IlliniBizDean  You're on your own, bootstrappers...😥😕\n",
      "-------------------------\n",
      "Tweet ID: 649216033354555392\n",
      "Tweeted by  KateMacArthur\n",
      "Created at  2015-09-30 13:35:38\n",
      "Location:  Twitter for iPad\n",
      "Tweet Text:  @LauraFrerichs @ChicagoBlueSky @StreatorInc @UIResearchPark Great to see incubators helping each other.\n",
      "-------------------------\n",
      "Tweet ID: 649213128648052736\n",
      "Tweeted by  vprillinois\n",
      "Created at  2015-09-30 13:24:06\n",
      "Location:  Twitter Web Client\n",
      "Tweet Text:  @StreatorInc credits @Illinois_Alma @UIResearchPark for helping launch startup incubator http://t.co/akxVZ7rbXA via @ChicagoBlueSky\n",
      "-------------------------\n",
      "Tweet ID: 649209071002865664\n",
      "Tweeted by  LauraFrerichs\n",
      "Created at  2015-09-30 13:07:58\n",
      "Location:  Twitter for iPhone\n",
      "Tweet Text:  @ChicagoBlueSky @KateMacArthur congrats to @StreatorInc on their launch. We enjoyed sharing incubator experiences with them @UIResearchPark\n",
      "-------------------------\n",
      "Tweet ID: 649207988729815040\n",
      "Tweeted by  UIResearchPark\n",
      "Created at  2015-09-30 13:03:40\n",
      "Location:  Twitter Web Client\n",
      "Tweet Text:  Thanks for the kind words, @StreatorInc. We enjoy working with #incubators around the state. http://t.co/XIkyVJbFHW\n",
      "-------------------------\n",
      "Tweet ID: 649203518574870528\n",
      "Tweeted by  IndyKRF\n",
      "Created at  2015-09-30 12:45:55\n",
      "Location:  Twitter for iPhone\n",
      "Tweet Text:  RT @LauraFrerichs: Tim Hassinger, CEO of @DowAgro at grand opening of new Innovation Lab @UIResearchPark \"it's a special relationship\" http…\n",
      "-------------------------\n",
      "Tweet ID: 649059206042152960\n",
      "Tweeted by  ChrisDillion\n",
      "Created at  2015-09-30 03:12:28\n",
      "Location:  Twitter for iPad\n",
      "Tweet Text:  A shoutout to my favorite #microurban #tech hub! You're welcome! @UIResearchPark @DTChampaign  https://t.co/3VwDlVoMo1\n",
      "-------------------------\n",
      "Tweet ID: 648941284552540160\n",
      "Tweeted by  UIResearchPark\n",
      "Created at  2015-09-29 19:23:53\n",
      "Location:  Hootsuite\n",
      "Tweet Text:  @YoureWelcomeCU highlights tech innovation from #ChampaignUrbana and much more: http://t.co/CXIbpNL3UH http://t.co/y3am3swGKU\n",
      "-------------------------\n",
      "Tweet ID: 648935289855983616\n",
      "Tweeted by  kolegraffvclink\n",
      "Created at  2015-09-29 19:00:04\n",
      "Location:  Twuffer\n",
      "Tweet Text:  Are you an Entrepreneur at the University of Illinois in Champaign ? If so, you will want to look at this. See=&gt; https://t.co/TVMxlEdo9d\n",
      "-------------------------\n",
      "Tweet ID: 648926844209770497\n",
      "Tweeted by  VPRSchook\n",
      "Created at  2015-09-29 18:26:30\n",
      "Location:  Twitter Web Client\n",
      "Tweet Text:  RT @vprillinois: Congrats @Illinois_Alma &amp; @DowAgro on launch of new Innovation Center at @UIResearchPark! http://t.co/yqDfUxwYt3 http://t.…\n",
      "-------------------------\n",
      "Tweet ID: 648916068182921216\n",
      "Tweeted by  RKNarayanan\n",
      "Created at  2015-09-29 17:43:41\n",
      "Location:  Twitter for Android\n",
      "Tweet Text:  RT @LauraFrerichs: Increase in startup funding in rare disease drugs, less regulation, better pricing | Arun Bhatia IV @UIResearchPark http…\n",
      "-------------------------\n",
      "Tweet ID: 648915986775719936\n",
      "Tweeted by  ILinnovations\n",
      "Created at  2015-09-29 17:43:22\n",
      "Location:  Echofon\n",
      "Tweet Text:  RT @LauraFrerichs: ILVentures Arun Bhatia talk @UIResearchPark on life science VC funding, 21% growth in 2015, bigger deals in fewer compan…\n",
      "-------------------------\n",
      "Tweet ID: 648915857905700864\n",
      "Tweeted by  ILinnovations\n",
      "Created at  2015-09-29 17:42:51\n",
      "Location:  Echofon\n",
      "Tweet Text:  RT @LauraFrerichs: Increase in startup funding in rare disease drugs, less regulation, better pricing | Arun Bhatia IV @UIResearchPark http…\n",
      "-------------------------\n",
      "Tweet ID: 648913938298601472\n",
      "Tweeted by  LauraFrerichs\n",
      "Created at  2015-09-29 17:35:13\n",
      "Location:  Twitter for iPhone\n",
      "Tweet Text:  Increase in startup funding in rare disease drugs, less regulation, better pricing | Arun Bhatia IV @UIResearchPark http://t.co/Nfd6zLLgAO\n",
      "-------------------------\n"
     ]
    }
   ],
   "source": [
    "term ='UIResearchPark'\n",
    "\n",
    "messages = []\n",
    "\n",
    "current_page = 1\n",
    "max_pages = 2\n",
    "\n",
    "while(current_page <= max_pages):\n",
    "    tweets = api.search(term, rpp=5)\n",
    "    for tweet in tweets:\n",
    "        messages.append(tweet)\n",
    "    current_page += 1\n",
    "\n",
    "for message in messages:\n",
    "    print(\"Tweet ID:\", message.id)\n",
    "    print('Tweeted by ', message.user.screen_name)\n",
    "    print(\"Created at \",message.created_at)\n",
    "    print(\"Location: \",message.source)\n",
    "    print('Tweet Text: ', message.text)\n",
    "    print('-------------------------')\n"
   ]
  },
  {
   "cell_type": "markdown",
   "metadata": {},
   "source": [
    "-----\n",
    "\n",
    "We can view the available attributes to display by using Python `dir`\n",
    "method to perform introspection. In the following code cell we\n",
    "explicitly remove _class_ methods to minimize the display list and focus\n",
    "on the items of interest.\n",
    "\n",
    "-----"
   ]
  },
  {
   "cell_type": "code",
   "execution_count": 5,
   "metadata": {
    "collapsed": false
   },
   "outputs": [
    {
     "data": {
      "text/plain": [
       "['_api',\n",
       " '_json',\n",
       " 'author',\n",
       " 'contributors',\n",
       " 'coordinates',\n",
       " 'created_at',\n",
       " 'destroy',\n",
       " 'entities',\n",
       " 'favorite',\n",
       " 'favorite_count',\n",
       " 'favorited',\n",
       " 'geo',\n",
       " 'id',\n",
       " 'id_str',\n",
       " 'in_reply_to_screen_name',\n",
       " 'in_reply_to_status_id',\n",
       " 'in_reply_to_status_id_str',\n",
       " 'in_reply_to_user_id',\n",
       " 'in_reply_to_user_id_str',\n",
       " 'is_quote_status',\n",
       " 'lang',\n",
       " 'metadata',\n",
       " 'parse',\n",
       " 'parse_list',\n",
       " 'place',\n",
       " 'possibly_sensitive',\n",
       " 'retweet',\n",
       " 'retweet_count',\n",
       " 'retweeted',\n",
       " 'retweets',\n",
       " 'source',\n",
       " 'source_url',\n",
       " 'text',\n",
       " 'truncated',\n",
       " 'user']"
      ]
     },
     "execution_count": 5,
     "metadata": {},
     "output_type": "execute_result"
    }
   ],
   "source": [
    "[att for att in dir(message) if '__' not in att]"
   ]
  },
  {
   "cell_type": "code",
   "execution_count": 6,
   "metadata": {
    "collapsed": false
   },
   "outputs": [
    {
     "data": {
      "text/plain": [
       "{'contributors': None,\n",
       " 'coordinates': None,\n",
       " 'created_at': 'Tue Sep 29 17:35:13 +0000 2015',\n",
       " 'entities': {'hashtags': [],\n",
       "  'media': [{'display_url': 'pic.twitter.com/Nfd6zLLgAO',\n",
       "    'expanded_url': 'http://twitter.com/LauraFrerichs/status/648913938298601472/photo/1',\n",
       "    'id': 648913931537289216,\n",
       "    'id_str': '648913931537289216',\n",
       "    'indices': [116, 138],\n",
       "    'media_url': 'http://pbs.twimg.com/media/CQFnyFsVEAA_Oy2.jpg',\n",
       "    'media_url_https': 'https://pbs.twimg.com/media/CQFnyFsVEAA_Oy2.jpg',\n",
       "    'sizes': {'large': {'h': 768, 'resize': 'fit', 'w': 1024},\n",
       "     'medium': {'h': 450, 'resize': 'fit', 'w': 600},\n",
       "     'small': {'h': 255, 'resize': 'fit', 'w': 340},\n",
       "     'thumb': {'h': 150, 'resize': 'crop', 'w': 150}},\n",
       "    'type': 'photo',\n",
       "    'url': 'http://t.co/Nfd6zLLgAO'}],\n",
       "  'symbols': [],\n",
       "  'urls': [],\n",
       "  'user_mentions': [{'id': 175415640,\n",
       "    'id_str': '175415640',\n",
       "    'indices': [100, 115],\n",
       "    'name': 'UIUC Research Park',\n",
       "    'screen_name': 'UIResearchPark'}]},\n",
       " 'favorite_count': 0,\n",
       " 'favorited': False,\n",
       " 'geo': None,\n",
       " 'id': 648913938298601472,\n",
       " 'id_str': '648913938298601472',\n",
       " 'in_reply_to_screen_name': None,\n",
       " 'in_reply_to_status_id': None,\n",
       " 'in_reply_to_status_id_str': None,\n",
       " 'in_reply_to_user_id': None,\n",
       " 'in_reply_to_user_id_str': None,\n",
       " 'is_quote_status': False,\n",
       " 'lang': 'en',\n",
       " 'metadata': {'iso_language_code': 'en', 'result_type': 'recent'},\n",
       " 'place': None,\n",
       " 'possibly_sensitive': False,\n",
       " 'retweet_count': 2,\n",
       " 'retweeted': False,\n",
       " 'source': '<a href=\"http://twitter.com/download/iphone\" rel=\"nofollow\">Twitter for iPhone</a>',\n",
       " 'text': 'Increase in startup funding in rare disease drugs, less regulation, better pricing | Arun Bhatia IV @UIResearchPark http://t.co/Nfd6zLLgAO',\n",
       " 'truncated': False,\n",
       " 'user': {'contributors_enabled': False,\n",
       "  'created_at': 'Tue Jun 30 03:10:51 +0000 2009',\n",
       "  'default_profile': True,\n",
       "  'default_profile_image': False,\n",
       "  'description': 'University of Illinois at Urbana-Champaign Research Park Director, also follow us @uiresearchpark',\n",
       "  'entities': {'description': {'urls': []},\n",
       "   'url': {'urls': [{'display_url': 'researchpark.illinois.edu',\n",
       "      'expanded_url': 'http://www.researchpark.illinois.edu',\n",
       "      'indices': [0, 22],\n",
       "      'url': 'http://t.co/bsP6fa9mRR'}]}},\n",
       "  'favourites_count': 503,\n",
       "  'follow_request_sent': False,\n",
       "  'followers_count': 944,\n",
       "  'following': True,\n",
       "  'friends_count': 395,\n",
       "  'geo_enabled': True,\n",
       "  'has_extended_profile': False,\n",
       "  'id': 52284598,\n",
       "  'id_str': '52284598',\n",
       "  'is_translation_enabled': False,\n",
       "  'is_translator': False,\n",
       "  'lang': 'en',\n",
       "  'listed_count': 49,\n",
       "  'location': 'Champaign, IL',\n",
       "  'name': 'Laura Frerichs',\n",
       "  'notifications': False,\n",
       "  'profile_background_color': 'C0DEED',\n",
       "  'profile_background_image_url': 'http://abs.twimg.com/images/themes/theme1/bg.png',\n",
       "  'profile_background_image_url_https': 'https://abs.twimg.com/images/themes/theme1/bg.png',\n",
       "  'profile_background_tile': False,\n",
       "  'profile_banner_url': 'https://pbs.twimg.com/profile_banners/52284598/1383570706',\n",
       "  'profile_image_url': 'http://pbs.twimg.com/profile_images/1694175341/laura_normal.jpg',\n",
       "  'profile_image_url_https': 'https://pbs.twimg.com/profile_images/1694175341/laura_normal.jpg',\n",
       "  'profile_link_color': '0084B4',\n",
       "  'profile_sidebar_border_color': 'C0DEED',\n",
       "  'profile_sidebar_fill_color': 'DDEEF6',\n",
       "  'profile_text_color': '333333',\n",
       "  'profile_use_background_image': True,\n",
       "  'protected': False,\n",
       "  'screen_name': 'LauraFrerichs',\n",
       "  'statuses_count': 1593,\n",
       "  'time_zone': None,\n",
       "  'url': 'http://t.co/bsP6fa9mRR',\n",
       "  'utc_offset': None,\n",
       "  'verified': False}}"
      ]
     },
     "execution_count": 6,
     "metadata": {},
     "output_type": "execute_result"
    }
   ],
   "source": [
    "# We can display the message data in JSON format\n",
    "message._json"
   ]
  },
  {
   "cell_type": "markdown",
   "metadata": {},
   "source": [
    "## Saving Tweets\n",
    "\n",
    "We can save tweets into MongoDB.\n",
    "\n",
    "-----"
   ]
  },
  {
   "cell_type": "code",
   "execution_count": 7,
   "metadata": {
    "collapsed": true
   },
   "outputs": [],
   "source": [
    "from pymongo import MongoClient\n",
    "\n",
    "# Establish a connection to MongoDB (uncomment only one of these lines)\n",
    "\n",
    "# For remote course server use\n",
    "#client = MongoClient(\"mongodb://10.0.3.126:27017\")\n",
    "\n",
    "# For local Docker server use\n",
    "client = MongoClient(\"mongodb://localhost:27017\")"
   ]
  },
  {
   "cell_type": "code",
   "execution_count": 8,
   "metadata": {
    "collapsed": false
   },
   "outputs": [],
   "source": [
    "# We will delete our working directory if it exists before recreating.\n",
    "\n",
    "dbname = 'tweet-database'\n",
    "if  dbname in client.database_names():\n",
    "    client.drop_database(dbname)\n",
    "\n",
    "db = client[dbname]\n",
    "tweets = db['tweets']\n",
    "\n",
    "for message in messages:\n",
    "    result = tweets.insert(message.__dict__['_json'])\n"
   ]
  },
  {
   "cell_type": "code",
   "execution_count": 9,
   "metadata": {
    "collapsed": false
   },
   "outputs": [
    {
     "name": "stdout",
     "output_type": "stream",
     "text": [
      "Number of tweets =  30\n"
     ]
    }
   ],
   "source": [
    "print(\"Number of tweets = \", tweets.count())"
   ]
  },
  {
   "cell_type": "code",
   "execution_count": 10,
   "metadata": {
    "collapsed": false
   },
   "outputs": [
    {
     "name": "stdout",
     "output_type": "stream",
     "text": [
      "Tweet ID: 649228565637152768\n",
      "Tweeted by  UIResearchPark\n",
      "Created at  Wed Sep 30 14:25:26 +0000 2015\n",
      "Location:  <a href=\"http://www.hootsuite.com\" rel=\"nofollow\">Hootsuite</a>\n",
      "Tweet Text:  RT @Inc: 5 Surprising Applications for Virtual Reality @Tess_Townsend http://t.co/B6YMN1yC1U\n"
     ]
    }
   ],
   "source": [
    "tweet = tweets.find_one()\n",
    "\n",
    "print(\"Tweet ID:\", tweet['id'])\n",
    "print('Tweeted by ', tweet['user']['screen_name'])\n",
    "print(\"Created at \", tweet['created_at'])\n",
    "print(\"Location: \", tweet['source'])\n",
    "print('Tweet Text: ', tweet['text'])"
   ]
  },
  {
   "cell_type": "code",
   "execution_count": 11,
   "metadata": {
    "collapsed": false
   },
   "outputs": [
    {
     "name": "stdout",
     "output_type": "stream",
     "text": [
      "Tweet ID: 649203518574870528\n",
      "RT @LauraFrerichs: Tim Hassinger, CEO of @DowAgro at grand opening of new Innovation Lab @UIResearchPark \"it's a special relationship\" http…\n",
      "-------------------------\n",
      "Tweet ID: 649203518574870528\n",
      "RT @LauraFrerichs: Tim Hassinger, CEO of @DowAgro at grand opening of new Innovation Lab @UIResearchPark \"it's a special relationship\" http…\n",
      "-------------------------\n"
     ]
    }
   ],
   "source": [
    "for tweet in tweets.find({\"retweet_count\": {'$gte': 5}}).sort('_id'):\n",
    "    print(\"Tweet ID:\", tweet['id'])\n",
    "    print(tweet['text'])\n",
    "    print('-------------------------')"
   ]
  },
  {
   "cell_type": "markdown",
   "metadata": {},
   "source": [
    "-----\n",
    "## Breakout Session\n",
    "\n",
    "During this breakout, you should work to integrate your Twitter application with a MongoDB (you probably want to create your own MongoDB database and collection). Specific problems you can attempt include the following:\n",
    "\n",
    "1. \n",
    "\n",
    "2. \n",
    "\n",
    "Additional, more advanced problems:\n",
    "\n",
    "1.\n",
    "\n",
    "-----"
   ]
  },
  {
   "cell_type": "markdown",
   "metadata": {
    "collapsed": true
   },
   "source": [
    "-----\n",
    "### Additional References\n",
    "\n",
    "2. \n",
    "\n",
    "-----\n",
    " "
   ]
  },
  {
   "cell_type": "markdown",
   "metadata": {},
   "source": [
    "### Return to the [Week Three](index.ipynb) index.\n",
    "\n",
    "-----"
   ]
  }
 ],
 "metadata": {
  "kernelspec": {
   "display_name": "Python 3",
   "language": "python",
   "name": "python3"
  },
  "language_info": {
   "codemirror_mode": {
    "name": "ipython",
    "version": 3
   },
   "file_extension": ".py",
   "mimetype": "text/x-python",
   "name": "python",
   "nbconvert_exporter": "python",
   "pygments_lexer": "ipython3",
   "version": "3.4.0"
  }
 },
 "nbformat": 4,
 "nbformat_minor": 0
}
