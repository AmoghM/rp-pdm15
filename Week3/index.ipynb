{
 "cells": [
  {
   "cell_type": "markdown",
   "metadata": {},
   "source": [
    "<DIV ALIGN=CENTER>\n",
    "\n",
    "# Practical Data Mining  \n",
    "## University of Illinois, Research Park  \n",
    "## Robert J. Brunner  \n",
    "## Fall 2015  \n",
    "  \n",
    "</DIV>  \n",
    "-----\n",
    "-----"
   ]
  },
  {
   "cell_type": "markdown",
   "metadata": {},
   "source": [
    "## Week 3: N/A\n",
    "\n",
    "### Draft Schedule:\n",
    "\n",
    "| Time |  Topic|\n",
    "|---|---|\n",
    "| 6:30-7:10 | Introduction    | \n",
    "| 7:10–7:30 | Introduction  | \n",
    "| 7:30-8:00 | Introduction |\n",
    "\n",
    "-----\n",
    "\n",
    "\n",
    "### Topic 1: [N/A][t1]\n",
    "\n",
    "The first topic this week is an introduction to \n",
    "\n",
    "### Topic 2: [N/A][t2]\n",
    "\n",
    "The second topics this week explores \n",
    "\n",
    "### Topic 3:  [N/A][t3]\n",
    "\n",
    "Our final topic in week three is \n",
    "\n",
    "\n",
    "-----\n",
    "\n",
    "[t1]: ./.ipynb\n",
    "[t2]: ./.ipynb\n",
    "[t3]: ./.ipynb"
   ]
  }
 ],
 "metadata": {
  "kernelspec": {
   "display_name": "Python 3",
   "language": "python",
   "name": "python3"
  },
  "language_info": {
   "codemirror_mode": {
    "name": "ipython",
    "version": 3
   },
   "file_extension": ".py",
   "mimetype": "text/x-python",
   "name": "python",
   "nbconvert_exporter": "python",
   "pygments_lexer": "ipython3",
   "version": "3.4.0"
  }
 },
 "nbformat": 4,
 "nbformat_minor": 0
}
