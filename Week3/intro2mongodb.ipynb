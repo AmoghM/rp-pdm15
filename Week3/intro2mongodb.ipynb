{
 "cells": [
  {
   "cell_type": "markdown",
   "metadata": {},
   "source": [
    "<DIV ALIGN=CENTER>\n",
    "\n",
    "# Introduction to MongoDB\n",
    "## Professor Robert J. Brunner\n",
    "  \n",
    "</DIV>  \n",
    "-----\n",
    "-----"
   ]
  },
  {
   "cell_type": "markdown",
   "metadata": {},
   "source": [
    "## Introduction\n",
    "\n",
    "Previously in this course, we have discussed .\n",
    "\n",
    "In this IPython Notebook, we explore using .\n",
    "\n",
    "https://en.wikipedia.org/wiki/MongoDB\n",
    "\n",
    "\n",
    "-----"
   ]
  },
  {
   "cell_type": "markdown",
   "metadata": {
    "collapsed": false
   },
   "source": [
    "## Python with MongoDB\n",
    "\n",
    "To use Python to interact with MongoDB, we need to use a suitable Python\n",
    "library. The recommended Python library is [_pymongo_][pymdb], which\n",
    "provides support for establishing a connection between a Python program\n",
    "and a MongoDB server as well as support tools for working with MongoDB. \n",
    "\n",
    "We have already installed _pymongo_ in the course Docker container;\n",
    "however, you can easily install is by using `pip`, for example to\n",
    "install _pymongo_ for use with Python3 for the current user, we can\n",
    "execute:\n",
    "\n",
    "```console\n",
    "pip3 install pymongo --user\n",
    "```\n",
    "\n",
    "Once this library is installed, we can import the MongoDB client to\n",
    "establish a connection and retrieve data and MongoDB information.\n",
    "\n",
    "```python\n",
    "from pymongo import MongoClient\n",
    "```\n",
    "\n",
    "-----\n",
    "\n",
    "[pymdb]: http://api.mongodb.org/python/current/"
   ]
  },
  {
   "cell_type": "code",
   "execution_count": 1,
   "metadata": {
    "collapsed": true
   },
   "outputs": [],
   "source": [
    "from pymongo import MongoClient"
   ]
  },
  {
   "cell_type": "markdown",
   "metadata": {},
   "source": [
    "## Local MongoDB Server\n",
    "\n",
    "To use a local MongoDB server, for instance, a MongoDB server running\n",
    "inside our course Docker container, we need to first start the server.\n",
    "To do this, open a terminal window inside the Docker container, most\n",
    "easily done using the _New_ menu on the JupyterHub Server homepage,\n",
    "followed by _Terminal_.\n",
    "\n",
    "![New Terminal](images/new-term.png)\n",
    "\n",
    "Inside this new terminal window, start up the MongoDB server by issuing\n",
    "the following command:\n",
    "\n",
    "```console mongod --nojournal ``` This will start the mongo database\n",
    "daemon with no journaling (since we are not worried about crash safety).\n",
    "This will produce a list of messages such as the following in your\n",
    "terminal window.\n",
    "\n",
    "![New MongoDB local server](images/new-mongod.png)\n",
    "\n",
    "At this point the local server is ready to start accepting connections.\n",
    "To open a connection to the localhost using pymongo, we establish a new\n",
    "MongoDB client:\n",
    "\n",
    "\n",
    "```python\n",
    "client = MongoClient()\n",
    "```\n",
    "\n",
    "which assumes a local server with default port. Alternatively, we can\n",
    "explicitly list the hostname and port, which is preferred since it is\n",
    "easier to recognize the server and port number, which can be easily\n",
    "changed when we move to a remote MongoDB server.\n",
    "\n",
    "```python\n",
    "client = MongoClient(\"mongodb://localhost:27017\")\n",
    "```\n",
    "\n",
    "which connects to the local MongoDB daemon using the default local host\n",
    "name and port.\n",
    "\n",
    "-----"
   ]
  },
  {
   "cell_type": "markdown",
   "metadata": {},
   "source": [
    "## Remote MongoDB Server\n",
    "\n",
    "To connect to a remote MongoDB server, for instance by using the course\n",
    "cluster system, we simply need the IP address for the server and the\n",
    "port number on which the MongoDB daemon is listening. For this course,\n",
    "Notebooks running on the course JupyterHub Server can access a MongoDB\n",
    "server on `10.0.3.126` and the default port number of `27017`:\n",
    "\n",
    "\n",
    "```python\n",
    "client = MongoClient(\"mongodb://10.0.3.126:27017\")\n",
    "```\n",
    "\n",
    "-----"
   ]
  },
  {
   "cell_type": "code",
   "execution_count": 2,
   "metadata": {
    "collapsed": true
   },
   "outputs": [],
   "source": [
    "# Establish a connection to MongoDB (uncomment only one of these lines)\n",
    "\n",
    "# For remote course server use\n",
    "#client = MongoClient(\"mongodb://10.0.3.126:27017\")\n",
    "\n",
    "# For local Docker server use\n",
    "client = MongoClient(\"mongodb://localhost:27017\")"
   ]
  },
  {
   "cell_type": "markdown",
   "metadata": {},
   "source": [
    "-----\n",
    "## MongoDB Database\n",
    "\n",
    "MongoDB provides storage for collections of documents. To manage a set\n",
    "of related collections, MongoDB uses the concept of a database. Thus a\n",
    "MongoDB database is similar to a standard relational database, which\n",
    "contains a collection of tables.\n",
    "\n",
    "In the next few sections, we explore the _pymongo_ library in a similar\n",
    "manner as the official [_pymongo_ tutorial][pymt]. In addition, in this\n",
    "Notebook we use dictionary style access to acquire a database,\n",
    "collection, or document. There is also an attribute style method to\n",
    "access these items, but dictionary style is preferred since it reinforces\n",
    "that concept that MongoDB is a document style database and that Python\n",
    "dictionaries are used to create document schema. In addition, the\n",
    "dictionary style enables names to be used that might not be legal Python\n",
    "names, such as `test-database`. \n",
    "\n",
    "-----\n",
    "[pymt]: http://api.mongodb.org/python/current/tutorial.html"
   ]
  },
  {
   "cell_type": "code",
   "execution_count": 32,
   "metadata": {
    "collapsed": false
   },
   "outputs": [
    {
     "name": "stdout",
     "output_type": "stream",
     "text": [
      "Existing databases: ['local', 'admin']\n"
     ]
    }
   ],
   "source": [
    "# We will delete our working directory if it exists before recreating.\n",
    "\n",
    "dbname = 'test-database'\n",
    "if  dbname in client.database_names():\n",
    "    client.drop_database(dbname)\n",
    "    \n",
    "print('Existing databases:', client.database_names())"
   ]
  },
  {
   "cell_type": "code",
   "execution_count": 33,
   "metadata": {
    "collapsed": false
   },
   "outputs": [
    {
     "name": "stdout",
     "output_type": "stream",
     "text": [
      "Existing databases: ['local', 'admin']\n"
     ]
    }
   ],
   "source": [
    "db = client['test-database']\n",
    "print('Existing databases:', client.database_names())"
   ]
  },
  {
   "cell_type": "markdown",
   "metadata": {},
   "source": [
    "----\n",
    "\n",
    "databases with no collections or with empty collections will not show up with database_names(). Same goes when we try to list empty collections in a database.\n",
    "\n",
    "An important note about collections (and databases) in MongoDB is that they are created lazily - none of the above commands have actually performed any operations on the MongoDB server. Collections and databases are created when the first document is inserted into them.\n",
    "\n",
    "\n",
    "Create collection.\n",
    "\n",
    "-----"
   ]
  },
  {
   "cell_type": "code",
   "execution_count": 34,
   "metadata": {
    "collapsed": false
   },
   "outputs": [
    {
     "name": "stdout",
     "output_type": "stream",
     "text": [
      "Existing databases: ['local', 'admin']\n",
      "Existing collections: []\n"
     ]
    }
   ],
   "source": [
    "collection = db['test_collection']\n",
    "\n",
    "print('Existing databases:', client.database_names())\n",
    "print('Existing collections:', db.collection_names())"
   ]
  },
  {
   "cell_type": "markdown",
   "metadata": {},
   "source": [
    "-----\n",
    "\n",
    "## Adding data\n",
    "\n",
    "insert data, first jsut basic stuff, then add in more complex.\n",
    "\n",
    "-----"
   ]
  },
  {
   "cell_type": "code",
   "execution_count": 35,
   "metadata": {
    "collapsed": false
   },
   "outputs": [
    {
     "name": "stdout",
     "output_type": "stream",
     "text": [
      "New Student ID:  560ac053107efe0053ec7e56\n"
     ]
    }
   ],
   "source": [
    "student = {'fname': 'Jane',\n",
    "           'lname': 'Doe',\n",
    "           'company': 'bdg surf shop'}\n",
    "\n",
    "students = db['students']\n",
    "\n",
    "jane_id = students.insert_one(student).inserted_id\n",
    "print(\"New Student ID: \", jane_id)"
   ]
  },
  {
   "cell_type": "code",
   "execution_count": 36,
   "metadata": {
    "collapsed": false
   },
   "outputs": [
    {
     "name": "stdout",
     "output_type": "stream",
     "text": [
      "Existing databases: ['test-database', 'local', 'admin']\n",
      "Existing collections: ['students', 'system.indexes']\n"
     ]
    }
   ],
   "source": [
    "print('Existing databases:', client.database_names())\n",
    "print('Existing collections:', db.collection_names())"
   ]
  },
  {
   "cell_type": "markdown",
   "metadata": {},
   "source": [
    "-----\n",
    "\n",
    "Insert two new documents with different schema\n",
    "\n",
    "-----"
   ]
  },
  {
   "cell_type": "code",
   "execution_count": 37,
   "metadata": {
    "collapsed": false
   },
   "outputs": [
    {
     "name": "stdout",
     "output_type": "stream",
     "text": [
      "New Student ID:  560ac058107efe0053ec7e57\n"
     ]
    }
   ],
   "source": [
    "student = {'fname': 'John',\n",
    "           'lname': 'Doe',\n",
    "           'company': 'bdg surf shop',\n",
    "           'lucky_numbers': [2, 5, 9, 13, 27]}\n",
    "\n",
    "john_id = students.insert_one(student).inserted_id\n",
    "print(\"New Student ID: \", john_id)"
   ]
  },
  {
   "cell_type": "code",
   "execution_count": 38,
   "metadata": {
    "collapsed": false
   },
   "outputs": [
    {
     "name": "stdout",
     "output_type": "stream",
     "text": [
      "New Student ID:  560ac05c107efe0053ec7e58\n"
     ]
    }
   ],
   "source": [
    "import datetime\n",
    "\n",
    "student = {'fname': 'Pat',\n",
    "           'lname': 'Doe',\n",
    "           'company': 'bdg surf shop',\n",
    "           'hire_date': datetime.datetime.utcnow()}\n",
    "\n",
    "pat_id = students.insert_one(student).inserted_id\n",
    "print(\"New Student ID: \", pat_id)"
   ]
  },
  {
   "cell_type": "code",
   "execution_count": 50,
   "metadata": {
    "collapsed": false
   },
   "outputs": [
    {
     "name": "stdout",
     "output_type": "stream",
     "text": [
      "Number of students =  5\n"
     ]
    }
   ],
   "source": [
    "print(\"Number of students = \", students.count())"
   ]
  },
  {
   "cell_type": "markdown",
   "metadata": {},
   "source": [
    "-----\n",
    "\n",
    "Find one, specific one, or iterate through all.\n",
    "\n",
    "-----"
   ]
  },
  {
   "cell_type": "code",
   "execution_count": 39,
   "metadata": {
    "collapsed": false
   },
   "outputs": [
    {
     "data": {
      "text/plain": [
       "{'_id': ObjectId('560ac053107efe0053ec7e56'),\n",
       " 'company': 'bdg surf shop',\n",
       " 'fname': 'Jane',\n",
       " 'lname': 'Doe'}"
      ]
     },
     "execution_count": 39,
     "metadata": {},
     "output_type": "execute_result"
    }
   ],
   "source": [
    "students.find_one()"
   ]
  },
  {
   "cell_type": "code",
   "execution_count": 41,
   "metadata": {
    "collapsed": false
   },
   "outputs": [
    {
     "data": {
      "text/plain": [
       "{'_id': ObjectId('560ac05c107efe0053ec7e58'),\n",
       " 'company': 'bdg surf shop',\n",
       " 'fname': 'Pat',\n",
       " 'hire_date': datetime.datetime(2015, 9, 29, 16, 46, 20, 639000),\n",
       " 'lname': 'Doe'}"
      ]
     },
     "execution_count": 41,
     "metadata": {},
     "output_type": "execute_result"
    }
   ],
   "source": [
    "students.find_one({\"_id\": pat_id})"
   ]
  },
  {
   "cell_type": "code",
   "execution_count": 51,
   "metadata": {
    "collapsed": false
   },
   "outputs": [
    {
     "name": "stdout",
     "output_type": "stream",
     "text": [
      "{'_id': ObjectId('560ac053107efe0053ec7e56'), 'fname': 'Jane', 'lname': 'Doe', 'company': 'bdg surf shop'}\n",
      "{'_id': ObjectId('560ac058107efe0053ec7e57'), 'fname': 'John', 'lucky_numbers': [2, 5, 9, 13, 27], 'lname': 'Doe', 'company': 'bdg surf shop'}\n",
      "{'_id': ObjectId('560ac05c107efe0053ec7e58'), 'fname': 'Pat', 'hire_date': datetime.datetime(2015, 9, 29, 16, 46, 20, 639000), 'lname': 'Doe', 'company': 'bdg surf shop'}\n",
      "{'_id': ObjectId('560ac256107efe0053ec7e59'), 'fname': 'Mike', 'lname': 'Simone', 'products': [{'name': 'eyeware', 'id': 1}, {'name': 'hat', 'id': 2}], 'company': 'Del Ray Enterprises'}\n",
      "{'_id': ObjectId('560ac256107efe0053ec7e5a'), 'fname': 'Clair', 'lname': 'Hwu', 'comment': 'Great supplier, fast, fair, and courteous.', 'company': 'Hoboken Surfware Incorporated'}\n"
     ]
    }
   ],
   "source": [
    "for student in students.find():\n",
    "    print(student)"
   ]
  },
  {
   "cell_type": "markdown",
   "metadata": {},
   "source": [
    "-----\n",
    "\n",
    "Insert new documents and get updated count\n",
    "\n",
    "-----"
   ]
  },
  {
   "cell_type": "code",
   "execution_count": 45,
   "metadata": {
    "collapsed": false
   },
   "outputs": [
    {
     "name": "stdout",
     "output_type": "stream",
     "text": [
      "[ObjectId('560ac256107efe0053ec7e59'), ObjectId('560ac256107efe0053ec7e5a')]\n"
     ]
    }
   ],
   "source": [
    "new_students = [\n",
    "    {'fname': 'Mike',\n",
    "     'lname': 'Simone',\n",
    "     'company': 'Del Ray Enterprises',\n",
    "    'products': [{'id': 1, 'name': 'eyeware'}, {'id': 2, 'name': 'hat'},]},\n",
    "    {'fname': 'Clair',\n",
    "     'lname': 'Hwu',\n",
    "     'company': 'Hoboken Surfware Incorporated',\n",
    "     'comment': 'Great supplier, fast, fair, and courteous.'}]\n",
    "\n",
    "result = students.insert_many(new_students)\n",
    "\n",
    "print(result.inserted_ids)"
   ]
  },
  {
   "cell_type": "code",
   "execution_count": 52,
   "metadata": {
    "collapsed": false
   },
   "outputs": [
    {
     "name": "stdout",
     "output_type": "stream",
     "text": [
      "Number of students =  5\n"
     ]
    }
   ],
   "source": [
    "print(\"Number of students = \", students.count())"
   ]
  },
  {
   "cell_type": "markdown",
   "metadata": {},
   "source": [
    "-----\n",
    "\n",
    "find specific documents and get count\n",
    "\n",
    "-----"
   ]
  },
  {
   "cell_type": "code",
   "execution_count": 47,
   "metadata": {
    "collapsed": false
   },
   "outputs": [
    {
     "name": "stdout",
     "output_type": "stream",
     "text": [
      "{'_id': ObjectId('560ac256107efe0053ec7e5a'), 'fname': 'Clair', 'lname': 'Hwu', 'comment': 'Great supplier, fast, fair, and courteous.', 'company': 'Hoboken Surfware Incorporated'}\n"
     ]
    }
   ],
   "source": [
    "for student in students.find({\"lname\": \"Hwu\"}):\n",
    "    print(student)"
   ]
  },
  {
   "cell_type": "code",
   "execution_count": 55,
   "metadata": {
    "collapsed": false
   },
   "outputs": [
    {
     "name": "stdout",
     "output_type": "stream",
     "text": [
      "Number of students =  3\n"
     ]
    }
   ],
   "source": [
    "print(\"Number of students = \", students.find({\"lname\": \"Doe\"}).count())"
   ]
  },
  {
   "cell_type": "markdown",
   "metadata": {},
   "source": [
    "-----\n",
    "\n",
    "Extract specific elements\n",
    "\n",
    "-----"
   ]
  },
  {
   "cell_type": "code",
   "execution_count": 49,
   "metadata": {
    "collapsed": false
   },
   "outputs": [
    {
     "name": "stdout",
     "output_type": "stream",
     "text": [
      "Jane Doe\n",
      "John Doe\n",
      "Pat Doe\n",
      "Mike Simone\n",
      "Clair Hwu\n"
     ]
    }
   ],
   "source": [
    "for student in students.find():\n",
    "    print(student['fname'], student['lname'])"
   ]
  },
  {
   "cell_type": "markdown",
   "metadata": {},
   "source": [
    "----\n",
    "\n",
    "\n",
    "## Querying\n",
    "\n",
    "Full range of operators.\n",
    "\n",
    "http://www.mongodb.org/display/DOCS/Advanced+Queries\n"
   ]
  },
  {
   "cell_type": "code",
   "execution_count": 56,
   "metadata": {
    "collapsed": false
   },
   "outputs": [
    {
     "name": "stdout",
     "output_type": "stream",
     "text": [
      "{'_id': ObjectId('560ac053107efe0053ec7e56'), 'fname': 'Jane', 'lname': 'Doe', 'company': 'bdg surf shop'}\n",
      "{'_id': ObjectId('560ac058107efe0053ec7e57'), 'fname': 'John', 'lucky_numbers': [2, 5, 9, 13, 27], 'lname': 'Doe', 'company': 'bdg surf shop'}\n",
      "{'_id': ObjectId('560ac05c107efe0053ec7e58'), 'fname': 'Pat', 'hire_date': datetime.datetime(2015, 9, 29, 16, 46, 20, 639000), 'lname': 'Doe', 'company': 'bdg surf shop'}\n"
     ]
    }
   ],
   "source": [
    "for student in students.find({\"lname\": {'$eq': 'Doe'}}).sort('fname'):\n",
    "    print(student)"
   ]
  },
  {
   "cell_type": "markdown",
   "metadata": {},
   "source": [
    "-----\n",
    "## Breakout Session\n",
    "\n",
    "During this breakout, you should work with the previous MongoDB examples\n",
    "in order to better learn how MongoDB works, and how it is different than\n",
    "pure relational databases. Specific problems you can attempt\n",
    "include the following:\n",
    "\n",
    "1. \n",
    "\n",
    "2. \n",
    "\n",
    "3.\n",
    "\n",
    "Additional, more advanced problems:\n",
    "\n",
    "1. Read in Airline data (100k rows) and store in collection?\n",
    "\n",
    "-----"
   ]
  },
  {
   "cell_type": "markdown",
   "metadata": {
    "collapsed": true
   },
   "source": [
    "-----\n",
    "### Additional References\n",
    "\n",
    "\n",
    "2. \n",
    "\n",
    "-----\n"
   ]
  },
  {
   "cell_type": "markdown",
   "metadata": {},
   "source": [
    "### Return to the [Week Three](index.ipynb) index.\n",
    "\n",
    "-----"
   ]
  }
 ],
 "metadata": {
  "kernelspec": {
   "display_name": "Python 3",
   "language": "python",
   "name": "python3"
  },
  "language_info": {
   "codemirror_mode": {
    "name": "ipython",
    "version": 3
   },
   "file_extension": ".py",
   "mimetype": "text/x-python",
   "name": "python",
   "nbconvert_exporter": "python",
   "pygments_lexer": "ipython3",
   "version": "3.4.0"
  }
 },
 "nbformat": 4,
 "nbformat_minor": 0
}
